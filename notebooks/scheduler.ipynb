{
 "cells": [
  {
   "cell_type": "code",
   "execution_count": 1,
   "metadata": {},
   "outputs": [],
   "source": [
    "# Code to be able to import local modules in notebooks\n",
    "import os\n",
    "import sys\n",
    "module_path = os.path.abspath(os.path.join('..'))\n",
    "if module_path not in sys.path:\n",
    "    sys.path.append(module_path)"
   ]
  },
  {
   "cell_type": "code",
   "execution_count": 2,
   "metadata": {},
   "outputs": [],
   "source": [
    "### Import dependencies\n",
    "# Standard python libraries\n",
    "import os\n",
    "# Third party libraries\n",
    "import pandas as pd\n",
    "# Custom packages\n",
    "from ffpackage.scraping import mfl\n",
    "from ffpackage.analysis import analysis\n",
    "from ffpackage.viz import viz\n",
    "from appmanager.database import db"
   ]
  },
  {
   "cell_type": "code",
   "execution_count": 3,
   "metadata": {},
   "outputs": [],
   "source": [
    "# Find environment variables\n",
    "DATABASE_URL = os.environ.get(\"DATABASE_URL\", None)\n",
    "# sqlalchemy deprecated urls which begin with \"postgres://\"; now it needs to start with \"postgresql://\"\n",
    "if DATABASE_URL.startswith(\"postgres://\"):\n",
    "    DATABASE_URL = DATABASE_URL.replace(\"postgres://\", \"postgresql://\", 1)\n"
   ]
  },
  {
   "cell_type": "code",
   "execution_count": 4,
   "metadata": {},
   "outputs": [
    {
     "name": "stderr",
     "output_type": "stream",
     "text": [
      "/Users/travisharry/Desktop/Coding/ff_demo2/appmanager/database/db.py:20: UserWarning: pandas only supports SQLAlchemy connectable (engine/connection) or database string URI or sqlite3 DBAPI2 connection. Other DBAPI2 objects are not tested. Please consider using SQLAlchemy.\n",
      "  result = pd.read_sql(query, conn)\n",
      "/var/folders/ss/nt9sccdn5w91sbtr85gybrnm0000gn/T/ipykernel_35862/3497383796.py:21: FutureWarning: The behavior of `series[i:j]` with an integer-dtype index is deprecated. In a future version, this will be treated as *label-based* indexing, consistent with e.g. `series[i]` lookups. To retain the old behavior, use `series.iloc[i:j]`. To get the future behavior, use `series.loc[i:j]`.\n",
      "  list_df = [ageNeeded['id_mfl'][i:i+n] for i in range(0,ageNeeded['id_mfl'].shape[0],n)]\n",
      "/var/folders/ss/nt9sccdn5w91sbtr85gybrnm0000gn/T/ipykernel_35862/3497383796.py:29: FutureWarning: The frame.append method is deprecated and will be removed from pandas in a future version. Use pandas.concat instead.\n",
      "  player_dobs = player_dobs.append(new_dobs)\n",
      "/var/folders/ss/nt9sccdn5w91sbtr85gybrnm0000gn/T/ipykernel_35862/3497383796.py:29: FutureWarning: The frame.append method is deprecated and will be removed from pandas in a future version. Use pandas.concat instead.\n",
      "  player_dobs = player_dobs.append(new_dobs)\n"
     ]
    }
   ],
   "source": [
    "# Retrieve basic info on all players\n",
    "allPlayers = mfl.get_players()\n",
    "# Retrieve Fantasy Sharks rankings\n",
    "sharkRanks = mfl.get_sharkRanks()\n",
    "# Retrieve Average Draft Positions\n",
    "adpValues = mfl.get_adp()\n",
    "\n",
    "# Find player ages\n",
    "# Retrieve any player dobs who are already in the db\n",
    "player_dobs = db.get_df('player_dobs')\n",
    "# Rename the dob columns until I can get to that in the app setup\n",
    "player_dobs = player_dobs.rename(columns={'PlayerID':'id_mfl', 'DOB':'dob', 'Age':'age'})\n",
    "# Check for any players whose ages are not already in the db\n",
    "ageNeeded = allPlayers.loc[~allPlayers['id_mfl'].isin(player_dobs['id_mfl'])]\n",
    "# If there are players whose ages are not in the db, retrieve those ages from My Fantasy League\n",
    "if len(ageNeeded)>0:\n",
    "    # Break player list into chunks small enough for the API server\n",
    "    # Specify chunk size\n",
    "    n = 50\n",
    "    # Slice the df where ages are needed into chunks\n",
    "    list_df = [ageNeeded['id_mfl'][i:i+n] for i in range(0,ageNeeded['id_mfl'].shape[0],n)]\n",
    "    # Loop over the chunks\n",
    "    for i in range(len(list_df)):\n",
    "        # Join the playerIDs into a string to use in building the API call\n",
    "        idList = \",\".join(list_df[i])\n",
    "        # Retrieve the dates of birth for these players from My Fantasy League\n",
    "        new_dobs = mfl.get_playerProfiles(idList)\n",
    "        # Append these players to the list that already existed in the app's database\n",
    "        player_dobs = player_dobs.append(new_dobs)\n",
    "# Convert date columns to datetime\n",
    "player_dobs['dob'] = pd.to_datetime(player_dobs['dob'])\n",
    "# Convert Date of Birth to Age using datetime's relativedelta module\n",
    "player_dobs['age'] = player_dobs['dob'].apply(analysis.calculate_age)"
   ]
  },
  {
   "cell_type": "code",
   "execution_count": null,
   "metadata": {},
   "outputs": [],
   "source": [
    "# Merge all dfs from MyFantasyLeague API\n",
    "scrape1 = scrape1.merge(player_dobs, on='PlayerID', how='left')\n",
    "scrape1 = scrape1.drop(columns='DOB')\n",
    "scrape1 = scrape1.merge(shark_df, on='PlayerID', how='left').merge(adp_df, on='PlayerID', how='left')\n",
    "scrape1['SharkRank'].fillna(3000, inplace=True)\n",
    "scrape1['ADP'].fillna(3000, inplace=True)\n",
    "scrape1 = scrape1.sort_values(by=['SharkRank'])\n",
    "scrape1.reset_index(inplace=True, drop=True)  \n",
    "\n",
    "### Clean MFL data\n",
    "## Select only relevant positions\n",
    "scrape1 = scrape1.loc[scrape1['Position'].isin(['QB', 'WR', 'RB', 'TE', 'PK', 'Def'])]\n",
    "scrape1 = scrape1.reset_index(drop=True)\n",
    "## Clean Name column\n",
    "to_join = scrape1['Name'].str.split(\", \", n=1, expand=True)\n",
    "to_join.columns = ['lname', 'fname']\n",
    "to_join['Name'] = to_join['fname'] + \" \" + to_join['lname']\n",
    "scrape1['Name'] = to_join['Name']\n",
    "# Change name to Title Case\n",
    "scrape1['Name'] = scrape1['Name'].str.upper()\n",
    "# Drop name punctuation\n",
    "scrape1['Name'] = scrape1['Name'].str.replace(\".\", \"\")\n",
    "scrape1['Name'] = scrape1['Name'].str.replace(\",\", \"\")\n",
    "scrape1['Name'] = scrape1['Name'].str.replace(\"'\", \"\")\n",
    "## Clean position column\n",
    "scrape1['Position'] = scrape1['Position'].replace('Def', 'DF')\n",
    "# Clean Team column\n",
    "scrape1['Team'] = scrape1['Team'].replace('FA*', 'FA')\n",
    "## Change column names\n",
    "scrape1.columns = ['id_mfl', 'player', 'pos_mfl', 'team', 'age', 'sharkRank', 'adp']\n",
    "scrape1"
   ]
  }
 ],
 "metadata": {
  "kernelspec": {
   "display_name": "Python 3.10.4 ('ff_demo2')",
   "language": "python",
   "name": "python3"
  },
  "language_info": {
   "codemirror_mode": {
    "name": "ipython",
    "version": 3
   },
   "file_extension": ".py",
   "mimetype": "text/x-python",
   "name": "python",
   "nbconvert_exporter": "python",
   "pygments_lexer": "ipython3",
   "version": "3.10.4"
  },
  "orig_nbformat": 4,
  "vscode": {
   "interpreter": {
    "hash": "fa5c3a6218a07f7e7894681e1df75f026830424c1bd98bfea49c545e1f4b9302"
   }
  }
 },
 "nbformat": 4,
 "nbformat_minor": 2
}

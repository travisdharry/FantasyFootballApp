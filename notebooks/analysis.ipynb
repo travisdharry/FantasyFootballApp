{
 "cells": [
  {
   "cell_type": "code",
   "execution_count": 57,
   "metadata": {},
   "outputs": [],
   "source": [
    "import pandas as pd\n",
    "import numpy as np\n",
    "from datetime import datetime, date\n",
    "from dateutil.relativedelta import *"
   ]
  },
  {
   "cell_type": "code",
   "execution_count": 87,
   "metadata": {},
   "outputs": [],
   "source": [
    "# Passed arguments\n",
    "df = pd.read_csv(\"../data/calculate_ffpoints.csv\")\n",
    "\n",
    "scoringDict = {\n",
    "    'passA': {\"multiplier\":0, \"bins\":[-np.inf, np.inf], \"labels\":[0]},\n",
    "    'passC': {\"multiplier\":0, \"bins\":[-np.inf, np.inf], \"labels\":[0]},\n",
    "    'passY': {\"multiplier\":0.04, \"bins\":[-np.inf, np.inf], \"labels\":[0]},\n",
    "    'passT': {\"multiplier\":4, \"bins\":[-np.inf, np.inf], \"labels\":[0]},\n",
    "    'passI': {\"multiplier\":-2, \"bins\":[-np.inf, np.inf], \"labels\":[0]},\n",
    "    'pass2': {\"multiplier\":2, \"bins\":[-np.inf, np.inf], \"labels\":[0]},\n",
    "    'rushA': {\"multiplier\":0.1, \"bins\":[-np.inf, np.inf], \"labels\":[0]},\n",
    "    'rushY': {\"multiplier\":0.1, \"bins\":[-np.inf, np.inf], \"labels\":[0]},\n",
    "    'rushT': {\"multiplier\":6, \"bins\":[-np.inf, np.inf], \"labels\":[0]},\n",
    "    'rush2': {\"multiplier\":2, \"bins\":[-np.inf, np.inf], \"labels\":[0]},\n",
    "    'recC': {\"multiplier\":0.25, \"bins\":[-np.inf, np.inf], \"labels\":[0]},\n",
    "    'recY': {\"multiplier\":0.1, \"bins\":[-np.inf, np.inf], \"labels\":[0]},\n",
    "    'recT': {\"multiplier\":6, \"bins\":[-np.inf, np.inf], \"labels\":[0]},\n",
    "    'rec2': {\"multiplier\":2, \"bins\":[-np.inf, np.inf], \"labels\":[0]},\n",
    "    'fum': {\"multiplier\":-2, \"bins\":[-np.inf, np.inf], \"labels\":[0]},\n",
    "    'XPA': {\"multiplier\":0, \"bins\":[-np.inf, np.inf], \"labels\":[0]},\n",
    "    'XPM': {\"multiplier\":3, \"bins\":[-np.inf, np.inf], \"labels\":[0]},\n",
    "    'FGA': {\"multiplier\":0, \"bins\":[-np.inf, np.inf], \"labels\":[0]},\n",
    "    'FGM': {\"multiplier\":3, \"bins\":[-np.inf, np.inf], \"labels\":[0]},\n",
    "    'FG50': {\"multiplier\":5, \"bins\":[-np.inf, np.inf], \"labels\":[0]},\n",
    "    'defSack': {\"multiplier\":1, \"bins\":[-np.inf, np.inf], \"labels\":[0]},\n",
    "    'defI': {\"multiplier\":2, \"bins\":[-np.inf, np.inf], \"labels\":[0]},\n",
    "    'defSaf': {\"multiplier\":2, \"bins\":[-np.inf, np.inf], \"labels\":[0]},\n",
    "    'defFum': {\"multiplier\":2, \"bins\":[-np.inf, np.inf], \"labels\":[0]},\n",
    "    'defBlk': {\"multiplier\":1.5, \"bins\":[-np.inf, np.inf], \"labels\":[0]},\n",
    "    'defT': {\"multiplier\":6, \"bins\":[-np.inf, np.inf], \"labels\":[0]},\n",
    "    'defPtsAgainst': {\"multiplier\":0, \"bins\":[-5,0,6,13,17,21,27,34,45,59,99], \"labels\":[10,8,7,5,3,2,0,-1,-3,-5]},\n",
    "    'defPassYAgainst': {\"multiplier\":0, \"bins\":[-np.inf, np.inf], \"labels\":[0]},\n",
    "    'defRushYAgainst': {\"multiplier\":0, \"bins\":[-np.inf, np.inf], \"labels\":[0]},\n",
    "    'defYdsAgainst': {\"multiplier\":0, \"bins\":[0,274,324,375,425,999], \"labels\":[5,2,0,-2,-5]}\n",
    "}\n"
   ]
  },
  {
   "cell_type": "code",
   "execution_count": 88,
   "metadata": {},
   "outputs": [
    {
     "name": "stderr",
     "output_type": "stream",
     "text": [
      "/var/folders/ss/nt9sccdn5w91sbtr85gybrnm0000gn/T/ipykernel_2163/3874509699.py:18: FutureWarning: In a future version, `df.iloc[:, i] = newvals` will attempt to set the values inplace instead of always setting a new array. To retain the old behavior, use either `df[df.columns[i]] = newvals` or, if columns are non-unique, `df.isetitem(i, newvals)`\n",
      "  scoresBonus.loc[:, scoringDict.keys()] = scoresBonus.loc[:, scoringDict.keys()].astype('float64')\n"
     ]
    }
   ],
   "source": [
    "#def calculate_scoresFF(df, scoringDict):\n",
    "# Multiply the nflStats by the mulitplier row to make dfA\n",
    "multiplier = {key:value[\"multiplier\"] for (key, value) in scoringDict.items()}\n",
    "scoresBase = df.copy()\n",
    "scoresBase.loc[:, scoringDict.keys()] = scoresBase.loc[:, scoringDict.keys()].mul(multiplier)\n",
    "# Bin and cut the nflStats into dfB\n",
    "scoresBonus = df.copy()\n",
    "for colName in scoringDict.keys():\n",
    "    scoresBonus[colName] = pd.cut(\n",
    "        scoresBonus[colName], \n",
    "        bins=scoringDict[colName][\"bins\"], \n",
    "        include_lowest=True, \n",
    "        labels=scoringDict[colName][\"labels\"]\n",
    "    )\n",
    "# Remove defensive scoring bonuses from offensive players\n",
    "defensiveCategories = ['defBlk', 'defT', 'defPtsAgainst', 'defPassYAgainst', 'defRushYAgainst', 'defYdsAgainst']\n",
    "scoresBonus.loc[scoresBonus['pos']!='DF', defensiveCategories] = 0\n",
    "scoresBonus.loc[:, scoringDict.keys()] = scoresBonus.loc[:, scoringDict.keys()].astype('float64')\n",
    "# Add dfA and dfB\n",
    "scoresTotal = scoresBase.loc[:, scoringDict.keys()].add(scoresBonus.loc[:, scoringDict.keys()])\n",
    "# Create summary table \n",
    "analyzed = df.drop(columns=scoringDict.keys())\n",
    "# Add together scores from each scoring category (sum across the row)\n",
    "analyzed['scoreTotal'] = scoresTotal.sum(axis=1)\n",
    "#    return analyzed\n"
   ]
  }
 ],
 "metadata": {
  "kernelspec": {
   "display_name": "Python 3.10.4 ('ff_demo2')",
   "language": "python",
   "name": "python3"
  },
  "language_info": {
   "codemirror_mode": {
    "name": "ipython",
    "version": 3
   },
   "file_extension": ".py",
   "mimetype": "text/x-python",
   "name": "python",
   "nbconvert_exporter": "python",
   "pygments_lexer": "ipython3",
   "version": "3.10.4"
  },
  "orig_nbformat": 4,
  "vscode": {
   "interpreter": {
    "hash": "fa5c3a6218a07f7e7894681e1df75f026830424c1bd98bfea49c545e1f4b9302"
   }
  }
 },
 "nbformat": 4,
 "nbformat_minor": 2
}

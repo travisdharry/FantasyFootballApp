{
 "cells": [
  {
   "cell_type": "code",
   "execution_count": 1,
   "metadata": {},
   "outputs": [],
   "source": [
    "import pandas as pd"
   ]
  },
  {
   "cell_type": "code",
   "execution_count": null,
   "metadata": {},
   "outputs": [],
   "source": [
    "def rosterBuilder(df, values):\n",
    "    # priority queue algorithm?\n",
    "    # Normalize predictions 0-1\n",
    "    # level 1: superflex_candidates = pred\n",
    "    # level 2: flex_candidates = pred + 1\n",
    "    # level 3: positions = pred + 2\n",
    "    \n",
    "    df.loc[(df.pos==\"QB\") & (df.fielded!='Playing'), 'fielded'] = \n",
    "    return df\n",
    "rosterBuilder()"
   ]
  }
 ],
 "metadata": {
  "kernelspec": {
   "display_name": "Python 3.10.4 ('ff_demo2')",
   "language": "python",
   "name": "python3"
  },
  "language_info": {
   "codemirror_mode": {
    "name": "ipython",
    "version": 3
   },
   "file_extension": ".py",
   "mimetype": "text/x-python",
   "name": "python",
   "nbconvert_exporter": "python",
   "pygments_lexer": "ipython3",
   "version": "3.10.4"
  },
  "orig_nbformat": 4,
  "vscode": {
   "interpreter": {
    "hash": "fa5c3a6218a07f7e7894681e1df75f026830424c1bd98bfea49c545e1f4b9302"
   }
  }
 },
 "nbformat": 4,
 "nbformat_minor": 2
}

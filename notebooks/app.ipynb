{
 "cells": [
  {
   "cell_type": "code",
   "execution_count": 1,
   "metadata": {},
   "outputs": [],
   "source": [
    "# Code to be able to import local modules in notebooks\n",
    "import os\n",
    "import sys\n",
    "module_path = os.path.abspath(os.path.join('..'))\n",
    "if module_path not in sys.path:\n",
    "    sys.path.append(module_path)"
   ]
  },
  {
   "cell_type": "code",
   "execution_count": 2,
   "metadata": {},
   "outputs": [],
   "source": [
    "\n",
    "# Import dependencies\n",
    "# Standard python libraries\n",
    "import os\n",
    "import json\n",
    "\n",
    "# Third party libraries\n",
    "from oauthlib.oauth2 import WebApplicationClient\n",
    "import pandas as pd\n",
    "import numpy as np\n",
    "\n",
    "# Internal imports\n",
    "from ffpackage import mfl, analysis, viz\n",
    "from appmanager import db, user\n",
    "\n",
    "# Configuration (These variables are stored as environment variables)\n",
    "GOOGLE_CLIENT_ID = os.environ.get(\"GOOGLE_CLIENT_ID\", None)\n",
    "GOOGLE_CLIENT_SECRET = os.environ.get(\"GOOGLE_CLIENT_SECRET\", None)\n",
    "GOOGLE_DISCOVERY_URL = (\"https://accounts.google.com/.well-known/openid-configuration\")\n",
    "\n",
    "\n",
    "# Working variables\n",
    "user_league = \"53906\"\n",
    "user_franchise = \"0005\"\n",
    "current_week = 15"
   ]
  },
  {
   "cell_type": "code",
   "execution_count": 20,
   "metadata": {},
   "outputs": [
    {
     "data": {
      "text/plain": [
       "'{\"0\":\"Providence Monastic Spirits\",\"1\":\"Washington Fantasy Football Team\",\"2\":\"Verdansk Vaqueros FFC\",\"3\":\"Down with the Sickness unto Death\",\"4\":\"Crocodilopolis Body Snatchers\",\"5\":\"O\\'Henry\\'s Stiffies\",\"6\":\"Comeback Kings\",\"7\":\"WHAM! BAM! Thank You CAM!\",\"8\":\"Pretty Big Wieners\",\"9\":\"Saskatoon Squatches\",\"10\":\"Gus The Bus\",\"11\":\"IDK much about soccer \"}'"
      ]
     },
     "execution_count": 20,
     "metadata": {},
     "output_type": "execute_result"
    }
   ],
   "source": [
    "#def getFranchise():\n",
    "\n",
    "#franchises = mfl.get_franchises(user_league)['franchiseName'].to_list()\n",
    "franchises = mfl.get_franchises(user_league)['franchiseName'].to_json()\n",
    "\n",
    "franchises"
   ]
  },
  {
   "cell_type": "code",
   "execution_count": 9,
   "metadata": {},
   "outputs": [
    {
     "data": {
      "text/html": [
       "<div>\n",
       "<style scoped>\n",
       "    .dataframe tbody tr th:only-of-type {\n",
       "        vertical-align: middle;\n",
       "    }\n",
       "\n",
       "    .dataframe tbody tr th {\n",
       "        vertical-align: top;\n",
       "    }\n",
       "\n",
       "    .dataframe thead th {\n",
       "        text-align: right;\n",
       "    }\n",
       "</style>\n",
       "<table border=\"1\" class=\"dataframe\">\n",
       "  <thead>\n",
       "    <tr style=\"text-align: right;\">\n",
       "      <th></th>\n",
       "      <th>id_mfl</th>\n",
       "      <th>season</th>\n",
       "      <th>week</th>\n",
       "      <th>team</th>\n",
       "      <th>playerName</th>\n",
       "      <th>age</th>\n",
       "      <th>sharkRank</th>\n",
       "      <th>adp</th>\n",
       "      <th>KR</th>\n",
       "      <th>PR</th>\n",
       "      <th>...</th>\n",
       "      <th>defSack</th>\n",
       "      <th>defI</th>\n",
       "      <th>defSaf</th>\n",
       "      <th>defFum</th>\n",
       "      <th>defBlk</th>\n",
       "      <th>defT</th>\n",
       "      <th>defPtsAgainst</th>\n",
       "      <th>defPassYAgainst</th>\n",
       "      <th>defRushYAgainst</th>\n",
       "      <th>defYdsAgainst</th>\n",
       "    </tr>\n",
       "  </thead>\n",
       "  <tbody>\n",
       "    <tr>\n",
       "      <th>0</th>\n",
       "      <td>5848</td>\n",
       "      <td>2022</td>\n",
       "      <td>1.0</td>\n",
       "      <td>TBB</td>\n",
       "      <td>TOM BRADY</td>\n",
       "      <td>45.0</td>\n",
       "      <td>224.0</td>\n",
       "      <td>3000</td>\n",
       "      <td>0</td>\n",
       "      <td>0</td>\n",
       "      <td>...</td>\n",
       "      <td>0.000000</td>\n",
       "      <td>0.000000</td>\n",
       "      <td>0.000000</td>\n",
       "      <td>0.000000</td>\n",
       "      <td>0.000000</td>\n",
       "      <td>0.000000</td>\n",
       "      <td>0.000000</td>\n",
       "      <td>0.000000</td>\n",
       "      <td>0.000000</td>\n",
       "      <td>0.000000</td>\n",
       "    </tr>\n",
       "    <tr>\n",
       "      <th>1</th>\n",
       "      <td>5848</td>\n",
       "      <td>2022</td>\n",
       "      <td>2.0</td>\n",
       "      <td>TBB</td>\n",
       "      <td>TOM BRADY</td>\n",
       "      <td>45.0</td>\n",
       "      <td>224.0</td>\n",
       "      <td>3000</td>\n",
       "      <td>0</td>\n",
       "      <td>0</td>\n",
       "      <td>...</td>\n",
       "      <td>0.000000</td>\n",
       "      <td>0.000000</td>\n",
       "      <td>0.000000</td>\n",
       "      <td>0.000000</td>\n",
       "      <td>0.000000</td>\n",
       "      <td>0.000000</td>\n",
       "      <td>0.000000</td>\n",
       "      <td>0.000000</td>\n",
       "      <td>0.000000</td>\n",
       "      <td>0.000000</td>\n",
       "    </tr>\n",
       "    <tr>\n",
       "      <th>2</th>\n",
       "      <td>5848</td>\n",
       "      <td>2022</td>\n",
       "      <td>6.0</td>\n",
       "      <td>TBB</td>\n",
       "      <td>TOM BRADY</td>\n",
       "      <td>45.0</td>\n",
       "      <td>224.0</td>\n",
       "      <td>3000</td>\n",
       "      <td>0</td>\n",
       "      <td>0</td>\n",
       "      <td>...</td>\n",
       "      <td>0.000000</td>\n",
       "      <td>0.000000</td>\n",
       "      <td>0.000000</td>\n",
       "      <td>0.000000</td>\n",
       "      <td>0.000000</td>\n",
       "      <td>0.000000</td>\n",
       "      <td>0.000000</td>\n",
       "      <td>0.000000</td>\n",
       "      <td>0.000000</td>\n",
       "      <td>0.000000</td>\n",
       "    </tr>\n",
       "    <tr>\n",
       "      <th>3</th>\n",
       "      <td>5848</td>\n",
       "      <td>2022</td>\n",
       "      <td>7.0</td>\n",
       "      <td>TBB</td>\n",
       "      <td>TOM BRADY</td>\n",
       "      <td>45.0</td>\n",
       "      <td>224.0</td>\n",
       "      <td>3000</td>\n",
       "      <td>0</td>\n",
       "      <td>0</td>\n",
       "      <td>...</td>\n",
       "      <td>0.000000</td>\n",
       "      <td>0.000000</td>\n",
       "      <td>0.000000</td>\n",
       "      <td>0.000000</td>\n",
       "      <td>0.000000</td>\n",
       "      <td>0.000000</td>\n",
       "      <td>0.000000</td>\n",
       "      <td>0.000000</td>\n",
       "      <td>0.000000</td>\n",
       "      <td>0.000000</td>\n",
       "    </tr>\n",
       "    <tr>\n",
       "      <th>4</th>\n",
       "      <td>5848</td>\n",
       "      <td>2022</td>\n",
       "      <td>12.0</td>\n",
       "      <td>TBB</td>\n",
       "      <td>TOM BRADY</td>\n",
       "      <td>45.0</td>\n",
       "      <td>224.0</td>\n",
       "      <td>3000</td>\n",
       "      <td>0</td>\n",
       "      <td>0</td>\n",
       "      <td>...</td>\n",
       "      <td>0.000000</td>\n",
       "      <td>0.000000</td>\n",
       "      <td>0.000000</td>\n",
       "      <td>0.000000</td>\n",
       "      <td>0.000000</td>\n",
       "      <td>0.000000</td>\n",
       "      <td>0.000000</td>\n",
       "      <td>0.000000</td>\n",
       "      <td>0.000000</td>\n",
       "      <td>0.000000</td>\n",
       "    </tr>\n",
       "    <tr>\n",
       "      <th>...</th>\n",
       "      <td>...</td>\n",
       "      <td>...</td>\n",
       "      <td>...</td>\n",
       "      <td>...</td>\n",
       "      <td>...</td>\n",
       "      <td>...</td>\n",
       "      <td>...</td>\n",
       "      <td>...</td>\n",
       "      <td>...</td>\n",
       "      <td>...</td>\n",
       "      <td>...</td>\n",
       "      <td>...</td>\n",
       "      <td>...</td>\n",
       "      <td>...</td>\n",
       "      <td>...</td>\n",
       "      <td>...</td>\n",
       "      <td>...</td>\n",
       "      <td>...</td>\n",
       "      <td>...</td>\n",
       "      <td>...</td>\n",
       "      <td>...</td>\n",
       "    </tr>\n",
       "    <tr>\n",
       "      <th>11980</th>\n",
       "      <td>0532</td>\n",
       "      <td>2022</td>\n",
       "      <td>9.0</td>\n",
       "      <td>HOU</td>\n",
       "      <td>HOUSTON TEXANS</td>\n",
       "      <td>0.0</td>\n",
       "      <td>976.0</td>\n",
       "      <td>3000</td>\n",
       "      <td>0</td>\n",
       "      <td>0</td>\n",
       "      <td>...</td>\n",
       "      <td>2.097930</td>\n",
       "      <td>0.718137</td>\n",
       "      <td>0.018943</td>\n",
       "      <td>0.618927</td>\n",
       "      <td>0.086231</td>\n",
       "      <td>0.182348</td>\n",
       "      <td>25.232143</td>\n",
       "      <td>245.479814</td>\n",
       "      <td>119.651413</td>\n",
       "      <td>365.131228</td>\n",
       "    </tr>\n",
       "    <tr>\n",
       "      <th>11981</th>\n",
       "      <td>0532</td>\n",
       "      <td>2022</td>\n",
       "      <td>11.0</td>\n",
       "      <td>HOU</td>\n",
       "      <td>HOUSTON TEXANS</td>\n",
       "      <td>0.0</td>\n",
       "      <td>976.0</td>\n",
       "      <td>3000</td>\n",
       "      <td>0</td>\n",
       "      <td>0</td>\n",
       "      <td>...</td>\n",
       "      <td>2.147516</td>\n",
       "      <td>0.715120</td>\n",
       "      <td>0.024205</td>\n",
       "      <td>0.604407</td>\n",
       "      <td>0.103386</td>\n",
       "      <td>0.171852</td>\n",
       "      <td>25.151553</td>\n",
       "      <td>259.279859</td>\n",
       "      <td>117.695632</td>\n",
       "      <td>376.975492</td>\n",
       "    </tr>\n",
       "    <tr>\n",
       "      <th>11982</th>\n",
       "      <td>0532</td>\n",
       "      <td>2022</td>\n",
       "      <td>13.0</td>\n",
       "      <td>HOU</td>\n",
       "      <td>HOUSTON TEXANS</td>\n",
       "      <td>0.0</td>\n",
       "      <td>976.0</td>\n",
       "      <td>3000</td>\n",
       "      <td>0</td>\n",
       "      <td>0</td>\n",
       "      <td>...</td>\n",
       "      <td>2.139411</td>\n",
       "      <td>0.741880</td>\n",
       "      <td>0.021997</td>\n",
       "      <td>0.592463</td>\n",
       "      <td>0.082383</td>\n",
       "      <td>0.172950</td>\n",
       "      <td>24.605641</td>\n",
       "      <td>240.479470</td>\n",
       "      <td>116.555410</td>\n",
       "      <td>357.034879</td>\n",
       "    </tr>\n",
       "    <tr>\n",
       "      <th>11983</th>\n",
       "      <td>0532</td>\n",
       "      <td>2022</td>\n",
       "      <td>15.0</td>\n",
       "      <td>HOU</td>\n",
       "      <td>HOUSTON TEXANS</td>\n",
       "      <td>0.0</td>\n",
       "      <td>976.0</td>\n",
       "      <td>3000</td>\n",
       "      <td>0</td>\n",
       "      <td>0</td>\n",
       "      <td>...</td>\n",
       "      <td>2.163755</td>\n",
       "      <td>0.806891</td>\n",
       "      <td>0.022691</td>\n",
       "      <td>0.604643</td>\n",
       "      <td>0.077259</td>\n",
       "      <td>0.180856</td>\n",
       "      <td>24.288947</td>\n",
       "      <td>243.427805</td>\n",
       "      <td>112.743562</td>\n",
       "      <td>356.171366</td>\n",
       "    </tr>\n",
       "    <tr>\n",
       "      <th>11984</th>\n",
       "      <td>0532</td>\n",
       "      <td>2022</td>\n",
       "      <td>17.0</td>\n",
       "      <td>HOU</td>\n",
       "      <td>HOUSTON TEXANS</td>\n",
       "      <td>0.0</td>\n",
       "      <td>976.0</td>\n",
       "      <td>3000</td>\n",
       "      <td>0</td>\n",
       "      <td>0</td>\n",
       "      <td>...</td>\n",
       "      <td>2.211612</td>\n",
       "      <td>0.757847</td>\n",
       "      <td>0.024891</td>\n",
       "      <td>0.599702</td>\n",
       "      <td>0.097449</td>\n",
       "      <td>0.183414</td>\n",
       "      <td>24.072261</td>\n",
       "      <td>238.474561</td>\n",
       "      <td>117.454503</td>\n",
       "      <td>355.929064</td>\n",
       "    </tr>\n",
       "  </tbody>\n",
       "</table>\n",
       "<p>11985 rows × 44 columns</p>\n",
       "</div>"
      ],
      "text/plain": [
       "      id_mfl  season  week team      playerName   age  sharkRank   adp KR PR  \\\n",
       "0       5848    2022   1.0  TBB       TOM BRADY  45.0      224.0  3000  0  0   \n",
       "1       5848    2022   2.0  TBB       TOM BRADY  45.0      224.0  3000  0  0   \n",
       "2       5848    2022   6.0  TBB       TOM BRADY  45.0      224.0  3000  0  0   \n",
       "3       5848    2022   7.0  TBB       TOM BRADY  45.0      224.0  3000  0  0   \n",
       "4       5848    2022  12.0  TBB       TOM BRADY  45.0      224.0  3000  0  0   \n",
       "...      ...     ...   ...  ...             ...   ...        ...   ... .. ..   \n",
       "11980   0532    2022   9.0  HOU  HOUSTON TEXANS   0.0      976.0  3000  0  0   \n",
       "11981   0532    2022  11.0  HOU  HOUSTON TEXANS   0.0      976.0  3000  0  0   \n",
       "11982   0532    2022  13.0  HOU  HOUSTON TEXANS   0.0      976.0  3000  0  0   \n",
       "11983   0532    2022  15.0  HOU  HOUSTON TEXANS   0.0      976.0  3000  0  0   \n",
       "11984   0532    2022  17.0  HOU  HOUSTON TEXANS   0.0      976.0  3000  0  0   \n",
       "\n",
       "       ...   defSack      defI    defSaf    defFum    defBlk      defT  \\\n",
       "0      ...  0.000000  0.000000  0.000000  0.000000  0.000000  0.000000   \n",
       "1      ...  0.000000  0.000000  0.000000  0.000000  0.000000  0.000000   \n",
       "2      ...  0.000000  0.000000  0.000000  0.000000  0.000000  0.000000   \n",
       "3      ...  0.000000  0.000000  0.000000  0.000000  0.000000  0.000000   \n",
       "4      ...  0.000000  0.000000  0.000000  0.000000  0.000000  0.000000   \n",
       "...    ...       ...       ...       ...       ...       ...       ...   \n",
       "11980  ...  2.097930  0.718137  0.018943  0.618927  0.086231  0.182348   \n",
       "11981  ...  2.147516  0.715120  0.024205  0.604407  0.103386  0.171852   \n",
       "11982  ...  2.139411  0.741880  0.021997  0.592463  0.082383  0.172950   \n",
       "11983  ...  2.163755  0.806891  0.022691  0.604643  0.077259  0.180856   \n",
       "11984  ...  2.211612  0.757847  0.024891  0.599702  0.097449  0.183414   \n",
       "\n",
       "       defPtsAgainst  defPassYAgainst  defRushYAgainst  defYdsAgainst  \n",
       "0           0.000000         0.000000         0.000000       0.000000  \n",
       "1           0.000000         0.000000         0.000000       0.000000  \n",
       "2           0.000000         0.000000         0.000000       0.000000  \n",
       "3           0.000000         0.000000         0.000000       0.000000  \n",
       "4           0.000000         0.000000         0.000000       0.000000  \n",
       "...              ...              ...              ...            ...  \n",
       "11980      25.232143       245.479814       119.651413     365.131228  \n",
       "11981      25.151553       259.279859       117.695632     376.975492  \n",
       "11982      24.605641       240.479470       116.555410     357.034879  \n",
       "11983      24.288947       243.427805       112.743562     356.171366  \n",
       "11984      24.072261       238.474561       117.454503     355.929064  \n",
       "\n",
       "[11985 rows x 44 columns]"
      ]
     },
     "execution_count": 9,
     "metadata": {},
     "output_type": "execute_result"
    }
   ],
   "source": [
    "#def allPlayers():\n",
    "player_df = db.read_db(\"predictions\")\n",
    "tables = [player_df.to_html(classes='data')]\n",
    "titles=player_df.columns.values\n",
    "#return render_template(\"allPlayers.html\", tables=tables, titles=titles)"
   ]
  },
  {
   "cell_type": "code",
   "execution_count": 3,
   "metadata": {},
   "outputs": [
    {
     "name": "stderr",
     "output_type": "stream",
     "text": [
      "/Users/travisharry/Desktop/Coding/ff_demo2/ffpackage/analysis.py:88: FutureWarning: In a future version, `df.iloc[:, i] = newvals` will attempt to set the values inplace instead of always setting a new array. To retain the old behavior, use either `df[df.columns[i]] = newvals` or, if columns are non-unique, `df.isetitem(i, newvals)`\n",
      "  scoresBonus.loc[:, scoringDict.keys()] = scoresBonus.loc[:, scoringDict.keys()].astype('float64')\n"
     ]
    }
   ],
   "source": [
    "#@app.route('/predictive', methods=['GET'])\n",
    "#@login_required\n",
    "#def predictive():\n",
    "\n",
    "\n",
    "# Get Franchises in the league\n",
    "franchise_df = mfl.get_franchises(user_league)\n",
    "# Append a row to carry free agents\n",
    "freeAgentRow =  {\"franchiseID\":[\"FA\"], \"franchiseName\":[\"Free Agent\"], \"franchiseAbbrev\":[\"FA\"]}\n",
    "freeAgentRow = pd.DataFrame.from_dict(freeAgentRow)\n",
    "franchise_df = pd.concat([franchise_df, freeAgentRow], axis=0, ignore_index=True)\n",
    "\n",
    "# Get franchise rosters\n",
    "rosters_df = mfl.get_rosters(user_league)\n",
    "\n",
    "# Get Free Agents\n",
    "freeAgent_df = mfl.get_freeAgents(user_league)\n",
    "\n",
    "# Combine Franchise rosters with free agents to get all players\n",
    "rosters_df = pd.concat([rosters_df, freeAgent_df], axis=0)\n",
    "\n",
    "# Get all players, sharkRank, and ADP\n",
    "player_df = db.read_db(\"predictions\")\n",
    "\n",
    "# Merge all dfs\n",
    "complete = player_df.merge(rosters_df, on=['id_mfl', 'week'], how='left').merge(franchise_df, on='franchiseID', how='left')\n",
    "complete = complete.loc[complete['franchiseID'].notna()]\n",
    "\n",
    "## Calculate fantasy scores customized based on league-specific scoring rules\n",
    "scoringDict = {\n",
    "    'passA': {\"multiplier\":0, \"bins\":[-np.inf, np.inf], \"labels\":[0]},\n",
    "    'passC': {\"multiplier\":0, \"bins\":[-np.inf, np.inf], \"labels\":[0]},\n",
    "    'passY': {\"multiplier\":0.04, \"bins\":[-np.inf, np.inf], \"labels\":[0]},\n",
    "    'passT': {\"multiplier\":4, \"bins\":[-np.inf, np.inf], \"labels\":[0]},\n",
    "    'passI': {\"multiplier\":-2, \"bins\":[-np.inf, np.inf], \"labels\":[0]},\n",
    "    'pass2': {\"multiplier\":2, \"bins\":[-np.inf, np.inf], \"labels\":[0]},\n",
    "    'rushA': {\"multiplier\":0.1, \"bins\":[-np.inf, np.inf], \"labels\":[0]},\n",
    "    'rushY': {\"multiplier\":0.1, \"bins\":[-np.inf, np.inf], \"labels\":[0]},\n",
    "    'rushT': {\"multiplier\":6, \"bins\":[-np.inf, np.inf], \"labels\":[0]},\n",
    "    'rush2': {\"multiplier\":2, \"bins\":[-np.inf, np.inf], \"labels\":[0]},\n",
    "    'recC': {\"multiplier\":0.25, \"bins\":[-np.inf, np.inf], \"labels\":[0]},\n",
    "    'recY': {\"multiplier\":0.1, \"bins\":[-np.inf, np.inf], \"labels\":[0]},\n",
    "    'recT': {\"multiplier\":6, \"bins\":[-np.inf, np.inf], \"labels\":[0]},\n",
    "    'rec2': {\"multiplier\":2, \"bins\":[-np.inf, np.inf], \"labels\":[0]},\n",
    "    'fum': {\"multiplier\":-2, \"bins\":[-np.inf, np.inf], \"labels\":[0]},\n",
    "    'XPA': {\"multiplier\":0, \"bins\":[-np.inf, np.inf], \"labels\":[0]},\n",
    "    'XPM': {\"multiplier\":3, \"bins\":[-np.inf, np.inf], \"labels\":[0]},\n",
    "    'FGA': {\"multiplier\":0, \"bins\":[-np.inf, np.inf], \"labels\":[0]},\n",
    "    'FGM': {\"multiplier\":3, \"bins\":[-np.inf, np.inf], \"labels\":[0]},\n",
    "    'FG50': {\"multiplier\":5, \"bins\":[-np.inf, np.inf], \"labels\":[0]},\n",
    "    'defSack': {\"multiplier\":1, \"bins\":[-np.inf, np.inf], \"labels\":[0]},\n",
    "    'defI': {\"multiplier\":2, \"bins\":[-np.inf, np.inf], \"labels\":[0]},\n",
    "    'defSaf': {\"multiplier\":2, \"bins\":[-np.inf, np.inf], \"labels\":[0]},\n",
    "    'defFum': {\"multiplier\":2, \"bins\":[-np.inf, np.inf], \"labels\":[0]},\n",
    "    'defBlk': {\"multiplier\":1.5, \"bins\":[-np.inf, np.inf], \"labels\":[0]},\n",
    "    'defT': {\"multiplier\":6, \"bins\":[-np.inf, np.inf], \"labels\":[0]},\n",
    "    'defPtsAgainst': {\"multiplier\":0, \"bins\":[-5,0,6,13,17,21,27,34,45,59,99], \"labels\":[10,8,7,5,3,2,0,-1,-3,-5]},\n",
    "    'defPassYAgainst': {\"multiplier\":0, \"bins\":[-np.inf, np.inf], \"labels\":[0]},\n",
    "    'defRushYAgainst': {\"multiplier\":0, \"bins\":[-np.inf, np.inf], \"labels\":[0]},\n",
    "    'defYdsAgainst': {\"multiplier\":0, \"bins\":[0,274,324,375,425,999], \"labels\":[5,2,0,-2,-5]}\n",
    "}\n",
    "# Calculate predicted fantasy scores based on predicted NFL stats and league-specific scoring rules\n",
    "analyzed = analysis.calculate_scoresFF(complete, scoringDict)\n",
    "\n",
    "# Calculate relative values\n",
    "# Get league-specific info on available slots\n",
    "posMax = {\"QB\":2, \"RB\":5, \"WR\":6, \"TE\":5, \"PK\":2, \"DF\":2}\n",
    "posMin = {\"QB\":1, \"RB\":2, \"WR\":2, \"TE\":2, \"PK\":2, \"DF\":2}\n",
    "totalStarters = 15\n",
    "predMethod = \"scoreTotal\"\n",
    "\n",
    "# Select starters\n",
    "analyzed = analysis.starterSelector(analyzed, how=predMethod, startersMax=totalStarters, posMax=posMax, posMin=posMin)\n",
    "\n",
    "# Find the lowest scoring player on the field and set them as the low bar\n",
    "for x in [\"QB\", \"RB\", \"WR\", \"TE\", \"PK\", \"DF\"]:\n",
    "    positionMinPred = analyzed.loc[(analyzed['pos']==x) & (analyzed['startSelector']=='Starter'), predMethod].min()\n",
    "    # Calculate relative values\n",
    "    analyzed.loc[analyzed['pos']==x, 'relativeValue'] = analyzed.loc[analyzed['pos']==x, predMethod] - positionMinPred\n",
    "\n",
    "# Convert to json\n",
    "predictiveData = analyzed.to_json()\n",
    "#return render_template(\"predictive.html\", predictiveData=predictiveData)"
   ]
  },
  {
   "cell_type": "code",
   "execution_count": 12,
   "metadata": {},
   "outputs": [],
   "source": [
    "# #@app.route('/compareFranchises')\n",
    "# #@login_required\n",
    "# #def compareFranchises():\n",
    "\n",
    "# # Get Franchises in the league\n",
    "# franchise_df = mfl.get_franchises(user_league)\n",
    "# # Append a row to carry free agents\n",
    "# freeAgentRow =  {\"franchiseID\":[\"FA\"], \"franchiseName\":[\"Free Agent\"], \"franchiseAbbrev\":[\"FA\"]}\n",
    "# freeAgentRow = pd.DataFrame.from_dict(freeAgentRow)\n",
    "# franchise_df = pd.concat([franchise_df, freeAgentRow], axis=0, ignore_index=True)\n",
    "\n",
    "# # Get franchise rosters\n",
    "# rosters_df = mfl.get_rosters(user_league)\n",
    "\n",
    "# # Get Free Agents\n",
    "# freeAgent_df = mfl.get_freeAgents(user_league)\n",
    "\n",
    "# # Get all players, sharkRank, and ADP\n",
    "# predictions = db.read_db(\"predictions\")\n",
    "\n",
    "# # Merge all dfs\n",
    "# complete = predictions.merge(rosters_df, on='id_mfl', how='left').merge(franchise_df[['franchiseID', 'franchiseName', 'franchiseAbbrev']], on='franchiseID', how='left')\n",
    "# complete['franchiseID'].fillna(\"FA\", inplace=True)\n",
    "# complete['franchiseName'].fillna(\"Free Agent\", inplace=True)\n",
    "# complete['rosterStatus'].fillna(\"Free Agent\", inplace=True)\n",
    "\n",
    "# # Get info on available slots from MFL site\n",
    "# posMax = {\"QB\":2, \"RB\":5, \"WR\":6, \"TE\":5, \"PK\":2, \"DF\":2}\n",
    "# posMin = {\"QB\":1, \"RB\":2, \"WR\":2, \"TE\":2, \"PK\":2, \"DF\":2}\n",
    "# totalStarters = 15\n",
    "# predMethod = \"pred\"\n",
    "\n",
    "# # Select starters\n",
    "# df = analysis.starterSelector(complete, how=predMethod, startersMax=totalStarters, posMax=posMax, posMin=posMin)\n",
    "\n",
    "# # Find the lowest scoring player on the field and set them as the low bar\n",
    "# for x in [\"QB\", \"RB\", \"WR\", \"TE\", \"PK\", \"DF\"]:\n",
    "#     positionMinPred = df.loc[(df['pos']==x) & (df['starting']=='Starter'), predMethod].min()\n",
    "#     # Calculate relative values\n",
    "#     df.loc[df['pos']==x, 'relativeValue'] = df.loc[df['pos']==x, predMethod] - positionMinPred\n",
    "\n",
    "# # Visualize the data\n",
    "# fig = viz.compareFranchises(df, how=predMethod)\n",
    "# # Encode in JSON format\n",
    "# graphJSON = json.dumps(fig, cls=plotly.utils.PlotlyJSONEncoder)\n",
    "# # Render html template in flask\n",
    "# #return render_template('compareFranchises.html', graphJSON=graphJSON)"
   ]
  },
  {
   "cell_type": "code",
   "execution_count": 3,
   "metadata": {},
   "outputs": [
    {
     "name": "stderr",
     "output_type": "stream",
     "text": [
      "/Users/travisharry/Desktop/Coding/ff_demo2/ffpackage/analysis.py:88: FutureWarning: In a future version, `df.iloc[:, i] = newvals` will attempt to set the values inplace instead of always setting a new array. To retain the old behavior, use either `df[df.columns[i]] = newvals` or, if columns are non-unique, `df.isetitem(i, newvals)`\n",
      "  scoresBonus.loc[:, scoringDict.keys()] = scoresBonus.loc[:, scoringDict.keys()].astype('float64')\n"
     ]
    }
   ],
   "source": [
    "#@app.route('/live')\n",
    "#@login_required\n",
    "#def live():\n",
    "\n",
    "## Calculate fantasy scores customized based on league-specific scoring rules\n",
    "scoringDict = {\n",
    "    'passA': {\"multiplier\":0, \"bins\":[-np.inf, np.inf], \"labels\":[0]},\n",
    "    'passC': {\"multiplier\":0, \"bins\":[-np.inf, np.inf], \"labels\":[0]},\n",
    "    'passY': {\"multiplier\":0.04, \"bins\":[-np.inf, np.inf], \"labels\":[0]},\n",
    "    'passT': {\"multiplier\":4, \"bins\":[-np.inf, np.inf], \"labels\":[0]},\n",
    "    'passI': {\"multiplier\":-2, \"bins\":[-np.inf, np.inf], \"labels\":[0]},\n",
    "    'pass2': {\"multiplier\":2, \"bins\":[-np.inf, np.inf], \"labels\":[0]},\n",
    "    'rushA': {\"multiplier\":0.1, \"bins\":[-np.inf, np.inf], \"labels\":[0]},\n",
    "    'rushY': {\"multiplier\":0.1, \"bins\":[-np.inf, np.inf], \"labels\":[0]},\n",
    "    'rushT': {\"multiplier\":6, \"bins\":[-np.inf, np.inf], \"labels\":[0]},\n",
    "    'rush2': {\"multiplier\":2, \"bins\":[-np.inf, np.inf], \"labels\":[0]},\n",
    "    'recC': {\"multiplier\":0.25, \"bins\":[-np.inf, np.inf], \"labels\":[0]},\n",
    "    'recY': {\"multiplier\":0.1, \"bins\":[-np.inf, np.inf], \"labels\":[0]},\n",
    "    'recT': {\"multiplier\":6, \"bins\":[-np.inf, np.inf], \"labels\":[0]},\n",
    "    'rec2': {\"multiplier\":2, \"bins\":[-np.inf, np.inf], \"labels\":[0]},\n",
    "    'fum': {\"multiplier\":-2, \"bins\":[-np.inf, np.inf], \"labels\":[0]},\n",
    "    'XPA': {\"multiplier\":0, \"bins\":[-np.inf, np.inf], \"labels\":[0]},\n",
    "    'XPM': {\"multiplier\":3, \"bins\":[-np.inf, np.inf], \"labels\":[0]},\n",
    "    'FGA': {\"multiplier\":0, \"bins\":[-np.inf, np.inf], \"labels\":[0]},\n",
    "    'FGM': {\"multiplier\":3, \"bins\":[-np.inf, np.inf], \"labels\":[0]},\n",
    "    'FG50': {\"multiplier\":5, \"bins\":[-np.inf, np.inf], \"labels\":[0]},\n",
    "    'defSack': {\"multiplier\":1, \"bins\":[-np.inf, np.inf], \"labels\":[0]},\n",
    "    'defI': {\"multiplier\":2, \"bins\":[-np.inf, np.inf], \"labels\":[0]},\n",
    "    'defSaf': {\"multiplier\":2, \"bins\":[-np.inf, np.inf], \"labels\":[0]},\n",
    "    'defFum': {\"multiplier\":2, \"bins\":[-np.inf, np.inf], \"labels\":[0]},\n",
    "    'defBlk': {\"multiplier\":1.5, \"bins\":[-np.inf, np.inf], \"labels\":[0]},\n",
    "    'defT': {\"multiplier\":6, \"bins\":[-np.inf, np.inf], \"labels\":[0]},\n",
    "    'defPtsAgainst': {\"multiplier\":0, \"bins\":[-5,0,6,13,17,21,27,34,45,59,99], \"labels\":[10,8,7,5,3,2,0,-1,-3,-5]},\n",
    "    'defPassYAgainst': {\"multiplier\":0, \"bins\":[-np.inf, np.inf], \"labels\":[0]},\n",
    "    'defRushYAgainst': {\"multiplier\":0, \"bins\":[-np.inf, np.inf], \"labels\":[0]},\n",
    "    'defYdsAgainst': {\"multiplier\":0, \"bins\":[0,274,324,375,425,999], \"labels\":[5,2,0,-2,-5]}\n",
    "}\n",
    "\n",
    "# Get MFL scoring data\n",
    "liveScores = mfl.get_liveScoring(user_league)\n",
    "# Get Franchises in the league\n",
    "franchises = mfl.get_franchises(user_league)\n",
    "# Get all players and predictions\n",
    "predictions = db.read_db(\"predictions\")\n",
    "\n",
    "# Calculate predicted fantasy scores based on predicted NFL stats and league-specific scoring rules\n",
    "predictions = analysis.calculate_scoresFF(predictions, scoringDict)\n",
    "# Filter:\n",
    "predictions = predictions.loc[predictions['week']==current_week]\n",
    "\n",
    "\n",
    "\n",
    "# Merge: merge liveScores, franchises, and predictions\n",
    "df = liveScores.merge(franchises, how='left', on='franchiseID').merge(predictions, how='left', on='id_mfl')\n",
    "\n",
    "# Clean: convert to float data types\n",
    "df['liveScore'] = df['liveScore'].astype('float64')\n",
    "df['secondsRemaining'] = df['secondsRemaining'].astype('float64')\n",
    "\n",
    "# Filter:\n",
    "df = df.loc[df['status']==\"starter\"]\n",
    "\n",
    "# Analyze:\n",
    "# # Divide the player's annual prediction by the number of weeks (17) to get a weekly prediction\n",
    "# df['weeklyPred'] = df['scoreTotal'] / 17\n",
    "# Calculate each player's expected score at the end of the game\n",
    "df['expectedLiveScore'] = df.apply(analysis.expectedLiveScore, axis=1)\n",
    "# Set colors for chart \n",
    "df['color'] = df.apply(analysis.colorPicker, axis=1)\n",
    "\n",
    "# Convert to JSON\n",
    "liveData = df.to_json()\n",
    "\n",
    "# # Visualize:\n",
    "# import plotly\n",
    "# fig = viz.liveScoring(df)\n",
    "# # Encode in JSON format\n",
    "# graphJSON = json.dumps(fig, cls=plotly.utils.PlotlyJSONEncoder)\n",
    "\n",
    "# Render html template in flask\n",
    "#return render_template('live.html', graphJSON=graphJSON)"
   ]
  },
  {
   "cell_type": "code",
   "execution_count": 7,
   "metadata": {},
   "outputs": [
    {
     "data": {
      "application/vnd.plotly.v1+json": {
       "config": {
        "plotlyServerURL": "https://plot.ly"
       },
       "data": [
        {
         "alignmentgroup": "True",
         "customdata": [
          [
           10.488758179147782,
           0,
           "ROBERT WOODS",
           "WR",
           "PBW"
          ]
         ],
         "hovertemplate": "<b>%{hovertext}</b><br><br>Franchise=%{x}<br>Projected Score=%{y}<br>Initial Prediction=%{customdata[0]}<br>Current Score=%{customdata[1]}<extra></extra>",
         "hovertext": [
          "ROBERT WOODS"
         ],
         "legendgroup": "ROBERT WOODS",
         "marker": {
          "color": "rgb(255,255,255)",
          "pattern": {
           "shape": ""
          }
         },
         "name": "ROBERT WOODS",
         "offsetgroup": "ROBERT WOODS",
         "orientation": "v",
         "showlegend": true,
         "text": [
          "ROBERT WOODS"
         ],
         "textposition": "auto",
         "type": "bar",
         "x": [
          "Pretty Big Wieners"
         ],
         "xaxis": "x",
         "y": [
          10.488758179147782
         ],
         "yaxis": "y"
        },
        {
         "alignmentgroup": "True",
         "customdata": [
          [
           6.700878710136762,
           0,
           "DONOVAN PEOPLES-JONES",
           "WR",
           "PBW"
          ]
         ],
         "hovertemplate": "<b>%{hovertext}</b><br><br>Franchise=%{x}<br>Projected Score=%{y}<br>Initial Prediction=%{customdata[0]}<br>Current Score=%{customdata[1]}<extra></extra>",
         "hovertext": [
          "DONOVAN PEOPLES-JONES"
         ],
         "legendgroup": "DONOVAN PEOPLES-JONES",
         "marker": {
          "color": "rgb(255,255,255)",
          "pattern": {
           "shape": ""
          }
         },
         "name": "DONOVAN PEOPLES-JONES",
         "offsetgroup": "DONOVAN PEOPLES-JONES",
         "orientation": "v",
         "showlegend": true,
         "text": [
          "DONOVAN PEOPLES-JONES"
         ],
         "textposition": "auto",
         "type": "bar",
         "x": [
          "Pretty Big Wieners"
         ],
         "xaxis": "x",
         "y": [
          6.700878710136762
         ],
         "yaxis": "y"
        },
        {
         "alignmentgroup": "True",
         "customdata": [
          [
           8.824668940710378,
           0,
           "PHILADELPHIA EAGLES",
           "DF",
           "PBW"
          ]
         ],
         "hovertemplate": "<b>%{hovertext}</b><br><br>Franchise=%{x}<br>Projected Score=%{y}<br>Initial Prediction=%{customdata[0]}<br>Current Score=%{customdata[1]}<extra></extra>",
         "hovertext": [
          "PHILADELPHIA EAGLES"
         ],
         "legendgroup": "PHILADELPHIA EAGLES",
         "marker": {
          "color": "rgb(255,255,255)",
          "pattern": {
           "shape": ""
          }
         },
         "name": "PHILADELPHIA EAGLES",
         "offsetgroup": "PHILADELPHIA EAGLES",
         "orientation": "v",
         "showlegend": true,
         "text": [
          "PHILADELPHIA EAGLES"
         ],
         "textposition": "auto",
         "type": "bar",
         "x": [
          "Pretty Big Wieners"
         ],
         "xaxis": "x",
         "y": [
          8.824668940710378
         ],
         "yaxis": "y"
        },
        {
         "alignmentgroup": "True",
         "customdata": [
          [
           12.21842759579018,
           0,
           "JUSTIN JEFFERSON",
           "WR",
           "PBW"
          ]
         ],
         "hovertemplate": "<b>%{hovertext}</b><br><br>Franchise=%{x}<br>Projected Score=%{y}<br>Initial Prediction=%{customdata[0]}<br>Current Score=%{customdata[1]}<extra></extra>",
         "hovertext": [
          "JUSTIN JEFFERSON"
         ],
         "legendgroup": "JUSTIN JEFFERSON",
         "marker": {
          "color": "rgb(255,255,255)",
          "pattern": {
           "shape": ""
          }
         },
         "name": "JUSTIN JEFFERSON",
         "offsetgroup": "JUSTIN JEFFERSON",
         "orientation": "v",
         "showlegend": true,
         "text": [
          "JUSTIN JEFFERSON"
         ],
         "textposition": "auto",
         "type": "bar",
         "x": [
          "Pretty Big Wieners"
         ],
         "xaxis": "x",
         "y": [
          12.218427595790182
         ],
         "yaxis": "y"
        },
        {
         "alignmentgroup": "True",
         "customdata": [
          [
           12.28633444632273,
           0,
           "MILES SANDERS",
           "RB",
           "PBW"
          ]
         ],
         "hovertemplate": "<b>%{hovertext}</b><br><br>Franchise=%{x}<br>Projected Score=%{y}<br>Initial Prediction=%{customdata[0]}<br>Current Score=%{customdata[1]}<extra></extra>",
         "hovertext": [
          "MILES SANDERS"
         ],
         "legendgroup": "MILES SANDERS",
         "marker": {
          "color": "rgb(255,255,255)",
          "pattern": {
           "shape": ""
          }
         },
         "name": "MILES SANDERS",
         "offsetgroup": "MILES SANDERS",
         "orientation": "v",
         "showlegend": true,
         "text": [
          "MILES SANDERS"
         ],
         "textposition": "auto",
         "type": "bar",
         "x": [
          "Pretty Big Wieners"
         ],
         "xaxis": "x",
         "y": [
          12.28633444632273
         ],
         "yaxis": "y"
        },
        {
         "alignmentgroup": "True",
         "customdata": [
          [
           11.397012734635997,
           0,
           "MARK ANDREWS",
           "TE",
           "PBW"
          ]
         ],
         "hovertemplate": "<b>%{hovertext}</b><br><br>Franchise=%{x}<br>Projected Score=%{y}<br>Initial Prediction=%{customdata[0]}<br>Current Score=%{customdata[1]}<extra></extra>",
         "hovertext": [
          "MARK ANDREWS"
         ],
         "legendgroup": "MARK ANDREWS",
         "marker": {
          "color": "rgb(255,255,255)",
          "pattern": {
           "shape": ""
          }
         },
         "name": "MARK ANDREWS",
         "offsetgroup": "MARK ANDREWS",
         "orientation": "v",
         "showlegend": true,
         "text": [
          "MARK ANDREWS"
         ],
         "textposition": "auto",
         "type": "bar",
         "x": [
          "Pretty Big Wieners"
         ],
         "xaxis": "x",
         "y": [
          11.397012734635997
         ],
         "yaxis": "y"
        },
        {
         "alignmentgroup": "True",
         "customdata": [
          [
           7.130359276313062,
           0,
           "TYLER CONKLIN",
           "TE",
           "PBW"
          ]
         ],
         "hovertemplate": "<b>%{hovertext}</b><br><br>Franchise=%{x}<br>Projected Score=%{y}<br>Initial Prediction=%{customdata[0]}<br>Current Score=%{customdata[1]}<extra></extra>",
         "hovertext": [
          "TYLER CONKLIN"
         ],
         "legendgroup": "TYLER CONKLIN",
         "marker": {
          "color": "rgb(255,255,255)",
          "pattern": {
           "shape": ""
          }
         },
         "name": "TYLER CONKLIN",
         "offsetgroup": "TYLER CONKLIN",
         "orientation": "v",
         "showlegend": true,
         "text": [
          "TYLER CONKLIN"
         ],
         "textposition": "auto",
         "type": "bar",
         "x": [
          "Pretty Big Wieners"
         ],
         "xaxis": "x",
         "y": [
          7.130359276313062
         ],
         "yaxis": "y"
        },
        {
         "alignmentgroup": "True",
         "customdata": [
          [
           13.207448592315574,
           0,
           "DANIEL CARLSON",
           "PK",
           "PBW"
          ]
         ],
         "hovertemplate": "<b>%{hovertext}</b><br><br>Franchise=%{x}<br>Projected Score=%{y}<br>Initial Prediction=%{customdata[0]}<br>Current Score=%{customdata[1]}<extra></extra>",
         "hovertext": [
          "DANIEL CARLSON"
         ],
         "legendgroup": "DANIEL CARLSON",
         "marker": {
          "color": "rgb(255,255,255)",
          "pattern": {
           "shape": ""
          }
         },
         "name": "DANIEL CARLSON",
         "offsetgroup": "DANIEL CARLSON",
         "orientation": "v",
         "showlegend": true,
         "text": [
          "DANIEL CARLSON"
         ],
         "textposition": "auto",
         "type": "bar",
         "x": [
          "Pretty Big Wieners"
         ],
         "xaxis": "x",
         "y": [
          13.207448592315574
         ],
         "yaxis": "y"
        },
        {
         "alignmentgroup": "True",
         "customdata": [
          [
           11.917142878089729,
           0,
           "CAIRO SANTOS",
           "PK",
           "PBW"
          ]
         ],
         "hovertemplate": "<b>%{hovertext}</b><br><br>Franchise=%{x}<br>Projected Score=%{y}<br>Initial Prediction=%{customdata[0]}<br>Current Score=%{customdata[1]}<extra></extra>",
         "hovertext": [
          "CAIRO SANTOS"
         ],
         "legendgroup": "CAIRO SANTOS",
         "marker": {
          "color": "rgb(255,255,255)",
          "pattern": {
           "shape": ""
          }
         },
         "name": "CAIRO SANTOS",
         "offsetgroup": "CAIRO SANTOS",
         "orientation": "v",
         "showlegend": true,
         "text": [
          "CAIRO SANTOS"
         ],
         "textposition": "auto",
         "type": "bar",
         "x": [
          "Pretty Big Wieners"
         ],
         "xaxis": "x",
         "y": [
          11.917142878089729
         ],
         "yaxis": "y"
        },
        {
         "alignmentgroup": "True",
         "customdata": [
          [
           4.889502544998751,
           0,
           "REX BURKHEAD",
           "RB",
           "PBW"
          ]
         ],
         "hovertemplate": "<b>%{hovertext}</b><br><br>Franchise=%{x}<br>Projected Score=%{y}<br>Initial Prediction=%{customdata[0]}<br>Current Score=%{customdata[1]}<extra></extra>",
         "hovertext": [
          "REX BURKHEAD"
         ],
         "legendgroup": "REX BURKHEAD",
         "marker": {
          "color": "rgb(255,255,255)",
          "pattern": {
           "shape": ""
          }
         },
         "name": "REX BURKHEAD",
         "offsetgroup": "REX BURKHEAD",
         "orientation": "v",
         "showlegend": true,
         "text": [
          "REX BURKHEAD"
         ],
         "textposition": "auto",
         "type": "bar",
         "x": [
          "Pretty Big Wieners"
         ],
         "xaxis": "x",
         "y": [
          4.889502544998752
         ],
         "yaxis": "y"
        },
        {
         "alignmentgroup": "True",
         "customdata": [
          [
           10.040647788511816,
           0,
           "AJ BROWN",
           "WR",
           "PBW"
          ]
         ],
         "hovertemplate": "<b>%{hovertext}</b><br><br>Franchise=%{x}<br>Projected Score=%{y}<br>Initial Prediction=%{customdata[0]}<br>Current Score=%{customdata[1]}<extra></extra>",
         "hovertext": [
          "AJ BROWN"
         ],
         "legendgroup": "AJ BROWN",
         "marker": {
          "color": "rgb(255,255,255)",
          "pattern": {
           "shape": ""
          }
         },
         "name": "AJ BROWN",
         "offsetgroup": "AJ BROWN",
         "orientation": "v",
         "showlegend": true,
         "text": [
          "AJ BROWN"
         ],
         "textposition": "auto",
         "type": "bar",
         "x": [
          "Pretty Big Wieners"
         ],
         "xaxis": "x",
         "y": [
          10.040647788511814
         ],
         "yaxis": "y"
        },
        {
         "alignmentgroup": "True",
         "customdata": [
          [
           9.511459080002195,
           0,
           "KEENAN ALLEN",
           "WR",
           "PBW"
          ]
         ],
         "hovertemplate": "<b>%{hovertext}</b><br><br>Franchise=%{x}<br>Projected Score=%{y}<br>Initial Prediction=%{customdata[0]}<br>Current Score=%{customdata[1]}<extra></extra>",
         "hovertext": [
          "KEENAN ALLEN"
         ],
         "legendgroup": "KEENAN ALLEN",
         "marker": {
          "color": "rgb(255,255,255)",
          "pattern": {
           "shape": ""
          }
         },
         "name": "KEENAN ALLEN",
         "offsetgroup": "KEENAN ALLEN",
         "orientation": "v",
         "showlegend": true,
         "text": [
          "KEENAN ALLEN"
         ],
         "textposition": "auto",
         "type": "bar",
         "x": [
          "Pretty Big Wieners"
         ],
         "xaxis": "x",
         "y": [
          9.511459080002195
         ],
         "yaxis": "y"
        },
        {
         "alignmentgroup": "True",
         "customdata": [
          [
           8.783468255971762,
           0,
           "MIAMI DOLPHINS",
           "DF",
           "PBW"
          ]
         ],
         "hovertemplate": "<b>%{hovertext}</b><br><br>Franchise=%{x}<br>Projected Score=%{y}<br>Initial Prediction=%{customdata[0]}<br>Current Score=%{customdata[1]}<extra></extra>",
         "hovertext": [
          "MIAMI DOLPHINS"
         ],
         "legendgroup": "MIAMI DOLPHINS",
         "marker": {
          "color": "rgb(255,255,255)",
          "pattern": {
           "shape": ""
          }
         },
         "name": "MIAMI DOLPHINS",
         "offsetgroup": "MIAMI DOLPHINS",
         "orientation": "v",
         "showlegend": true,
         "text": [
          "MIAMI DOLPHINS"
         ],
         "textposition": "auto",
         "type": "bar",
         "x": [
          "Pretty Big Wieners"
         ],
         "xaxis": "x",
         "y": [
          8.783468255971762
         ],
         "yaxis": "y"
        },
        {
         "alignmentgroup": "True",
         "customdata": [
          [
           19.29369792502482,
           0,
           "DESHAUN WATSON",
           "QB",
           "PBW"
          ]
         ],
         "hovertemplate": "<b>%{hovertext}</b><br><br>Franchise=%{x}<br>Projected Score=%{y}<br>Initial Prediction=%{customdata[0]}<br>Current Score=%{customdata[1]}<extra></extra>",
         "hovertext": [
          "DESHAUN WATSON"
         ],
         "legendgroup": "DESHAUN WATSON",
         "marker": {
          "color": "rgb(255,255,255)",
          "pattern": {
           "shape": ""
          }
         },
         "name": "DESHAUN WATSON",
         "offsetgroup": "DESHAUN WATSON",
         "orientation": "v",
         "showlegend": true,
         "text": [
          "DESHAUN WATSON"
         ],
         "textposition": "auto",
         "type": "bar",
         "x": [
          "Pretty Big Wieners"
         ],
         "xaxis": "x",
         "y": [
          19.29369792502482
         ],
         "yaxis": "y"
        },
        {
         "alignmentgroup": "True",
         "customdata": [
          [
           19.90745615254542,
           0,
           "AARON RODGERS",
           "QB",
           "PBW"
          ]
         ],
         "hovertemplate": "<b>%{hovertext}</b><br><br>Franchise=%{x}<br>Projected Score=%{y}<br>Initial Prediction=%{customdata[0]}<br>Current Score=%{customdata[1]}<extra></extra>",
         "hovertext": [
          "AARON RODGERS"
         ],
         "legendgroup": "AARON RODGERS",
         "marker": {
          "color": "rgb(255,255,255)",
          "pattern": {
           "shape": ""
          }
         },
         "name": "AARON RODGERS",
         "offsetgroup": "AARON RODGERS",
         "orientation": "v",
         "showlegend": true,
         "text": [
          "AARON RODGERS"
         ],
         "textposition": "auto",
         "type": "bar",
         "x": [
          "Pretty Big Wieners"
         ],
         "xaxis": "x",
         "y": [
          19.90745615254542
         ],
         "yaxis": "y"
        },
        {
         "alignmentgroup": "True",
         "customdata": [
          [
           11.66053667249425,
           0,
           "TONY POLLARD",
           "RB",
           "SAS"
          ]
         ],
         "hovertemplate": "<b>%{hovertext}</b><br><br>Franchise=%{x}<br>Projected Score=%{y}<br>Initial Prediction=%{customdata[0]}<br>Current Score=%{customdata[1]}<extra></extra>",
         "hovertext": [
          "TONY POLLARD"
         ],
         "legendgroup": "TONY POLLARD",
         "marker": {
          "color": "rgb(255,255,255)",
          "pattern": {
           "shape": ""
          }
         },
         "name": "TONY POLLARD",
         "offsetgroup": "TONY POLLARD",
         "orientation": "v",
         "showlegend": true,
         "text": [
          "TONY POLLARD"
         ],
         "textposition": "auto",
         "type": "bar",
         "x": [
          "Saskatoon Squatches"
         ],
         "xaxis": "x",
         "y": [
          11.660536672494251
         ],
         "yaxis": "y"
        },
        {
         "alignmentgroup": "True",
         "customdata": [
          [
           11.171428018489472,
           0,
           "TYREEK HILL",
           "WR",
           "SAS"
          ]
         ],
         "hovertemplate": "<b>%{hovertext}</b><br><br>Franchise=%{x}<br>Projected Score=%{y}<br>Initial Prediction=%{customdata[0]}<br>Current Score=%{customdata[1]}<extra></extra>",
         "hovertext": [
          "TYREEK HILL"
         ],
         "legendgroup": "TYREEK HILL",
         "marker": {
          "color": "rgb(255,255,255)",
          "pattern": {
           "shape": ""
          }
         },
         "name": "TYREEK HILL",
         "offsetgroup": "TYREEK HILL",
         "orientation": "v",
         "showlegend": true,
         "text": [
          "TYREEK HILL"
         ],
         "textposition": "auto",
         "type": "bar",
         "x": [
          "Saskatoon Squatches"
         ],
         "xaxis": "x",
         "y": [
          11.171428018489472
         ],
         "yaxis": "y"
        },
        {
         "alignmentgroup": "True",
         "customdata": [
          [
           8.58400910616752,
           0,
           "TENNESSEE TITANS",
           "DF",
           "SAS"
          ]
         ],
         "hovertemplate": "<b>%{hovertext}</b><br><br>Franchise=%{x}<br>Projected Score=%{y}<br>Initial Prediction=%{customdata[0]}<br>Current Score=%{customdata[1]}<extra></extra>",
         "hovertext": [
          "TENNESSEE TITANS"
         ],
         "legendgroup": "TENNESSEE TITANS",
         "marker": {
          "color": "rgb(255,255,255)",
          "pattern": {
           "shape": ""
          }
         },
         "name": "TENNESSEE TITANS",
         "offsetgroup": "TENNESSEE TITANS",
         "orientation": "v",
         "showlegend": true,
         "text": [
          "TENNESSEE TITANS"
         ],
         "textposition": "auto",
         "type": "bar",
         "x": [
          "Saskatoon Squatches"
         ],
         "xaxis": "x",
         "y": [
          8.58400910616752
         ],
         "yaxis": "y"
        },
        {
         "alignmentgroup": "True",
         "customdata": [
          [
           11.461579721143462,
           0,
           "RHAMONDRE STEVENSON",
           "RB",
           "SAS"
          ]
         ],
         "hovertemplate": "<b>%{hovertext}</b><br><br>Franchise=%{x}<br>Projected Score=%{y}<br>Initial Prediction=%{customdata[0]}<br>Current Score=%{customdata[1]}<extra></extra>",
         "hovertext": [
          "RHAMONDRE STEVENSON"
         ],
         "legendgroup": "RHAMONDRE STEVENSON",
         "marker": {
          "color": "rgb(255,255,255)",
          "pattern": {
           "shape": ""
          }
         },
         "name": "RHAMONDRE STEVENSON",
         "offsetgroup": "RHAMONDRE STEVENSON",
         "orientation": "v",
         "showlegend": true,
         "text": [
          "RHAMONDRE STEVENSON"
         ],
         "textposition": "auto",
         "type": "bar",
         "x": [
          "Saskatoon Squatches"
         ],
         "xaxis": "x",
         "y": [
          11.461579721143462
         ],
         "yaxis": "y"
        },
        {
         "alignmentgroup": "True",
         "customdata": [
          [
           1.2988566030498343,
           0,
           "DEANDRE CARTER",
           "WR",
           "SAS"
          ]
         ],
         "hovertemplate": "<b>%{hovertext}</b><br><br>Franchise=%{x}<br>Projected Score=%{y}<br>Initial Prediction=%{customdata[0]}<br>Current Score=%{customdata[1]}<extra></extra>",
         "hovertext": [
          "DEANDRE CARTER"
         ],
         "legendgroup": "DEANDRE CARTER",
         "marker": {
          "color": "rgb(255,255,255)",
          "pattern": {
           "shape": ""
          }
         },
         "name": "DEANDRE CARTER",
         "offsetgroup": "DEANDRE CARTER",
         "orientation": "v",
         "showlegend": true,
         "text": [
          "DEANDRE CARTER"
         ],
         "textposition": "auto",
         "type": "bar",
         "x": [
          "Saskatoon Squatches"
         ],
         "xaxis": "x",
         "y": [
          1.2988566030498343
         ],
         "yaxis": "y"
        },
        {
         "alignmentgroup": "True",
         "customdata": [
          [
           20.30243330176095,
           0,
           "PATRICK MAHOMES",
           "QB",
           "SAS"
          ]
         ],
         "hovertemplate": "<b>%{hovertext}</b><br><br>Franchise=%{x}<br>Projected Score=%{y}<br>Initial Prediction=%{customdata[0]}<br>Current Score=%{customdata[1]}<extra></extra>",
         "hovertext": [
          "PATRICK MAHOMES"
         ],
         "legendgroup": "PATRICK MAHOMES",
         "marker": {
          "color": "rgb(255,255,255)",
          "pattern": {
           "shape": ""
          }
         },
         "name": "PATRICK MAHOMES",
         "offsetgroup": "PATRICK MAHOMES",
         "orientation": "v",
         "showlegend": true,
         "text": [
          "PATRICK MAHOMES"
         ],
         "textposition": "auto",
         "type": "bar",
         "x": [
          "Saskatoon Squatches"
         ],
         "xaxis": "x",
         "y": [
          20.30243330176095
         ],
         "yaxis": "y"
        },
        {
         "alignmentgroup": "True",
         "customdata": [
          [
           12.178352347914595,
           0,
           "JASON SANDERS",
           "PK",
           "SAS"
          ]
         ],
         "hovertemplate": "<b>%{hovertext}</b><br><br>Franchise=%{x}<br>Projected Score=%{y}<br>Initial Prediction=%{customdata[0]}<br>Current Score=%{customdata[1]}<extra></extra>",
         "hovertext": [
          "JASON SANDERS"
         ],
         "legendgroup": "JASON SANDERS",
         "marker": {
          "color": "rgb(255,255,255)",
          "pattern": {
           "shape": ""
          }
         },
         "name": "JASON SANDERS",
         "offsetgroup": "JASON SANDERS",
         "orientation": "v",
         "showlegend": true,
         "text": [
          "JASON SANDERS"
         ],
         "textposition": "auto",
         "type": "bar",
         "x": [
          "Saskatoon Squatches"
         ],
         "xaxis": "x",
         "y": [
          12.178352347914595
         ],
         "yaxis": "y"
        },
        {
         "alignmentgroup": "True",
         "customdata": [
          [
           12.636650323730498,
           0,
           "ISIAH PACHECO",
           "RB",
           "SAS"
          ]
         ],
         "hovertemplate": "<b>%{hovertext}</b><br><br>Franchise=%{x}<br>Projected Score=%{y}<br>Initial Prediction=%{customdata[0]}<br>Current Score=%{customdata[1]}<extra></extra>",
         "hovertext": [
          "ISIAH PACHECO"
         ],
         "legendgroup": "ISIAH PACHECO",
         "marker": {
          "color": "rgb(255,255,255)",
          "pattern": {
           "shape": ""
          }
         },
         "name": "ISIAH PACHECO",
         "offsetgroup": "ISIAH PACHECO",
         "orientation": "v",
         "showlegend": true,
         "text": [
          "ISIAH PACHECO"
         ],
         "textposition": "auto",
         "type": "bar",
         "x": [
          "Saskatoon Squatches"
         ],
         "xaxis": "x",
         "y": [
          12.636650323730498
         ],
         "yaxis": "y"
        },
        {
         "alignmentgroup": "True",
         "customdata": [
          [
           12.728165994244087,
           0,
           "JAMARR CHASE",
           "WR",
           "SAS"
          ]
         ],
         "hovertemplate": "<b>%{hovertext}</b><br><br>Franchise=%{x}<br>Projected Score=%{y}<br>Initial Prediction=%{customdata[0]}<br>Current Score=%{customdata[1]}<extra></extra>",
         "hovertext": [
          "JAMARR CHASE"
         ],
         "legendgroup": "JAMARR CHASE",
         "marker": {
          "color": "rgb(255,255,255)",
          "pattern": {
           "shape": ""
          }
         },
         "name": "JAMARR CHASE",
         "offsetgroup": "JAMARR CHASE",
         "orientation": "v",
         "showlegend": true,
         "text": [
          "JAMARR CHASE"
         ],
         "textposition": "auto",
         "type": "bar",
         "x": [
          "Saskatoon Squatches"
         ],
         "xaxis": "x",
         "y": [
          12.728165994244087
         ],
         "yaxis": "y"
        },
        {
         "alignmentgroup": "True",
         "customdata": [
          [
           6.008090076101172,
           0,
           "PAT FREIERMUTH",
           "TE",
           "SAS"
          ]
         ],
         "hovertemplate": "<b>%{hovertext}</b><br><br>Franchise=%{x}<br>Projected Score=%{y}<br>Initial Prediction=%{customdata[0]}<br>Current Score=%{customdata[1]}<extra></extra>",
         "hovertext": [
          "PAT FREIERMUTH"
         ],
         "legendgroup": "PAT FREIERMUTH",
         "marker": {
          "color": "rgb(255,255,255)",
          "pattern": {
           "shape": ""
          }
         },
         "name": "PAT FREIERMUTH",
         "offsetgroup": "PAT FREIERMUTH",
         "orientation": "v",
         "showlegend": true,
         "text": [
          "PAT FREIERMUTH"
         ],
         "textposition": "auto",
         "type": "bar",
         "x": [
          "Saskatoon Squatches"
         ],
         "xaxis": "x",
         "y": [
          6.008090076101172
         ],
         "yaxis": "y"
        },
        {
         "alignmentgroup": "True",
         "customdata": [
          [
           13.390597835471961,
           0,
           "SAQUON BARKLEY",
           "RB",
           "SAS"
          ]
         ],
         "hovertemplate": "<b>%{hovertext}</b><br><br>Franchise=%{x}<br>Projected Score=%{y}<br>Initial Prediction=%{customdata[0]}<br>Current Score=%{customdata[1]}<extra></extra>",
         "hovertext": [
          "SAQUON BARKLEY"
         ],
         "legendgroup": "SAQUON BARKLEY",
         "marker": {
          "color": "rgb(255,255,255)",
          "pattern": {
           "shape": ""
          }
         },
         "name": "SAQUON BARKLEY",
         "offsetgroup": "SAQUON BARKLEY",
         "orientation": "v",
         "showlegend": true,
         "text": [
          "SAQUON BARKLEY"
         ],
         "textposition": "auto",
         "type": "bar",
         "x": [
          "Saskatoon Squatches"
         ],
         "xaxis": "x",
         "y": [
          13.390597835471961
         ],
         "yaxis": "y"
        },
        {
         "alignmentgroup": "True",
         "customdata": [
          [
           8.188088509876874,
           2,
           "SEATTLE SEAHAWKS",
           "DF",
           "SAS"
          ]
         ],
         "hovertemplate": "<b>%{hovertext}</b><br><br>Franchise=%{x}<br>Projected Score=%{y}<br>Initial Prediction=%{customdata[0]}<br>Current Score=%{customdata[1]}<extra></extra>",
         "hovertext": [
          "SEATTLE SEAHAWKS"
         ],
         "legendgroup": "SEATTLE SEAHAWKS",
         "marker": {
          "color": "rgb(255,176,176)",
          "pattern": {
           "shape": ""
          }
         },
         "name": "SEATTLE SEAHAWKS",
         "offsetgroup": "SEATTLE SEAHAWKS",
         "orientation": "v",
         "showlegend": true,
         "text": [
          "SEATTLE SEAHAWKS"
         ],
         "textposition": "auto",
         "type": "bar",
         "x": [
          "Saskatoon Squatches"
         ],
         "xaxis": "x",
         "y": [
          2
         ],
         "yaxis": "y"
        },
        {
         "alignmentgroup": "True",
         "customdata": [
          [
           17.30685335055603,
           0,
           "DEREK CARR",
           "QB",
           "SAS"
          ]
         ],
         "hovertemplate": "<b>%{hovertext}</b><br><br>Franchise=%{x}<br>Projected Score=%{y}<br>Initial Prediction=%{customdata[0]}<br>Current Score=%{customdata[1]}<extra></extra>",
         "hovertext": [
          "DEREK CARR"
         ],
         "legendgroup": "DEREK CARR",
         "marker": {
          "color": "rgb(255,255,255)",
          "pattern": {
           "shape": ""
          }
         },
         "name": "DEREK CARR",
         "offsetgroup": "DEREK CARR",
         "orientation": "v",
         "showlegend": true,
         "text": [
          "DEREK CARR"
         ],
         "textposition": "auto",
         "type": "bar",
         "x": [
          "Saskatoon Squatches"
         ],
         "xaxis": "x",
         "y": [
          17.30685335055603
         ],
         "yaxis": "y"
        },
        {
         "alignmentgroup": "True",
         "customdata": [
          [
           11.923572015456976,
           0,
           "GRAHAM GANO",
           "PK",
           "SAS"
          ]
         ],
         "hovertemplate": "<b>%{hovertext}</b><br><br>Franchise=%{x}<br>Projected Score=%{y}<br>Initial Prediction=%{customdata[0]}<br>Current Score=%{customdata[1]}<extra></extra>",
         "hovertext": [
          "GRAHAM GANO"
         ],
         "legendgroup": "GRAHAM GANO",
         "marker": {
          "color": "rgb(255,255,255)",
          "pattern": {
           "shape": ""
          }
         },
         "name": "GRAHAM GANO",
         "offsetgroup": "GRAHAM GANO",
         "orientation": "v",
         "showlegend": true,
         "text": [
          "GRAHAM GANO"
         ],
         "textposition": "auto",
         "type": "bar",
         "x": [
          "Saskatoon Squatches"
         ],
         "xaxis": "x",
         "y": [
          11.923572015456976
         ],
         "yaxis": "y"
        },
        {
         "alignmentgroup": "True",
         "customdata": [
          [
           8.847188843769716,
           0,
           "TJ HOCKENSON",
           "TE",
           "SAS"
          ]
         ],
         "hovertemplate": "<b>%{hovertext}</b><br><br>Franchise=%{x}<br>Projected Score=%{y}<br>Initial Prediction=%{customdata[0]}<br>Current Score=%{customdata[1]}<extra></extra>",
         "hovertext": [
          "TJ HOCKENSON"
         ],
         "legendgroup": "TJ HOCKENSON",
         "marker": {
          "color": "rgb(255,255,255)",
          "pattern": {
           "shape": ""
          }
         },
         "name": "TJ HOCKENSON",
         "offsetgroup": "TJ HOCKENSON",
         "orientation": "v",
         "showlegend": true,
         "text": [
          "TJ HOCKENSON"
         ],
         "textposition": "auto",
         "type": "bar",
         "x": [
          "Saskatoon Squatches"
         ],
         "xaxis": "x",
         "y": [
          8.847188843769716
         ],
         "yaxis": "y"
        },
        {
         "alignmentgroup": "True",
         "customdata": [
          [
           6.666636910010289,
           0,
           "MACK HOLLINS",
           "WR",
           "GUS"
          ]
         ],
         "hovertemplate": "<b>%{hovertext}</b><br><br>Franchise=%{x}<br>Projected Score=%{y}<br>Initial Prediction=%{customdata[0]}<br>Current Score=%{customdata[1]}<extra></extra>",
         "hovertext": [
          "MACK HOLLINS"
         ],
         "legendgroup": "MACK HOLLINS",
         "marker": {
          "color": "rgb(255,255,255)",
          "pattern": {
           "shape": ""
          }
         },
         "name": "MACK HOLLINS",
         "offsetgroup": "MACK HOLLINS",
         "orientation": "v",
         "showlegend": true,
         "text": [
          "MACK HOLLINS"
         ],
         "textposition": "auto",
         "type": "bar",
         "x": [
          "Gus The Bus"
         ],
         "xaxis": "x",
         "y": [
          6.666636910010289
         ],
         "yaxis": "y"
        },
        {
         "alignmentgroup": "True",
         "customdata": [
          [
           6.078846200046907,
           0,
           "JUWAN JOHNSON",
           "TE",
           "GUS"
          ]
         ],
         "hovertemplate": "<b>%{hovertext}</b><br><br>Franchise=%{x}<br>Projected Score=%{y}<br>Initial Prediction=%{customdata[0]}<br>Current Score=%{customdata[1]}<extra></extra>",
         "hovertext": [
          "JUWAN JOHNSON"
         ],
         "legendgroup": "JUWAN JOHNSON",
         "marker": {
          "color": "rgb(255,255,255)",
          "pattern": {
           "shape": ""
          }
         },
         "name": "JUWAN JOHNSON",
         "offsetgroup": "JUWAN JOHNSON",
         "orientation": "v",
         "showlegend": true,
         "text": [
          "JUWAN JOHNSON"
         ],
         "textposition": "auto",
         "type": "bar",
         "x": [
          "Gus The Bus"
         ],
         "xaxis": "x",
         "y": [
          6.078846200046907
         ],
         "yaxis": "y"
        },
        {
         "alignmentgroup": "True",
         "customdata": [
          [
           8.29112207336925,
           0,
           "BALTIMORE RAVENS",
           "DF",
           "GUS"
          ]
         ],
         "hovertemplate": "<b>%{hovertext}</b><br><br>Franchise=%{x}<br>Projected Score=%{y}<br>Initial Prediction=%{customdata[0]}<br>Current Score=%{customdata[1]}<extra></extra>",
         "hovertext": [
          "BALTIMORE RAVENS"
         ],
         "legendgroup": "BALTIMORE RAVENS",
         "marker": {
          "color": "rgb(255,255,255)",
          "pattern": {
           "shape": ""
          }
         },
         "name": "BALTIMORE RAVENS",
         "offsetgroup": "BALTIMORE RAVENS",
         "orientation": "v",
         "showlegend": true,
         "text": [
          "BALTIMORE RAVENS"
         ],
         "textposition": "auto",
         "type": "bar",
         "x": [
          "Gus The Bus"
         ],
         "xaxis": "x",
         "y": [
          8.29112207336925
         ],
         "yaxis": "y"
        },
        {
         "alignmentgroup": "True",
         "customdata": [
          [
           8.522765469678863,
           0,
           "PITTSBURGH STEELERS",
           "DF",
           "GUS"
          ]
         ],
         "hovertemplate": "<b>%{hovertext}</b><br><br>Franchise=%{x}<br>Projected Score=%{y}<br>Initial Prediction=%{customdata[0]}<br>Current Score=%{customdata[1]}<extra></extra>",
         "hovertext": [
          "PITTSBURGH STEELERS"
         ],
         "legendgroup": "PITTSBURGH STEELERS",
         "marker": {
          "color": "rgb(255,255,255)",
          "pattern": {
           "shape": ""
          }
         },
         "name": "PITTSBURGH STEELERS",
         "offsetgroup": "PITTSBURGH STEELERS",
         "orientation": "v",
         "showlegend": true,
         "text": [
          "PITTSBURGH STEELERS"
         ],
         "textposition": "auto",
         "type": "bar",
         "x": [
          "Gus The Bus"
         ],
         "xaxis": "x",
         "y": [
          8.522765469678863
         ],
         "yaxis": "y"
        },
        {
         "alignmentgroup": "True",
         "customdata": [
          [
           4.286929574002269,
           0,
           "SAMAJE PERINE",
           "RB",
           "GUS"
          ]
         ],
         "hovertemplate": "<b>%{hovertext}</b><br><br>Franchise=%{x}<br>Projected Score=%{y}<br>Initial Prediction=%{customdata[0]}<br>Current Score=%{customdata[1]}<extra></extra>",
         "hovertext": [
          "SAMAJE PERINE"
         ],
         "legendgroup": "SAMAJE PERINE",
         "marker": {
          "color": "rgb(255,255,255)",
          "pattern": {
           "shape": ""
          }
         },
         "name": "SAMAJE PERINE",
         "offsetgroup": "SAMAJE PERINE",
         "orientation": "v",
         "showlegend": true,
         "text": [
          "SAMAJE PERINE"
         ],
         "textposition": "auto",
         "type": "bar",
         "x": [
          "Gus The Bus"
         ],
         "xaxis": "x",
         "y": [
          4.286929574002269
         ],
         "yaxis": "y"
        },
        {
         "alignmentgroup": "True",
         "customdata": [
          [
           1.806858079399771,
           0,
           "TYLER HUNTLEY",
           "QB",
           "GUS"
          ]
         ],
         "hovertemplate": "<b>%{hovertext}</b><br><br>Franchise=%{x}<br>Projected Score=%{y}<br>Initial Prediction=%{customdata[0]}<br>Current Score=%{customdata[1]}<extra></extra>",
         "hovertext": [
          "TYLER HUNTLEY"
         ],
         "legendgroup": "TYLER HUNTLEY",
         "marker": {
          "color": "rgb(255,255,255)",
          "pattern": {
           "shape": ""
          }
         },
         "name": "TYLER HUNTLEY",
         "offsetgroup": "TYLER HUNTLEY",
         "orientation": "v",
         "showlegend": true,
         "text": [
          "TYLER HUNTLEY"
         ],
         "textposition": "auto",
         "type": "bar",
         "x": [
          "Gus The Bus"
         ],
         "xaxis": "x",
         "y": [
          1.806858079399771
         ],
         "yaxis": "y"
        },
        {
         "alignmentgroup": "True",
         "customdata": [
          [
           10.246708781569314,
           0,
           "DUSTIN HOPKINS",
           "PK",
           "GUS"
          ]
         ],
         "hovertemplate": "<b>%{hovertext}</b><br><br>Franchise=%{x}<br>Projected Score=%{y}<br>Initial Prediction=%{customdata[0]}<br>Current Score=%{customdata[1]}<extra></extra>",
         "hovertext": [
          "DUSTIN HOPKINS"
         ],
         "legendgroup": "DUSTIN HOPKINS",
         "marker": {
          "color": "rgb(255,255,255)",
          "pattern": {
           "shape": ""
          }
         },
         "name": "DUSTIN HOPKINS",
         "offsetgroup": "DUSTIN HOPKINS",
         "orientation": "v",
         "showlegend": true,
         "text": [
          "DUSTIN HOPKINS"
         ],
         "textposition": "auto",
         "type": "bar",
         "x": [
          "Gus The Bus"
         ],
         "xaxis": "x",
         "y": [
          10.246708781569314
         ],
         "yaxis": "y"
        },
        {
         "alignmentgroup": "True",
         "customdata": [
          [
           12.775834437833497,
           0,
           "DAMEON PIERCE",
           "RB",
           "GUS"
          ]
         ],
         "hovertemplate": "<b>%{hovertext}</b><br><br>Franchise=%{x}<br>Projected Score=%{y}<br>Initial Prediction=%{customdata[0]}<br>Current Score=%{customdata[1]}<extra></extra>",
         "hovertext": [
          "DAMEON PIERCE"
         ],
         "legendgroup": "DAMEON PIERCE",
         "marker": {
          "color": "rgb(255,255,255)",
          "pattern": {
           "shape": ""
          }
         },
         "name": "DAMEON PIERCE",
         "offsetgroup": "DAMEON PIERCE",
         "orientation": "v",
         "showlegend": true,
         "text": [
          "DAMEON PIERCE"
         ],
         "textposition": "auto",
         "type": "bar",
         "x": [
          "Gus The Bus"
         ],
         "xaxis": "x",
         "y": [
          12.775834437833497
         ],
         "yaxis": "y"
        },
        {
         "alignmentgroup": "True",
         "customdata": [
          [
           9.568993504449278,
           0,
           "JAYLEN WADDLE",
           "WR",
           "GUS"
          ]
         ],
         "hovertemplate": "<b>%{hovertext}</b><br><br>Franchise=%{x}<br>Projected Score=%{y}<br>Initial Prediction=%{customdata[0]}<br>Current Score=%{customdata[1]}<extra></extra>",
         "hovertext": [
          "JAYLEN WADDLE"
         ],
         "legendgroup": "JAYLEN WADDLE",
         "marker": {
          "color": "rgb(255,255,255)",
          "pattern": {
           "shape": ""
          }
         },
         "name": "JAYLEN WADDLE",
         "offsetgroup": "JAYLEN WADDLE",
         "orientation": "v",
         "showlegend": true,
         "text": [
          "JAYLEN WADDLE"
         ],
         "textposition": "auto",
         "type": "bar",
         "x": [
          "Gus The Bus"
         ],
         "xaxis": "x",
         "y": [
          9.568993504449278
         ],
         "yaxis": "y"
        },
        {
         "alignmentgroup": "True",
         "customdata": [
          [
           8.56220680589645,
           10.5,
           "NOAH FANT",
           "TE",
           "GUS"
          ]
         ],
         "hovertemplate": "<b>%{hovertext}</b><br><br>Franchise=%{x}<br>Projected Score=%{y}<br>Initial Prediction=%{customdata[0]}<br>Current Score=%{customdata[1]}<extra></extra>",
         "hovertext": [
          "NOAH FANT"
         ],
         "legendgroup": "NOAH FANT",
         "marker": {
          "color": "rgb(230,255,230)",
          "pattern": {
           "shape": ""
          }
         },
         "name": "NOAH FANT",
         "offsetgroup": "NOAH FANT",
         "orientation": "v",
         "showlegend": true,
         "text": [
          "NOAH FANT"
         ],
         "textposition": "auto",
         "type": "bar",
         "x": [
          "Gus The Bus"
         ],
         "xaxis": "x",
         "y": [
          10.5
         ],
         "yaxis": "y"
        },
        {
         "alignmentgroup": "True",
         "customdata": [
          [
           11.108591958336275,
           0,
           "CAM AKERS",
           "RB",
           "GUS"
          ]
         ],
         "hovertemplate": "<b>%{hovertext}</b><br><br>Franchise=%{x}<br>Projected Score=%{y}<br>Initial Prediction=%{customdata[0]}<br>Current Score=%{customdata[1]}<extra></extra>",
         "hovertext": [
          "CAM AKERS"
         ],
         "legendgroup": "CAM AKERS",
         "marker": {
          "color": "rgb(255,255,255)",
          "pattern": {
           "shape": ""
          }
         },
         "name": "CAM AKERS",
         "offsetgroup": "CAM AKERS",
         "orientation": "v",
         "showlegend": true,
         "text": [
          "CAM AKERS"
         ],
         "textposition": "auto",
         "type": "bar",
         "x": [
          "Gus The Bus"
         ],
         "xaxis": "x",
         "y": [
          11.108591958336277
         ],
         "yaxis": "y"
        },
        {
         "alignmentgroup": "True",
         "customdata": [
          [
           12.176860445876468,
           0,
           "KENNY PICKETT",
           "QB",
           "GUS"
          ]
         ],
         "hovertemplate": "<b>%{hovertext}</b><br><br>Franchise=%{x}<br>Projected Score=%{y}<br>Initial Prediction=%{customdata[0]}<br>Current Score=%{customdata[1]}<extra></extra>",
         "hovertext": [
          "KENNY PICKETT"
         ],
         "legendgroup": "KENNY PICKETT",
         "marker": {
          "color": "rgb(255,255,255)",
          "pattern": {
           "shape": ""
          }
         },
         "name": "KENNY PICKETT",
         "offsetgroup": "KENNY PICKETT",
         "orientation": "v",
         "showlegend": true,
         "text": [
          "KENNY PICKETT"
         ],
         "textposition": "auto",
         "type": "bar",
         "x": [
          "Gus The Bus"
         ],
         "xaxis": "x",
         "y": [
          12.176860445876468
         ],
         "yaxis": "y"
        },
        {
         "alignmentgroup": "True",
         "customdata": [
          [
           14.446840958765003,
           0,
           "DALVIN COOK",
           "RB",
           "GUS"
          ]
         ],
         "hovertemplate": "<b>%{hovertext}</b><br><br>Franchise=%{x}<br>Projected Score=%{y}<br>Initial Prediction=%{customdata[0]}<br>Current Score=%{customdata[1]}<extra></extra>",
         "hovertext": [
          "DALVIN COOK"
         ],
         "legendgroup": "DALVIN COOK",
         "marker": {
          "color": "rgb(255,255,255)",
          "pattern": {
           "shape": ""
          }
         },
         "name": "DALVIN COOK",
         "offsetgroup": "DALVIN COOK",
         "orientation": "v",
         "showlegend": true,
         "text": [
          "DALVIN COOK"
         ],
         "textposition": "auto",
         "type": "bar",
         "x": [
          "Gus The Bus"
         ],
         "xaxis": "x",
         "y": [
          14.446840958765003
         ],
         "yaxis": "y"
        },
        {
         "alignmentgroup": "True",
         "customdata": [
          [
           9.339351777754192,
           0,
           "CHRISTIAN KIRK",
           "WR",
           "GUS"
          ]
         ],
         "hovertemplate": "<b>%{hovertext}</b><br><br>Franchise=%{x}<br>Projected Score=%{y}<br>Initial Prediction=%{customdata[0]}<br>Current Score=%{customdata[1]}<extra></extra>",
         "hovertext": [
          "CHRISTIAN KIRK"
         ],
         "legendgroup": "CHRISTIAN KIRK",
         "marker": {
          "color": "rgb(255,255,255)",
          "pattern": {
           "shape": ""
          }
         },
         "name": "CHRISTIAN KIRK",
         "offsetgroup": "CHRISTIAN KIRK",
         "orientation": "v",
         "showlegend": true,
         "text": [
          "CHRISTIAN KIRK"
         ],
         "textposition": "auto",
         "type": "bar",
         "x": [
          "Gus The Bus"
         ],
         "xaxis": "x",
         "y": [
          9.339351777754192
         ],
         "yaxis": "y"
        },
        {
         "alignmentgroup": "True",
         "customdata": [
          [
           12.938347667469344,
           0,
           "JUSTIN TUCKER",
           "PK",
           "GUS"
          ]
         ],
         "hovertemplate": "<b>%{hovertext}</b><br><br>Franchise=%{x}<br>Projected Score=%{y}<br>Initial Prediction=%{customdata[0]}<br>Current Score=%{customdata[1]}<extra></extra>",
         "hovertext": [
          "JUSTIN TUCKER"
         ],
         "legendgroup": "JUSTIN TUCKER",
         "marker": {
          "color": "rgb(255,255,255)",
          "pattern": {
           "shape": ""
          }
         },
         "name": "JUSTIN TUCKER",
         "offsetgroup": "JUSTIN TUCKER",
         "orientation": "v",
         "showlegend": true,
         "text": [
          "JUSTIN TUCKER"
         ],
         "textposition": "auto",
         "type": "bar",
         "x": [
          "Gus The Bus"
         ],
         "xaxis": "x",
         "y": [
          12.938347667469344
         ],
         "yaxis": "y"
        },
        {
         "alignmentgroup": "True",
         "customdata": [
          [
           1.5030644554806778,
           0,
           "JAMAL AGNEW",
           "WR",
           "CMBK"
          ]
         ],
         "hovertemplate": "<b>%{hovertext}</b><br><br>Franchise=%{x}<br>Projected Score=%{y}<br>Initial Prediction=%{customdata[0]}<br>Current Score=%{customdata[1]}<extra></extra>",
         "hovertext": [
          "JAMAL AGNEW"
         ],
         "legendgroup": "JAMAL AGNEW",
         "marker": {
          "color": "rgb(255,255,255)",
          "pattern": {
           "shape": ""
          }
         },
         "name": "JAMAL AGNEW",
         "offsetgroup": "JAMAL AGNEW",
         "orientation": "v",
         "showlegend": true,
         "text": [
          "JAMAL AGNEW"
         ],
         "textposition": "auto",
         "type": "bar",
         "x": [
          "Comeback Kings"
         ],
         "xaxis": "x",
         "y": [
          1.5030644554806778
         ],
         "yaxis": "y"
        },
        {
         "alignmentgroup": "True",
         "customdata": [
          [
           19.105177491362817,
           0,
           "JOSH ALLEN",
           "QB",
           "CMBK"
          ]
         ],
         "hovertemplate": "<b>%{hovertext}</b><br><br>Franchise=%{x}<br>Projected Score=%{y}<br>Initial Prediction=%{customdata[0]}<br>Current Score=%{customdata[1]}<extra></extra>",
         "hovertext": [
          "JOSH ALLEN"
         ],
         "legendgroup": "JOSH ALLEN",
         "marker": {
          "color": "rgb(255,255,255)",
          "pattern": {
           "shape": ""
          }
         },
         "name": "JOSH ALLEN",
         "offsetgroup": "JOSH ALLEN",
         "orientation": "v",
         "showlegend": true,
         "text": [
          "JOSH ALLEN"
         ],
         "textposition": "auto",
         "type": "bar",
         "x": [
          "Comeback Kings"
         ],
         "xaxis": "x",
         "y": [
          19.105177491362813
         ],
         "yaxis": "y"
        },
        {
         "alignmentgroup": "True",
         "customdata": [
          [
           15.232767158626622,
           0,
           "GREG ZUERLEIN",
           "PK",
           "CMBK"
          ]
         ],
         "hovertemplate": "<b>%{hovertext}</b><br><br>Franchise=%{x}<br>Projected Score=%{y}<br>Initial Prediction=%{customdata[0]}<br>Current Score=%{customdata[1]}<extra></extra>",
         "hovertext": [
          "GREG ZUERLEIN"
         ],
         "legendgroup": "GREG ZUERLEIN",
         "marker": {
          "color": "rgb(255,255,255)",
          "pattern": {
           "shape": ""
          }
         },
         "name": "GREG ZUERLEIN",
         "offsetgroup": "GREG ZUERLEIN",
         "orientation": "v",
         "showlegend": true,
         "text": [
          "GREG ZUERLEIN"
         ],
         "textposition": "auto",
         "type": "bar",
         "x": [
          "Comeback Kings"
         ],
         "xaxis": "x",
         "y": [
          15.232767158626622
         ],
         "yaxis": "y"
        },
        {
         "alignmentgroup": "True",
         "customdata": [
          [
           2.329635991290565,
           0,
           "JUSTIN JACKSON",
           "RB",
           "CMBK"
          ]
         ],
         "hovertemplate": "<b>%{hovertext}</b><br><br>Franchise=%{x}<br>Projected Score=%{y}<br>Initial Prediction=%{customdata[0]}<br>Current Score=%{customdata[1]}<extra></extra>",
         "hovertext": [
          "JUSTIN JACKSON"
         ],
         "legendgroup": "JUSTIN JACKSON",
         "marker": {
          "color": "rgb(255,255,255)",
          "pattern": {
           "shape": ""
          }
         },
         "name": "JUSTIN JACKSON",
         "offsetgroup": "JUSTIN JACKSON",
         "orientation": "v",
         "showlegend": true,
         "text": [
          "JUSTIN JACKSON"
         ],
         "textposition": "auto",
         "type": "bar",
         "x": [
          "Comeback Kings"
         ],
         "xaxis": "x",
         "y": [
          2.329635991290565
         ],
         "yaxis": "y"
        },
        {
         "alignmentgroup": "True",
         "customdata": [
          [
           14.163614757054912,
           0,
           "DANIEL JONES",
           "QB",
           "CMBK"
          ]
         ],
         "hovertemplate": "<b>%{hovertext}</b><br><br>Franchise=%{x}<br>Projected Score=%{y}<br>Initial Prediction=%{customdata[0]}<br>Current Score=%{customdata[1]}<extra></extra>",
         "hovertext": [
          "DANIEL JONES"
         ],
         "legendgroup": "DANIEL JONES",
         "marker": {
          "color": "rgb(255,255,255)",
          "pattern": {
           "shape": ""
          }
         },
         "name": "DANIEL JONES",
         "offsetgroup": "DANIEL JONES",
         "orientation": "v",
         "showlegend": true,
         "text": [
          "DANIEL JONES"
         ],
         "textposition": "auto",
         "type": "bar",
         "x": [
          "Comeback Kings"
         ],
         "xaxis": "x",
         "y": [
          14.16361475705491
         ],
         "yaxis": "y"
        },
        {
         "alignmentgroup": "True",
         "customdata": [
          [
           9.344420474809873,
           0,
           "DALTON SCHULTZ",
           "TE",
           "CMBK"
          ]
         ],
         "hovertemplate": "<b>%{hovertext}</b><br><br>Franchise=%{x}<br>Projected Score=%{y}<br>Initial Prediction=%{customdata[0]}<br>Current Score=%{customdata[1]}<extra></extra>",
         "hovertext": [
          "DALTON SCHULTZ"
         ],
         "legendgroup": "DALTON SCHULTZ",
         "marker": {
          "color": "rgb(255,255,255)",
          "pattern": {
           "shape": ""
          }
         },
         "name": "DALTON SCHULTZ",
         "offsetgroup": "DALTON SCHULTZ",
         "orientation": "v",
         "showlegend": true,
         "text": [
          "DALTON SCHULTZ"
         ],
         "textposition": "auto",
         "type": "bar",
         "x": [
          "Comeback Kings"
         ],
         "xaxis": "x",
         "y": [
          9.344420474809873
         ],
         "yaxis": "y"
        },
        {
         "alignmentgroup": "True",
         "customdata": [
          [
           5.874332395037156,
           0,
           "JAMAAL WILLIAMS",
           "RB",
           "CMBK"
          ]
         ],
         "hovertemplate": "<b>%{hovertext}</b><br><br>Franchise=%{x}<br>Projected Score=%{y}<br>Initial Prediction=%{customdata[0]}<br>Current Score=%{customdata[1]}<extra></extra>",
         "hovertext": [
          "JAMAAL WILLIAMS"
         ],
         "legendgroup": "JAMAAL WILLIAMS",
         "marker": {
          "color": "rgb(255,255,255)",
          "pattern": {
           "shape": ""
          }
         },
         "name": "JAMAAL WILLIAMS",
         "offsetgroup": "JAMAAL WILLIAMS",
         "orientation": "v",
         "showlegend": true,
         "text": [
          "JAMAAL WILLIAMS"
         ],
         "textposition": "auto",
         "type": "bar",
         "x": [
          "Comeback Kings"
         ],
         "xaxis": "x",
         "y": [
          5.874332395037156
         ],
         "yaxis": "y"
        },
        {
         "alignmentgroup": "True",
         "customdata": [
          [
           12.364626526116632,
           0,
           "RYAN SUCCOP",
           "PK",
           "CMBK"
          ]
         ],
         "hovertemplate": "<b>%{hovertext}</b><br><br>Franchise=%{x}<br>Projected Score=%{y}<br>Initial Prediction=%{customdata[0]}<br>Current Score=%{customdata[1]}<extra></extra>",
         "hovertext": [
          "RYAN SUCCOP"
         ],
         "legendgroup": "RYAN SUCCOP",
         "marker": {
          "color": "rgb(255,255,255)",
          "pattern": {
           "shape": ""
          }
         },
         "name": "RYAN SUCCOP",
         "offsetgroup": "RYAN SUCCOP",
         "orientation": "v",
         "showlegend": true,
         "text": [
          "RYAN SUCCOP"
         ],
         "textposition": "auto",
         "type": "bar",
         "x": [
          "Comeback Kings"
         ],
         "xaxis": "x",
         "y": [
          12.364626526116632
         ],
         "yaxis": "y"
        },
        {
         "alignmentgroup": "True",
         "customdata": [
          [
           11.190709156618666,
           0,
           "STEFON DIGGS",
           "WR",
           "CMBK"
          ]
         ],
         "hovertemplate": "<b>%{hovertext}</b><br><br>Franchise=%{x}<br>Projected Score=%{y}<br>Initial Prediction=%{customdata[0]}<br>Current Score=%{customdata[1]}<extra></extra>",
         "hovertext": [
          "STEFON DIGGS"
         ],
         "legendgroup": "STEFON DIGGS",
         "marker": {
          "color": "rgb(255,255,255)",
          "pattern": {
           "shape": ""
          }
         },
         "name": "STEFON DIGGS",
         "offsetgroup": "STEFON DIGGS",
         "orientation": "v",
         "showlegend": true,
         "text": [
          "STEFON DIGGS"
         ],
         "textposition": "auto",
         "type": "bar",
         "x": [
          "Comeback Kings"
         ],
         "xaxis": "x",
         "y": [
          11.190709156618666
         ],
         "yaxis": "y"
        },
        {
         "alignmentgroup": "True",
         "customdata": [
          [
           7.268887743092075,
           0,
           "MICHAEL GALLUP",
           "WR",
           "CMBK"
          ]
         ],
         "hovertemplate": "<b>%{hovertext}</b><br><br>Franchise=%{x}<br>Projected Score=%{y}<br>Initial Prediction=%{customdata[0]}<br>Current Score=%{customdata[1]}<extra></extra>",
         "hovertext": [
          "MICHAEL GALLUP"
         ],
         "legendgroup": "MICHAEL GALLUP",
         "marker": {
          "color": "rgb(255,255,255)",
          "pattern": {
           "shape": ""
          }
         },
         "name": "MICHAEL GALLUP",
         "offsetgroup": "MICHAEL GALLUP",
         "orientation": "v",
         "showlegend": true,
         "text": [
          "MICHAEL GALLUP"
         ],
         "textposition": "auto",
         "type": "bar",
         "x": [
          "Comeback Kings"
         ],
         "xaxis": "x",
         "y": [
          7.268887743092075
         ],
         "yaxis": "y"
        },
        {
         "alignmentgroup": "True",
         "customdata": [
          [
           8.487574675234576,
           0,
           "LOS ANGELES RAMS",
           "DF",
           "CMBK"
          ]
         ],
         "hovertemplate": "<b>%{hovertext}</b><br><br>Franchise=%{x}<br>Projected Score=%{y}<br>Initial Prediction=%{customdata[0]}<br>Current Score=%{customdata[1]}<extra></extra>",
         "hovertext": [
          "LOS ANGELES RAMS"
         ],
         "legendgroup": "LOS ANGELES RAMS",
         "marker": {
          "color": "rgb(255,255,255)",
          "pattern": {
           "shape": ""
          }
         },
         "name": "LOS ANGELES RAMS",
         "offsetgroup": "LOS ANGELES RAMS",
         "orientation": "v",
         "showlegend": true,
         "text": [
          "LOS ANGELES RAMS"
         ],
         "textposition": "auto",
         "type": "bar",
         "x": [
          "Comeback Kings"
         ],
         "xaxis": "x",
         "y": [
          8.487574675234576
         ],
         "yaxis": "y"
        },
        {
         "alignmentgroup": "True",
         "customdata": [
          [
           8.509781842261308,
           0,
           "TAMPA BAY BUCCANEERS",
           "DF",
           "CMBK"
          ]
         ],
         "hovertemplate": "<b>%{hovertext}</b><br><br>Franchise=%{x}<br>Projected Score=%{y}<br>Initial Prediction=%{customdata[0]}<br>Current Score=%{customdata[1]}<extra></extra>",
         "hovertext": [
          "TAMPA BAY BUCCANEERS"
         ],
         "legendgroup": "TAMPA BAY BUCCANEERS",
         "marker": {
          "color": "rgb(255,255,255)",
          "pattern": {
           "shape": ""
          }
         },
         "name": "TAMPA BAY BUCCANEERS",
         "offsetgroup": "TAMPA BAY BUCCANEERS",
         "orientation": "v",
         "showlegend": true,
         "text": [
          "TAMPA BAY BUCCANEERS"
         ],
         "textposition": "auto",
         "type": "bar",
         "x": [
          "Comeback Kings"
         ],
         "xaxis": "x",
         "y": [
          8.509781842261308
         ],
         "yaxis": "y"
        },
        {
         "alignmentgroup": "True",
         "customdata": [
          [
           5.799858060075128,
           0,
           "ROBERT TONYAN",
           "TE",
           "CMBK"
          ]
         ],
         "hovertemplate": "<b>%{hovertext}</b><br><br>Franchise=%{x}<br>Projected Score=%{y}<br>Initial Prediction=%{customdata[0]}<br>Current Score=%{customdata[1]}<extra></extra>",
         "hovertext": [
          "ROBERT TONYAN"
         ],
         "legendgroup": "ROBERT TONYAN",
         "marker": {
          "color": "rgb(255,255,255)",
          "pattern": {
           "shape": ""
          }
         },
         "name": "ROBERT TONYAN",
         "offsetgroup": "ROBERT TONYAN",
         "orientation": "v",
         "showlegend": true,
         "text": [
          "ROBERT TONYAN"
         ],
         "textposition": "auto",
         "type": "bar",
         "x": [
          "Comeback Kings"
         ],
         "xaxis": "x",
         "y": [
          5.799858060075128
         ],
         "yaxis": "y"
        },
        {
         "alignmentgroup": "True",
         "customdata": [
          [
           2.074921136629415,
           0,
           "DEEJAY DALLAS",
           "RB",
           "CMBK"
          ]
         ],
         "hovertemplate": "<b>%{hovertext}</b><br><br>Franchise=%{x}<br>Projected Score=%{y}<br>Initial Prediction=%{customdata[0]}<br>Current Score=%{customdata[1]}<extra></extra>",
         "hovertext": [
          "DEEJAY DALLAS"
         ],
         "legendgroup": "DEEJAY DALLAS",
         "marker": {
          "color": "rgb(255,229,229)",
          "pattern": {
           "shape": ""
          }
         },
         "name": "DEEJAY DALLAS",
         "offsetgroup": "DEEJAY DALLAS",
         "orientation": "v",
         "showlegend": true,
         "text": [
          "DEEJAY DALLAS"
         ],
         "textposition": "auto",
         "type": "bar",
         "x": [
          "Comeback Kings"
         ],
         "xaxis": "x",
         "y": [
          0
         ],
         "yaxis": "y"
        }
       ],
       "layout": {
        "barmode": "stack",
        "font": {
         "family": "Skia"
        },
        "legend": {
         "title": {
          "text": "playerName"
         },
         "tracegroupgap": 0
        },
        "margin": {
         "t": 60
        },
        "plot_bgcolor": "rgba(0,0,0,0)",
        "showlegend": false,
        "template": {
         "data": {
          "bar": [
           {
            "error_x": {
             "color": "#2a3f5f"
            },
            "error_y": {
             "color": "#2a3f5f"
            },
            "marker": {
             "line": {
              "color": "#E5ECF6",
              "width": 0.5
             },
             "pattern": {
              "fillmode": "overlay",
              "size": 10,
              "solidity": 0.2
             }
            },
            "type": "bar"
           }
          ],
          "barpolar": [
           {
            "marker": {
             "line": {
              "color": "#E5ECF6",
              "width": 0.5
             },
             "pattern": {
              "fillmode": "overlay",
              "size": 10,
              "solidity": 0.2
             }
            },
            "type": "barpolar"
           }
          ],
          "carpet": [
           {
            "aaxis": {
             "endlinecolor": "#2a3f5f",
             "gridcolor": "white",
             "linecolor": "white",
             "minorgridcolor": "white",
             "startlinecolor": "#2a3f5f"
            },
            "baxis": {
             "endlinecolor": "#2a3f5f",
             "gridcolor": "white",
             "linecolor": "white",
             "minorgridcolor": "white",
             "startlinecolor": "#2a3f5f"
            },
            "type": "carpet"
           }
          ],
          "choropleth": [
           {
            "colorbar": {
             "outlinewidth": 0,
             "ticks": ""
            },
            "type": "choropleth"
           }
          ],
          "contour": [
           {
            "colorbar": {
             "outlinewidth": 0,
             "ticks": ""
            },
            "colorscale": [
             [
              0,
              "#0d0887"
             ],
             [
              0.1111111111111111,
              "#46039f"
             ],
             [
              0.2222222222222222,
              "#7201a8"
             ],
             [
              0.3333333333333333,
              "#9c179e"
             ],
             [
              0.4444444444444444,
              "#bd3786"
             ],
             [
              0.5555555555555556,
              "#d8576b"
             ],
             [
              0.6666666666666666,
              "#ed7953"
             ],
             [
              0.7777777777777778,
              "#fb9f3a"
             ],
             [
              0.8888888888888888,
              "#fdca26"
             ],
             [
              1,
              "#f0f921"
             ]
            ],
            "type": "contour"
           }
          ],
          "contourcarpet": [
           {
            "colorbar": {
             "outlinewidth": 0,
             "ticks": ""
            },
            "type": "contourcarpet"
           }
          ],
          "heatmap": [
           {
            "colorbar": {
             "outlinewidth": 0,
             "ticks": ""
            },
            "colorscale": [
             [
              0,
              "#0d0887"
             ],
             [
              0.1111111111111111,
              "#46039f"
             ],
             [
              0.2222222222222222,
              "#7201a8"
             ],
             [
              0.3333333333333333,
              "#9c179e"
             ],
             [
              0.4444444444444444,
              "#bd3786"
             ],
             [
              0.5555555555555556,
              "#d8576b"
             ],
             [
              0.6666666666666666,
              "#ed7953"
             ],
             [
              0.7777777777777778,
              "#fb9f3a"
             ],
             [
              0.8888888888888888,
              "#fdca26"
             ],
             [
              1,
              "#f0f921"
             ]
            ],
            "type": "heatmap"
           }
          ],
          "heatmapgl": [
           {
            "colorbar": {
             "outlinewidth": 0,
             "ticks": ""
            },
            "colorscale": [
             [
              0,
              "#0d0887"
             ],
             [
              0.1111111111111111,
              "#46039f"
             ],
             [
              0.2222222222222222,
              "#7201a8"
             ],
             [
              0.3333333333333333,
              "#9c179e"
             ],
             [
              0.4444444444444444,
              "#bd3786"
             ],
             [
              0.5555555555555556,
              "#d8576b"
             ],
             [
              0.6666666666666666,
              "#ed7953"
             ],
             [
              0.7777777777777778,
              "#fb9f3a"
             ],
             [
              0.8888888888888888,
              "#fdca26"
             ],
             [
              1,
              "#f0f921"
             ]
            ],
            "type": "heatmapgl"
           }
          ],
          "histogram": [
           {
            "marker": {
             "pattern": {
              "fillmode": "overlay",
              "size": 10,
              "solidity": 0.2
             }
            },
            "type": "histogram"
           }
          ],
          "histogram2d": [
           {
            "colorbar": {
             "outlinewidth": 0,
             "ticks": ""
            },
            "colorscale": [
             [
              0,
              "#0d0887"
             ],
             [
              0.1111111111111111,
              "#46039f"
             ],
             [
              0.2222222222222222,
              "#7201a8"
             ],
             [
              0.3333333333333333,
              "#9c179e"
             ],
             [
              0.4444444444444444,
              "#bd3786"
             ],
             [
              0.5555555555555556,
              "#d8576b"
             ],
             [
              0.6666666666666666,
              "#ed7953"
             ],
             [
              0.7777777777777778,
              "#fb9f3a"
             ],
             [
              0.8888888888888888,
              "#fdca26"
             ],
             [
              1,
              "#f0f921"
             ]
            ],
            "type": "histogram2d"
           }
          ],
          "histogram2dcontour": [
           {
            "colorbar": {
             "outlinewidth": 0,
             "ticks": ""
            },
            "colorscale": [
             [
              0,
              "#0d0887"
             ],
             [
              0.1111111111111111,
              "#46039f"
             ],
             [
              0.2222222222222222,
              "#7201a8"
             ],
             [
              0.3333333333333333,
              "#9c179e"
             ],
             [
              0.4444444444444444,
              "#bd3786"
             ],
             [
              0.5555555555555556,
              "#d8576b"
             ],
             [
              0.6666666666666666,
              "#ed7953"
             ],
             [
              0.7777777777777778,
              "#fb9f3a"
             ],
             [
              0.8888888888888888,
              "#fdca26"
             ],
             [
              1,
              "#f0f921"
             ]
            ],
            "type": "histogram2dcontour"
           }
          ],
          "mesh3d": [
           {
            "colorbar": {
             "outlinewidth": 0,
             "ticks": ""
            },
            "type": "mesh3d"
           }
          ],
          "parcoords": [
           {
            "line": {
             "colorbar": {
              "outlinewidth": 0,
              "ticks": ""
             }
            },
            "type": "parcoords"
           }
          ],
          "pie": [
           {
            "automargin": true,
            "type": "pie"
           }
          ],
          "scatter": [
           {
            "fillpattern": {
             "fillmode": "overlay",
             "size": 10,
             "solidity": 0.2
            },
            "type": "scatter"
           }
          ],
          "scatter3d": [
           {
            "line": {
             "colorbar": {
              "outlinewidth": 0,
              "ticks": ""
             }
            },
            "marker": {
             "colorbar": {
              "outlinewidth": 0,
              "ticks": ""
             }
            },
            "type": "scatter3d"
           }
          ],
          "scattercarpet": [
           {
            "marker": {
             "colorbar": {
              "outlinewidth": 0,
              "ticks": ""
             }
            },
            "type": "scattercarpet"
           }
          ],
          "scattergeo": [
           {
            "marker": {
             "colorbar": {
              "outlinewidth": 0,
              "ticks": ""
             }
            },
            "type": "scattergeo"
           }
          ],
          "scattergl": [
           {
            "marker": {
             "colorbar": {
              "outlinewidth": 0,
              "ticks": ""
             }
            },
            "type": "scattergl"
           }
          ],
          "scattermapbox": [
           {
            "marker": {
             "colorbar": {
              "outlinewidth": 0,
              "ticks": ""
             }
            },
            "type": "scattermapbox"
           }
          ],
          "scatterpolar": [
           {
            "marker": {
             "colorbar": {
              "outlinewidth": 0,
              "ticks": ""
             }
            },
            "type": "scatterpolar"
           }
          ],
          "scatterpolargl": [
           {
            "marker": {
             "colorbar": {
              "outlinewidth": 0,
              "ticks": ""
             }
            },
            "type": "scatterpolargl"
           }
          ],
          "scatterternary": [
           {
            "marker": {
             "colorbar": {
              "outlinewidth": 0,
              "ticks": ""
             }
            },
            "type": "scatterternary"
           }
          ],
          "surface": [
           {
            "colorbar": {
             "outlinewidth": 0,
             "ticks": ""
            },
            "colorscale": [
             [
              0,
              "#0d0887"
             ],
             [
              0.1111111111111111,
              "#46039f"
             ],
             [
              0.2222222222222222,
              "#7201a8"
             ],
             [
              0.3333333333333333,
              "#9c179e"
             ],
             [
              0.4444444444444444,
              "#bd3786"
             ],
             [
              0.5555555555555556,
              "#d8576b"
             ],
             [
              0.6666666666666666,
              "#ed7953"
             ],
             [
              0.7777777777777778,
              "#fb9f3a"
             ],
             [
              0.8888888888888888,
              "#fdca26"
             ],
             [
              1,
              "#f0f921"
             ]
            ],
            "type": "surface"
           }
          ],
          "table": [
           {
            "cells": {
             "fill": {
              "color": "#EBF0F8"
             },
             "line": {
              "color": "white"
             }
            },
            "header": {
             "fill": {
              "color": "#C8D4E3"
             },
             "line": {
              "color": "white"
             }
            },
            "type": "table"
           }
          ]
         },
         "layout": {
          "annotationdefaults": {
           "arrowcolor": "#2a3f5f",
           "arrowhead": 0,
           "arrowwidth": 1
          },
          "autotypenumbers": "strict",
          "coloraxis": {
           "colorbar": {
            "outlinewidth": 0,
            "ticks": ""
           }
          },
          "colorscale": {
           "diverging": [
            [
             0,
             "#8e0152"
            ],
            [
             0.1,
             "#c51b7d"
            ],
            [
             0.2,
             "#de77ae"
            ],
            [
             0.3,
             "#f1b6da"
            ],
            [
             0.4,
             "#fde0ef"
            ],
            [
             0.5,
             "#f7f7f7"
            ],
            [
             0.6,
             "#e6f5d0"
            ],
            [
             0.7,
             "#b8e186"
            ],
            [
             0.8,
             "#7fbc41"
            ],
            [
             0.9,
             "#4d9221"
            ],
            [
             1,
             "#276419"
            ]
           ],
           "sequential": [
            [
             0,
             "#0d0887"
            ],
            [
             0.1111111111111111,
             "#46039f"
            ],
            [
             0.2222222222222222,
             "#7201a8"
            ],
            [
             0.3333333333333333,
             "#9c179e"
            ],
            [
             0.4444444444444444,
             "#bd3786"
            ],
            [
             0.5555555555555556,
             "#d8576b"
            ],
            [
             0.6666666666666666,
             "#ed7953"
            ],
            [
             0.7777777777777778,
             "#fb9f3a"
            ],
            [
             0.8888888888888888,
             "#fdca26"
            ],
            [
             1,
             "#f0f921"
            ]
           ],
           "sequentialminus": [
            [
             0,
             "#0d0887"
            ],
            [
             0.1111111111111111,
             "#46039f"
            ],
            [
             0.2222222222222222,
             "#7201a8"
            ],
            [
             0.3333333333333333,
             "#9c179e"
            ],
            [
             0.4444444444444444,
             "#bd3786"
            ],
            [
             0.5555555555555556,
             "#d8576b"
            ],
            [
             0.6666666666666666,
             "#ed7953"
            ],
            [
             0.7777777777777778,
             "#fb9f3a"
            ],
            [
             0.8888888888888888,
             "#fdca26"
            ],
            [
             1,
             "#f0f921"
            ]
           ]
          },
          "colorway": [
           "#636efa",
           "#EF553B",
           "#00cc96",
           "#ab63fa",
           "#FFA15A",
           "#19d3f3",
           "#FF6692",
           "#B6E880",
           "#FF97FF",
           "#FECB52"
          ],
          "font": {
           "color": "#2a3f5f"
          },
          "geo": {
           "bgcolor": "white",
           "lakecolor": "white",
           "landcolor": "#E5ECF6",
           "showlakes": true,
           "showland": true,
           "subunitcolor": "white"
          },
          "hoverlabel": {
           "align": "left"
          },
          "hovermode": "closest",
          "mapbox": {
           "style": "light"
          },
          "paper_bgcolor": "white",
          "plot_bgcolor": "#E5ECF6",
          "polar": {
           "angularaxis": {
            "gridcolor": "white",
            "linecolor": "white",
            "ticks": ""
           },
           "bgcolor": "#E5ECF6",
           "radialaxis": {
            "gridcolor": "white",
            "linecolor": "white",
            "ticks": ""
           }
          },
          "scene": {
           "xaxis": {
            "backgroundcolor": "#E5ECF6",
            "gridcolor": "white",
            "gridwidth": 2,
            "linecolor": "white",
            "showbackground": true,
            "ticks": "",
            "zerolinecolor": "white"
           },
           "yaxis": {
            "backgroundcolor": "#E5ECF6",
            "gridcolor": "white",
            "gridwidth": 2,
            "linecolor": "white",
            "showbackground": true,
            "ticks": "",
            "zerolinecolor": "white"
           },
           "zaxis": {
            "backgroundcolor": "#E5ECF6",
            "gridcolor": "white",
            "gridwidth": 2,
            "linecolor": "white",
            "showbackground": true,
            "ticks": "",
            "zerolinecolor": "white"
           }
          },
          "shapedefaults": {
           "line": {
            "color": "#2a3f5f"
           }
          },
          "ternary": {
           "aaxis": {
            "gridcolor": "white",
            "linecolor": "white",
            "ticks": ""
           },
           "baxis": {
            "gridcolor": "white",
            "linecolor": "white",
            "ticks": ""
           },
           "bgcolor": "#E5ECF6",
           "caxis": {
            "gridcolor": "white",
            "linecolor": "white",
            "ticks": ""
           }
          },
          "title": {
           "x": 0.05
          },
          "xaxis": {
           "automargin": true,
           "gridcolor": "white",
           "linecolor": "white",
           "ticks": "",
           "title": {
            "standoff": 15
           },
           "zerolinecolor": "white",
           "zerolinewidth": 2
          },
          "yaxis": {
           "automargin": true,
           "gridcolor": "white",
           "linecolor": "white",
           "ticks": "",
           "title": {
            "standoff": 15
           },
           "zerolinecolor": "white",
           "zerolinewidth": 2
          }
         }
        },
        "title": {
         "text": "Live Scoring"
        },
        "xaxis": {
         "anchor": "y",
         "categoryorder": "total descending",
         "domain": [
          0,
          1
         ],
         "title": {
          "text": "Franchise"
         }
        },
        "yaxis": {
         "anchor": "x",
         "domain": [
          0,
          1
         ],
         "title": {
          "text": "Projected Score"
         }
        }
       }
      }
     },
     "metadata": {},
     "output_type": "display_data"
    }
   ],
   "source": [
    "fig.show()"
   ]
  },
  {
   "cell_type": "code",
   "execution_count": null,
   "metadata": {},
   "outputs": [],
   "source": []
  }
 ],
 "metadata": {
  "kernelspec": {
   "display_name": "Python 3.10.4 ('ff_demo2')",
   "language": "python",
   "name": "python3"
  },
  "language_info": {
   "codemirror_mode": {
    "name": "ipython",
    "version": 3
   },
   "file_extension": ".py",
   "mimetype": "text/x-python",
   "name": "python",
   "nbconvert_exporter": "python",
   "pygments_lexer": "ipython3",
   "version": "3.10.4"
  },
  "orig_nbformat": 4,
  "vscode": {
   "interpreter": {
    "hash": "fa5c3a6218a07f7e7894681e1df75f026830424c1bd98bfea49c545e1f4b9302"
   }
  }
 },
 "nbformat": 4,
 "nbformat_minor": 2
}

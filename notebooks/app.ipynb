{
 "cells": [
  {
   "cell_type": "code",
   "execution_count": 1,
   "metadata": {},
   "outputs": [],
   "source": [
    "# Code to be able to import local modules in notebooks\n",
    "import os\n",
    "import sys\n",
    "module_path = os.path.abspath(os.path.join('..'))\n",
    "if module_path not in sys.path:\n",
    "    sys.path.append(module_path)"
   ]
  },
  {
   "cell_type": "code",
   "execution_count": 2,
   "metadata": {},
   "outputs": [],
   "source": [
    "\n",
    "# Import dependencies\n",
    "# Standard python libraries\n",
    "import os\n",
    "import json\n",
    "\n",
    "from oauthlib.oauth2 import WebApplicationClient\n",
    "import requests\n",
    "import pandas as pd\n",
    "import plotly\n",
    "\n",
    "# Internal imports\n",
    "from ffpackage.scraping import mfl\n",
    "from ffpackage.analysis import analysis\n",
    "# from ffpackage.scraping import ffdb\n",
    "# from ffpackage.scraping import ourlads\n",
    "from ffpackage.viz import viz\n",
    "\n",
    "\n",
    "from appmanager.database import db\n",
    "from appmanager.user import user\n",
    "\n",
    "\n",
    "\n",
    "\n",
    "# Configuration (These variables are stored as environment variables)\n",
    "GOOGLE_CLIENT_ID = os.environ.get(\"GOOGLE_CLIENT_ID\", None)\n",
    "GOOGLE_CLIENT_SECRET = os.environ.get(\"GOOGLE_CLIENT_SECRET\", None)\n",
    "GOOGLE_DISCOVERY_URL = (\"https://accounts.google.com/.well-known/openid-configuration\")"
   ]
  },
  {
   "cell_type": "code",
   "execution_count": 3,
   "metadata": {},
   "outputs": [
    {
     "data": {
      "text/plain": [
       "['Providence Monastic Spirits',\n",
       " 'Washington Fantasy Football Team',\n",
       " 'Verdansk Vaqueros FFC',\n",
       " 'Down with the Sickness unto Death',\n",
       " 'Crocodilopolis Body Snatchers',\n",
       " \"O'Henry's Stiffies\",\n",
       " 'Comeback Kings',\n",
       " 'WHAM! BAM! Thank You CAM!',\n",
       " 'Pretty Big Wieners',\n",
       " 'Saskatoon Squatches',\n",
       " 'Gus The Bus',\n",
       " 'IDK much about soccer ']"
      ]
     },
     "execution_count": 3,
     "metadata": {},
     "output_type": "execute_result"
    }
   ],
   "source": [
    "#def getFranchise():\n",
    "user_league = \"53906\"\n",
    "\n",
    "franchises = mfl.get_franchises(user_league)['franchiseName'].to_list()\n",
    "\n",
    "franchises"
   ]
  },
  {
   "cell_type": "code",
   "execution_count": 4,
   "metadata": {},
   "outputs": [
    {
     "name": "stderr",
     "output_type": "stream",
     "text": [
      "/Users/travisharry/Desktop/Coding/ff_demo2/appmanager/database/db.py:20: UserWarning: pandas only supports SQLAlchemy connectable (engine/connection) or database string URI or sqlite3 DBAPI2 connection. Other DBAPI2 objects are not tested. Please consider using SQLAlchemy.\n",
      "  result = pd.read_sql(query, conn)\n"
     ]
    }
   ],
   "source": [
    "#def allPlayers():\n",
    "player_df = db.get_df(\"player_df\")\n",
    "tables = [player_df.to_html(classes='data')]\n",
    "titles=player_df.columns.values\n",
    "#return render_template(\"allPlayers.html\", tables=tables, titles=titles)"
   ]
  },
  {
   "cell_type": "code",
   "execution_count": 5,
   "metadata": {},
   "outputs": [
    {
     "name": "stderr",
     "output_type": "stream",
     "text": [
      "/var/folders/ss/nt9sccdn5w91sbtr85gybrnm0000gn/T/ipykernel_26407/2224525526.py:10: FutureWarning: The frame.append method is deprecated and will be removed from pandas in a future version. Use pandas.concat instead.\n",
      "  franchise_df = franchise_df.append({\"franchiseID\":\"FA\", \"franchiseName\":\"Free Agent\"}, ignore_index=True)\n",
      "/Users/travisharry/Desktop/Coding/ff_demo2/appmanager/database/db.py:20: UserWarning: pandas only supports SQLAlchemy connectable (engine/connection) or database string URI or sqlite3 DBAPI2 connection. Other DBAPI2 objects are not tested. Please consider using SQLAlchemy.\n",
      "  result = pd.read_sql(query, conn)\n"
     ]
    }
   ],
   "source": [
    "#@app.route('/waiverWire', methods=['GET', 'POST'])\n",
    "#@login_required\n",
    "#def waiverWire():\n",
    "user_league = \"53906\"\n",
    "user_franchise = \"0005\"\n",
    "\n",
    "# Get Franchises in the league\n",
    "franchise_df = mfl.get_franchises(user_league)\n",
    "# Append a row to carry free agents\n",
    "franchise_df = franchise_df.append({\"franchiseID\":\"FA\", \"franchiseName\":\"Free Agent\"}, ignore_index=True)\n",
    "\n",
    "# Get franchise rosters\n",
    "rosters_df = mfl.get_rosters(user_league, user_franchise=user_franchise)\n",
    "\n",
    "# Get Free Agents\n",
    "freeAgent_df = mfl.get_freeAgents(user_league)\n",
    "\n",
    "# Combine Franchise rosters with free agents to get all players\n",
    "rosters_df = pd.concat([rosters_df, freeAgent_df], axis=0)\n",
    "\n",
    "# Get all players, sharkRank, and ADP\n",
    "player_df = db.get_df(\"predictions\")\n",
    "\n",
    "# Merge all dfs\n",
    "complete = player_df.merge(rosters_df, on='id_mfl', how='left').merge(franchise_df[['franchiseID', 'franchiseName']], on='franchiseID', how='left')\n",
    "complete = complete[complete['franchiseID'].notna()]\n",
    "complete = complete.sort_values(by=['pred'], ascending=False)\n",
    "complete.reset_index(inplace=True, drop=True)\n",
    "complete = complete[['player', 'age', 'team', 'franchiseName', 'pos', 'posRank', 'KR', 'PR', 'RES', 'pred', 'sharkAbsolute', 'adpAbsolute']]\n",
    "complete.rename(columns={\n",
    "    'player':'Player',\n",
    "    'age':'Age',\n",
    "    'team':'Team',\n",
    "    'pos':'Position',\n",
    "    'posRank': 'Rank',\n",
    "    'pred': 'My Prediction',\n",
    "    'sharkAbsolute': 'FantasySharks Prediction',\n",
    "    'adpAbsolute': 'ADP-Based Prediction'\n",
    "}, inplace=True)\n",
    "complete.set_index('Player', drop=True, inplace=True)\n",
    "\n",
    "#return render_template(\"waiverWire.html\", tables=[complete.to_html(classes='data')], titles=complete.columns.values)"
   ]
  },
  {
   "cell_type": "code",
   "execution_count": 3,
   "metadata": {},
   "outputs": [
    {
     "name": "stderr",
     "output_type": "stream",
     "text": [
      "/var/folders/ss/nt9sccdn5w91sbtr85gybrnm0000gn/T/ipykernel_26731/450361586.py:8: FutureWarning: The frame.append method is deprecated and will be removed from pandas in a future version. Use pandas.concat instead.\n",
      "  franchise_df = franchise_df.append({\"franchiseID\":\"FA\", \"franchiseName\":\"Free Agent\", \"franchiseAbbrev\":\"FA\"}, ignore_index=True)\n",
      "/Users/travisharry/Desktop/Coding/ff_demo2/appmanager/database/db.py:20: UserWarning: pandas only supports SQLAlchemy connectable (engine/connection) or database string URI or sqlite3 DBAPI2 connection. Other DBAPI2 objects are not tested. Please consider using SQLAlchemy.\n",
      "  result = pd.read_sql(query, conn)\n"
     ]
    },
    {
     "data": {
      "application/vnd.plotly.v1+json": {
       "config": {
        "plotlyServerURL": "https://plot.ly"
       },
       "data": [
        {
         "alignmentgroup": "True",
         "customdata": [
          [
           347.79867237467755,
           "TOM BRADY",
           "QB",
           "Washington Fantasy Football Team"
          ],
          [
           341.3234609152418,
           "JUSTIN HERBERT",
           "QB",
           "Down with the Sickness unto Death"
          ],
          [
           339.3474530011374,
           "PATRICK MAHOMES",
           "QB",
           "Saskatoon Squatches"
          ],
          [
           332.5414234105502,
           "DAK PRESCOTT",
           "QB",
           "Providence Monastic Spirits"
          ],
          [
           331.41500101346094,
           "MATTHEW STAFFORD",
           "QB",
           "Comeback Kings"
          ],
          [
           330.24037785688034,
           "AARON RODGERS",
           "QB",
           "Pretty Big Wieners"
          ],
          [
           328.81783135637795,
           "KYLER MURRAY",
           "QB",
           "Crocodilopolis Body Snatchers"
          ],
          [
           325.11240091320684,
           "JOE BURROW",
           "QB",
           "Verdansk Vaqueros FFC"
          ],
          [
           324.742713942439,
           "JOSH ALLEN",
           "QB",
           "Comeback Kings"
          ],
          [
           313.02860394838586,
           "DEREK CARR",
           "QB",
           "Saskatoon Squatches"
          ],
          [
           310.7684531036826,
           "KIRK COUSINS",
           "QB",
           "Washington Fantasy Football Team"
          ],
          [
           307.1213146833726,
           "MATT RYAN",
           "QB",
           "Providence Monastic Spirits"
          ],
          [
           274.8555652913605,
           "RUSSELL WILSON",
           "QB",
           "WHAM! BAM! Thank You CAM!"
          ],
          [
           266.3993024075694,
           "RYAN TANNEHILL",
           "QB",
           "Down with the Sickness unto Death"
          ],
          [
           266.1212113600973,
           "JARED GOFF",
           "QB",
           "Verdansk Vaqueros FFC"
          ],
          [
           264.6914698108835,
           "DANIEL JONES",
           "QB",
           "Comeback Kings"
          ],
          [
           261.28843423464315,
           "CARSON WENTZ",
           "QB",
           "Saskatoon Squatches"
          ],
          [
           261.0277768954832,
           "LAMAR JACKSON",
           "QB",
           "Gus The Bus"
          ],
          [
           260.20983357161657,
           "TUA TAGOVAILOA",
           "QB",
           "Verdansk Vaqueros FFC"
          ],
          [
           260.14681050677297,
           "TREVOR LAWRENCE",
           "QB",
           "Washington Fantasy Football Team"
          ],
          [
           259.5480738777016,
           "MAC JONES",
           "QB",
           "Pretty Big Wieners"
          ],
          [
           255.09862248278736,
           "JIMMY GAROPPOLO",
           "QB",
           "IDK much about soccer "
          ],
          [
           254.64339513601837,
           "BAKER MAYFIELD",
           "QB",
           "O'Henry's Stiffies"
          ],
          [
           254.5680193115731,
           "DAVIS MILLS",
           "QB",
           "O'Henry's Stiffies"
          ],
          [
           246.61009134938752,
           "JALEN HURTS",
           "QB",
           "Crocodilopolis Body Snatchers"
          ],
          [
           241.1926852929906,
           "JAMEIS WINSTON",
           "QB",
           "Washington Fantasy Football Team"
          ],
          [
           232.58574363474466,
           "JUSTIN FIELDS",
           "QB",
           "IDK much about soccer "
          ],
          [
           229.62948103095908,
           "ZACH WILSON",
           "QB",
           "Providence Monastic Spirits"
          ],
          [
           224.555341899648,
           "JACOBY BRISSETT",
           "QB",
           "IDK much about soccer "
          ],
          [
           224.01883920055528,
           "GENO SMITH",
           "QB",
           "WHAM! BAM! Thank You CAM!"
          ],
          [
           222.2685805451781,
           "KENNY PICKETT",
           "QB",
           "Gus The Bus"
          ],
          [
           219.63415226151693,
           "MARCUS MARIOTA",
           "QB",
           "O'Henry's Stiffies"
          ],
          [
           167.31329971767244,
           "DESHAUN WATSON",
           "QB",
           "Pretty Big Wieners"
          ],
          [
           166.27234156287858,
           "TREVOR SIEMIAN",
           "QB",
           "Free Agent"
          ],
          [
           160.33481713037187,
           "GARDNER MINSHEW",
           "QB",
           "Free Agent"
          ],
          [
           60.80277671865735,
           "NICK FOLES",
           "QB",
           "Free Agent"
          ],
          [
           60.36934141912114,
           "MIKE WHITE",
           "QB",
           "Free Agent"
          ],
          [
           54.00343860249765,
           "TAYLOR HEINICKE",
           "QB",
           "Free Agent"
          ],
          [
           53.09426806894756,
           "TEDDY BRIDGEWATER",
           "QB",
           "WHAM! BAM! Thank You CAM!"
          ],
          [
           50.28427383815582,
           "NICK MULLENS",
           "QB",
           "Free Agent"
          ],
          [
           47.804081369080514,
           "JAKE LUTON",
           "QB",
           "Free Agent"
          ],
          [
           46.11409715778595,
           "GARRETT GILBERT",
           "QB",
           "Free Agent"
          ],
          [
           43.87368278562422,
           "SAM DARNOLD",
           "QB",
           "Free Agent"
          ],
          [
           41.66136381845904,
           "DREW LOCK",
           "QB",
           "Free Agent"
          ],
          [
           39.6085754912535,
           "TREY LANCE",
           "QB",
           "WHAM! BAM! Thank You CAM!"
          ],
          [
           38.907385124050485,
           "JEFF DRISKEL",
           "QB",
           "Free Agent"
          ],
          [
           37.41534136125581,
           "SAM HOWELL",
           "QB",
           "Down with the Sickness unto Death"
          ],
          [
           36.89249129735145,
           "MALIK WILLIS",
           "QB",
           "Providence Monastic Spirits"
          ],
          [
           36.43083420944325,
           "ANDY DALTON",
           "QB",
           "Free Agent"
          ],
          [
           36.25240581535889,
           "SAM EHLINGER",
           "QB",
           "Free Agent"
          ],
          [
           35.977032584816854,
           "BROCK PURDY",
           "QB",
           "Free Agent"
          ],
          [
           35.775669715007155,
           "MATT CORRAL",
           "QB",
           "Saskatoon Squatches"
          ],
          [
           35.77045548964356,
           "IAN BOOK",
           "QB",
           "Free Agent"
          ],
          [
           35.4431825235286,
           "KYLE TRASK",
           "QB",
           "Free Agent"
          ],
          [
           35.39187353373862,
           "BAILEY ZAPPE",
           "QB",
           "Free Agent"
          ],
          [
           35.196126351522786,
           "TYROD TAYLOR",
           "QB",
           "Free Agent"
          ],
          [
           34.99466097468699,
           "DESMOND RIDDER",
           "QB",
           "Gus The Bus"
          ],
          [
           34.798130940891774,
           "BRYCE PERKINS",
           "QB",
           "Free Agent"
          ],
          [
           34.668596174526044,
           "CHASE DANIEL",
           "QB",
           "Free Agent"
          ],
          [
           34.301794790945216,
           "SHANE BUECHELE",
           "QB",
           "Free Agent"
          ],
          [
           34.21051618527042,
           "SKYLAR THOMPSON",
           "QB",
           "Free Agent"
          ],
          [
           34.04392668044087,
           "COOPER RUSH",
           "QB",
           "Free Agent"
          ],
          [
           33.998095563059124,
           "NATE SUDFELD",
           "QB",
           "Free Agent"
          ],
          [
           33.69971921323772,
           "WILL GRIER",
           "QB",
           "Free Agent"
          ],
          [
           33.66581376988602,
           "JOSHUA DOBBS",
           "QB",
           "Free Agent"
          ],
          [
           33.53057215083,
           "KELLEN MOND",
           "QB",
           "Down with the Sickness unto Death"
          ],
          [
           33.47539994189613,
           "EASTON STICK",
           "QB",
           "Free Agent"
          ],
          [
           33.40848277400772,
           "PJ WALKER",
           "QB",
           "O'Henry's Stiffies"
          ],
          [
           33.12894308446632,
           "BRETT RYPIEN",
           "QB",
           "Free Agent"
          ],
          [
           33.101436770100456,
           "TRACE MCSORLEY",
           "QB",
           "Free Agent"
          ],
          [
           33.05308262545755,
           "JOE FLACCO",
           "QB",
           "Free Agent"
          ],
          [
           32.82312509394813,
           "MITCHELL TRUBISKY",
           "QB",
           "Crocodilopolis Body Snatchers"
          ],
          [
           32.47256091412357,
           "JORDAN LOVE",
           "QB",
           "Free Agent"
          ],
          [
           32.43344711812102,
           "MASON RUDOLPH",
           "QB",
           "Free Agent"
          ],
          [
           32.21341509628122,
           "COLT MCCOY",
           "QB",
           "Free Agent"
          ],
          [
           31.995945731911252,
           "JOHN WOLFORD",
           "QB",
           "Free Agent"
          ],
          [
           31.936138780088353,
           "TYLER HUNTLEY",
           "QB",
           "Free Agent"
          ],
          [
           31.810768242449154,
           "KYLE ALLEN",
           "QB",
           "Free Agent"
          ],
          [
           31.767665543256815,
           "CJ BEATHARD",
           "QB",
           "Free Agent"
          ],
          [
           31.73892679808623,
           "BLAINE GABBERT",
           "QB",
           "Free Agent"
          ],
          [
           31.604373889329516,
           "JARRETT STIDHAM",
           "QB",
           "Free Agent"
          ],
          [
           31.528093415615935,
           "BRIAN HOYER",
           "QB",
           "Free Agent"
          ],
          [
           30.11064992499035,
           "CHAD HENNE",
           "QB",
           "Free Agent"
          ],
          [
           30.05870834540034,
           "BRANDON ALLEN",
           "QB",
           "Free Agent"
          ],
          [
           29.673831295876496,
           "CASE KEENUM",
           "QB",
           "Free Agent"
          ]
         ],
         "hovertemplate": "<b>%{hovertext}</b><br><br>franchiseAbbrev=%{x}<br>Relative Value=%{y}<br>Predicted Points=%{customdata[0]}<extra></extra>",
         "hovertext": [
          "TOM BRADY",
          "JUSTIN HERBERT",
          "PATRICK MAHOMES",
          "DAK PRESCOTT",
          "MATTHEW STAFFORD",
          "AARON RODGERS",
          "KYLER MURRAY",
          "JOE BURROW",
          "JOSH ALLEN",
          "DEREK CARR",
          "KIRK COUSINS",
          "MATT RYAN",
          "RUSSELL WILSON",
          "RYAN TANNEHILL",
          "JARED GOFF",
          "DANIEL JONES",
          "CARSON WENTZ",
          "LAMAR JACKSON",
          "TUA TAGOVAILOA",
          "TREVOR LAWRENCE",
          "MAC JONES",
          "JIMMY GAROPPOLO",
          "BAKER MAYFIELD",
          "DAVIS MILLS",
          "JALEN HURTS",
          "JAMEIS WINSTON",
          "JUSTIN FIELDS",
          "ZACH WILSON",
          "JACOBY BRISSETT",
          "GENO SMITH",
          "KENNY PICKETT",
          "MARCUS MARIOTA",
          "DESHAUN WATSON",
          "TREVOR SIEMIAN",
          "GARDNER MINSHEW",
          "NICK FOLES",
          "MIKE WHITE",
          "TAYLOR HEINICKE",
          "TEDDY BRIDGEWATER",
          "NICK MULLENS",
          "JAKE LUTON",
          "GARRETT GILBERT",
          "SAM DARNOLD",
          "DREW LOCK",
          "TREY LANCE",
          "JEFF DRISKEL",
          "SAM HOWELL",
          "MALIK WILLIS",
          "ANDY DALTON",
          "SAM EHLINGER",
          "BROCK PURDY",
          "MATT CORRAL",
          "IAN BOOK",
          "KYLE TRASK",
          "BAILEY ZAPPE",
          "TYROD TAYLOR",
          "DESMOND RIDDER",
          "BRYCE PERKINS",
          "CHASE DANIEL",
          "SHANE BUECHELE",
          "SKYLAR THOMPSON",
          "COOPER RUSH",
          "NATE SUDFELD",
          "WILL GRIER",
          "JOSHUA DOBBS",
          "KELLEN MOND",
          "EASTON STICK",
          "PJ WALKER",
          "BRETT RYPIEN",
          "TRACE MCSORLEY",
          "JOE FLACCO",
          "MITCHELL TRUBISKY",
          "JORDAN LOVE",
          "MASON RUDOLPH",
          "COLT MCCOY",
          "JOHN WOLFORD",
          "TYLER HUNTLEY",
          "KYLE ALLEN",
          "CJ BEATHARD",
          "BLAINE GABBERT",
          "JARRETT STIDHAM",
          "BRIAN HOYER",
          "CHAD HENNE",
          "BRANDON ALLEN",
          "CASE KEENUM"
         ],
         "legendgroup": "QB",
         "marker": {
          "color": "hsla(210, 60%, 25%, 1)",
          "pattern": {
           "shape": ""
          }
         },
         "name": "QB",
         "offsetgroup": "QB",
         "orientation": "v",
         "showlegend": true,
         "text": [
          "TOM BRADY",
          "JUSTIN HERBERT",
          "PATRICK MAHOMES",
          "DAK PRESCOTT",
          "MATTHEW STAFFORD",
          "AARON RODGERS",
          "KYLER MURRAY",
          "JOE BURROW",
          "JOSH ALLEN",
          "DEREK CARR",
          "KIRK COUSINS",
          "MATT RYAN",
          "RUSSELL WILSON",
          "RYAN TANNEHILL",
          "JARED GOFF",
          "DANIEL JONES",
          "CARSON WENTZ",
          "LAMAR JACKSON",
          "TUA TAGOVAILOA",
          "TREVOR LAWRENCE",
          "MAC JONES",
          "JIMMY GAROPPOLO",
          "BAKER MAYFIELD",
          "DAVIS MILLS",
          "JALEN HURTS",
          "JAMEIS WINSTON",
          "JUSTIN FIELDS",
          "ZACH WILSON",
          "JACOBY BRISSETT",
          "GENO SMITH",
          "KENNY PICKETT",
          "MARCUS MARIOTA",
          "DESHAUN WATSON",
          "TREVOR SIEMIAN",
          "GARDNER MINSHEW",
          "NICK FOLES",
          "MIKE WHITE",
          "TAYLOR HEINICKE",
          "TEDDY BRIDGEWATER",
          "NICK MULLENS",
          "JAKE LUTON",
          "GARRETT GILBERT",
          "SAM DARNOLD",
          "DREW LOCK",
          "TREY LANCE",
          "JEFF DRISKEL",
          "SAM HOWELL",
          "MALIK WILLIS",
          "ANDY DALTON",
          "SAM EHLINGER",
          "BROCK PURDY",
          "MATT CORRAL",
          "IAN BOOK",
          "KYLE TRASK",
          "BAILEY ZAPPE",
          "TYROD TAYLOR",
          "DESMOND RIDDER",
          "BRYCE PERKINS",
          "CHASE DANIEL",
          "SHANE BUECHELE",
          "SKYLAR THOMPSON",
          "COOPER RUSH",
          "NATE SUDFELD",
          "WILL GRIER",
          "JOSHUA DOBBS",
          "KELLEN MOND",
          "EASTON STICK",
          "PJ WALKER",
          "BRETT RYPIEN",
          "TRACE MCSORLEY",
          "JOE FLACCO",
          "MITCHELL TRUBISKY",
          "JORDAN LOVE",
          "MASON RUDOLPH",
          "COLT MCCOY",
          "JOHN WOLFORD",
          "TYLER HUNTLEY",
          "KYLE ALLEN",
          "CJ BEATHARD",
          "BLAINE GABBERT",
          "JARRETT STIDHAM",
          "BRIAN HOYER",
          "CHAD HENNE",
          "BRANDON ALLEN",
          "CASE KEENUM"
         ],
         "textposition": "auto",
         "type": "bar",
         "x": [
          "WFFT",
          "SickD",
          "SAS",
          "PMS",
          "CMBK",
          "PBW",
          "CrocoBS",
          "VV FFC",
          "CMBK",
          "SAS",
          "WFFT",
          "PMS",
          "WAM",
          "SickD",
          "VV FFC",
          "CMBK",
          "SAS",
          "GUS",
          "VV FFC",
          "WFFT",
          "PBW",
          "IDK",
          "OHS",
          "OHS",
          "CrocoBS",
          "WFFT",
          "IDK",
          "PMS",
          "IDK",
          "WAM",
          "GUS",
          "OHS",
          "PBW",
          null,
          null,
          null,
          null,
          null,
          "WAM",
          null,
          null,
          null,
          null,
          null,
          "WAM",
          null,
          "SickD",
          "PMS",
          null,
          null,
          null,
          "SAS",
          null,
          null,
          null,
          null,
          "GUS",
          null,
          null,
          null,
          null,
          null,
          null,
          null,
          null,
          "SickD",
          null,
          "OHS",
          null,
          null,
          null,
          "CrocoBS",
          null,
          null,
          null,
          null,
          null,
          null,
          null,
          null,
          null,
          null,
          null,
          null,
          null
         ],
         "xaxis": "x",
         "y": [
          128.16452011316062,
          121.68930865372488,
          119.71330073962048,
          112.90727114903325,
          111.780848751944,
          110.60622559536341,
          109.18367909486102,
          105.47824865168991,
          105.1085616809221,
          93.39445168686893,
          91.13430084216566,
          87.48716242185566,
          55.221413029843575,
          46.76515014605246,
          46.487059098580346,
          45.05731754936659,
          41.65428197312622,
          41.39362463396628,
          40.57568131009964,
          40.512658245256034,
          39.913921616184666,
          35.46447022127043,
          35.00924287450144,
          34.933867050056165,
          26.975939087870586,
          21.558533031473672,
          12.951591373227728,
          9.995328769442153,
          4.921189638131068,
          4.384686939038346,
          2.6344282836611796,
          0,
          -52.320852543844495,
          -53.36181069863835,
          -59.29933513114506,
          -158.83137554285958,
          -159.26481084239578,
          -165.63071365901928,
          -166.5398841925694,
          -169.3498784233611,
          -171.83007089243642,
          -173.52005510373098,
          -175.7604694758927,
          -177.97278844305788,
          -180.02557677026343,
          -180.72676713746645,
          -182.21881090026113,
          -182.74166096416548,
          -183.20331805207368,
          -183.38174644615805,
          -183.65711967670006,
          -183.85848254650978,
          -183.86369677187338,
          -184.19096973798833,
          -184.2422787277783,
          -184.43802590999414,
          -184.63949128682995,
          -184.83602132062515,
          -184.9655560869909,
          -185.3323574705717,
          -185.4236360762465,
          -185.59022558107606,
          -185.63605669845782,
          -185.9344330482792,
          -185.9683384916309,
          -186.10358011068695,
          -186.15875231962082,
          -186.2256694875092,
          -186.5052091770506,
          -186.53271549141647,
          -186.5810696360594,
          -186.8110271675688,
          -187.16159134739337,
          -187.2007051433959,
          -187.42073716523572,
          -187.63820652960567,
          -187.69801348142857,
          -187.8233840190678,
          -187.86648671826012,
          -187.8952254634307,
          -188.02977837218742,
          -188.106058845901,
          -189.52350233652658,
          -189.5754439161166,
          -189.96032096564045
         ],
         "yaxis": "y"
        },
        {
         "alignmentgroup": "True",
         "customdata": [
          [
           279.2707563564466,
           "DERRICK HENRY",
           "RB",
           "WHAM! BAM! Thank You CAM!"
          ],
          [
           266.0619909832341,
           "ALVIN KAMARA",
           "RB",
           "IDK much about soccer "
          ],
          [
           265.842272055568,
           "EZEKIEL ELLIOTT",
           "RB",
           "Verdansk Vaqueros FFC"
          ],
          [
           265.27050472034836,
           "CHRISTIAN MCCAFFREY",
           "RB",
           "O'Henry's Stiffies"
          ],
          [
           263.7273265315137,
           "JONATHAN TAYLOR",
           "RB",
           "O'Henry's Stiffies"
          ],
          [
           261.29832227365205,
           "AUSTIN EKELER",
           "RB",
           "IDK much about soccer "
          ],
          [
           251.81529732809787,
           "DALVIN COOK",
           "RB",
           "Gus The Bus"
          ],
          [
           247.90985285553472,
           "JOE MIXON",
           "RB",
           "Crocodilopolis Body Snatchers"
          ],
          [
           244.86193716171405,
           "JAMES CONNER",
           "RB",
           "WHAM! BAM! Thank You CAM!"
          ],
          [
           242.99995187510012,
           "CLYDE EDWARDS-HELAIRE",
           "RB",
           "Comeback Kings"
          ],
          [
           239.76286360382989,
           "NAJEE HARRIS",
           "RB",
           "Washington Fantasy Football Team"
          ],
          [
           238.43819276602687,
           "DANDRE SWIFT",
           "RB",
           "Providence Monastic Spirits"
          ],
          [
           238.359891510339,
           "ANTONIO GIBSON",
           "RB",
           "O'Henry's Stiffies"
          ],
          [
           235.85760180707774,
           "AARON JONES",
           "RB",
           "Down with the Sickness unto Death"
          ],
          [
           235.24974024879208,
           "DAVID MONTGOMERY",
           "RB",
           "Crocodilopolis Body Snatchers"
          ],
          [
           230.30828312434954,
           "NICK CHUBB",
           "RB",
           "Down with the Sickness unto Death"
          ],
          [
           230.1876491981335,
           "LEONARD FOURNETTE",
           "RB",
           "Pretty Big Wieners"
          ],
          [
           228.44555402343963,
           "JOSH JACOBS",
           "RB",
           "Crocodilopolis Body Snatchers"
          ],
          [
           228.4003765371988,
           "JAMES ROBINSON",
           "RB",
           "Gus The Bus"
          ],
          [
           228.3797654483475,
           "DAMIEN HARRIS",
           "RB",
           "Washington Fantasy Football Team"
          ],
          [
           218.00075940491394,
           "JK DOBBINS",
           "RB",
           "Pretty Big Wieners"
          ],
          [
           217.90826144868709,
           "SAQUON BARKLEY",
           "RB",
           "Saskatoon Squatches"
          ],
          [
           216.35452585306058,
           "MILES SANDERS",
           "RB",
           "Pretty Big Wieners"
          ],
          [
           272.39440668986504,
           "RAHEEM MOSTERT",
           "RB",
           "Washington Fantasy Football Team"
          ],
          [
           209.3522572982166,
           "DEVIN SINGLETARY",
           "RB",
           "Verdansk Vaqueros FFC"
          ],
          [
           203.6912591685106,
           "BREECE HALL",
           "RB",
           "Comeback Kings"
          ],
          [
           198.4949867050487,
           "CAM AKERS",
           "RB",
           "Gus The Bus"
          ],
          [
           193.29827546500505,
           "TYLER ALLGEIER",
           "RB",
           "WHAM! BAM! Thank You CAM!"
          ],
          [
           192.2753378929566,
           "DAMEON PIERCE",
           "RB",
           "Gus The Bus"
          ],
          [
           145.97476837079824,
           "JD MCKISSIC",
           "RB",
           "Comeback Kings"
          ],
          [
           127.52524561952785,
           "CHASE EDMONDS",
           "RB",
           "Down with the Sickness unto Death"
          ],
          [
           152.32811823086843,
           "NYHEIM HINES",
           "RB",
           "Down with the Sickness unto Death"
          ],
          [
           126.05631100287438,
           "KAREEM HUNT",
           "RB",
           "IDK much about soccer "
          ],
          [
           114.41619623850966,
           "MICHAEL CARTER",
           "RB",
           "Washington Fantasy Football Team"
          ],
          [
           111.81478506970689,
           "BRANDON BOLDEN",
           "RB",
           "Free Agent"
          ],
          [
           109.58823644228697,
           "TONY POLLARD",
           "RB",
           "Washington Fantasy Football Team"
          ],
          [
           163.27555914242095,
           "DONTRELL HILLIARD",
           "RB",
           "Crocodilopolis Body Snatchers"
          ],
          [
           98.19330057068254,
           "AJ DILLON",
           "RB",
           "Providence Monastic Spirits"
          ],
          [
           96.50070193531447,
           "JAMAAL WILLIAMS",
           "RB",
           "Comeback Kings"
          ],
          [
           94.93859594622943,
           "ALEXANDER MATTISON",
           "RB",
           "Pretty Big Wieners"
          ],
          [
           85.84790309076689,
           "REX BURKHEAD",
           "RB",
           "Pretty Big Wieners"
          ],
          [
           143.67662358805921,
           "DEEJAY DALLAS",
           "RB",
           "Free Agent"
          ],
          [
           81.31603734245489,
           "SONY MICHEL",
           "RB",
           "O'Henry's Stiffies"
          ],
          [
           79.54342243203214,
           "MATT BREIDA",
           "RB",
           "Free Agent"
          ],
          [
           79.53406911071637,
           "DONTA FOREMAN",
           "RB",
           "Saskatoon Squatches"
          ],
          [
           78.9410689064175,
           "KHALIL HERBERT",
           "RB",
           "Gus The Bus"
          ],
          [
           78.79841980636452,
           "ZACK MOSS",
           "RB",
           "Verdansk Vaqueros FFC"
          ],
          [
           78.12113130376486,
           "RHAMONDRE STEVENSON",
           "RB",
           "Saskatoon Squatches"
          ],
          [
           77.05417671106993,
           "TYRION DAVIS-PRICE",
           "RB",
           "IDK much about soccer "
          ],
          [
           75.59143720207486,
           "SAMAJE PERINE",
           "RB",
           "Free Agent"
          ],
          [
           72.81365149304202,
           "KENNETH GAINWELL",
           "RB",
           "O'Henry's Stiffies"
          ],
          [
           130.22245829512596,
           "ENO BENJAMIN",
           "RB",
           "O'Henry's Stiffies"
          ],
          [
           69.90083491336452,
           "MIKE BOONE",
           "RB",
           "Comeback Kings"
          ],
          [
           69.50998359610182,
           "JAYLEN WARREN",
           "RB",
           "Saskatoon Squatches"
          ],
          [
           68.59769141223693,
           "JERICK MCKINNON",
           "RB",
           "Crocodilopolis Body Snatchers"
          ],
          [
           127.09250394860877,
           "RACHAAD WHITE",
           "RB",
           "Providence Monastic Spirits"
          ],
          [
           67.1739583662586,
           "CALEB HUNTLEY",
           "RB",
           "Comeback Kings"
          ],
          [
           65.74543840194013,
           "JUSTICE HILL",
           "RB",
           "Free Agent"
          ],
          [
           58.49769914701353,
           "KHARI BLASINGAME",
           "RB",
           "Free Agent"
          ],
          [
           54.75280721570719,
           "MYLES GASKIN",
           "RB",
           "Free Agent"
          ],
          [
           51.33944338594707,
           "JAVONTE WILLIAMS",
           "RB",
           "Saskatoon Squatches"
          ],
          [
           50.54958722926692,
           "GIOVANI BERNARD",
           "RB",
           "Free Agent"
          ],
          [
           47.875413131804464,
           "KENNETH WALKER III",
           "RB",
           "Verdansk Vaqueros FFC"
          ],
          [
           47.379790181491714,
           "ISAIAH SPILLER",
           "RB",
           "Comeback Kings"
          ],
          [
           46.57135908284088,
           "CORDARRELLE PATTERSON",
           "RB",
           "Providence Monastic Spirits"
          ],
          [
           46.5302799405393,
           "ELIJAH MITCHELL",
           "RB",
           "Verdansk Vaqueros FFC"
          ],
          [
           45.80300230508697,
           "KYLE JUSZCZYK",
           "RB",
           "Free Agent"
          ],
          [
           45.5873539554699,
           "NICK BAWDEN",
           "RB",
           "Free Agent"
          ],
          [
           44.91532510971804,
           "DEVINE OZIGBO",
           "RB",
           "Free Agent"
          ],
          [
           43.41474650776138,
           "DEMETRIC FELTON",
           "RB",
           "Pretty Big Wieners"
          ],
          [
           43.25795673452974,
           "DARRELL HENDERSON",
           "RB",
           "Comeback Kings"
          ],
          [
           43.163524846461705,
           "MELVIN GORDON",
           "RB",
           "IDK much about soccer "
          ],
          [
           100.49626885352484,
           "CHRIS EVANS",
           "RB",
           "Free Agent"
          ],
          [
           41.4780389496752,
           "JEFFERY WILSON",
           "RB",
           "Verdansk Vaqueros FFC"
          ],
          [
           41.42744396446147,
           "MIKE DAVIS",
           "RB",
           "Free Agent"
          ],
          [
           40.7606543302134,
           "RASHAAD PENNY",
           "RB",
           "Gus The Bus"
          ],
          [
           40.18484751755842,
           "DARRYNTON EVANS",
           "RB",
           "Free Agent"
          ],
          [
           39.2087733116939,
           "BOSTON SCOTT",
           "RB",
           "Free Agent"
          ],
          [
           38.593223978209664,
           "CRAIG REYNOLDS",
           "RB",
           "Free Agent"
          ],
          [
           38.442926173515666,
           "DARREL WILLIAMS",
           "RB",
           "Free Agent"
          ],
          [
           38.103289812207244,
           "SNOOP CONNER",
           "RB",
           "Free Agent"
          ],
          [
           37.9328697374551,
           "CHUBA HUBBARD",
           "RB",
           "WHAM! BAM! Thank You CAM!"
          ],
          [
           95.61345499351617,
           "AMEER ABDULLAH",
           "RB",
           "Pretty Big Wieners"
          ],
          [
           36.9801951298445,
           "ALEC INGOLD",
           "RB",
           "Free Agent"
          ],
          [
           36.79127519362948,
           "HASSAN HASKINS",
           "RB",
           "Verdansk Vaqueros FFC"
          ],
          [
           36.764978525384166,
           "SINCERE MCCORMICK",
           "RB",
           "Free Agent"
          ],
          [
           36.357002541912834,
           "KEAONTAY INGRAM",
           "RB",
           "Free Agent"
          ],
          [
           36.23366214873842,
           "KYREN WILLIAMS",
           "RB",
           "Crocodilopolis Body Snatchers"
          ],
          [
           36.05274864078341,
           "KENYAN DRAKE",
           "RB",
           "Verdansk Vaqueros FFC"
          ],
          [
           35.95012030147917,
           "JAMYCAL HASTY",
           "RB",
           "Free Agent"
          ],
          [
           35.90755798891,
           "MARK INGRAM",
           "RB",
           "WHAM! BAM! Thank You CAM!"
          ],
          [
           35.89751475193632,
           "JEROME FORD",
           "RB",
           "Free Agent"
          ],
          [
           35.783858583881305,
           "TY JOHNSON",
           "RB",
           "Free Agent"
          ],
          [
           35.5961752162354,
           "KESHAWN VAUGHN",
           "RB",
           "Free Agent"
          ],
          [
           35.57932895461217,
           "TRAVIS ETIENNE",
           "RB",
           "Verdansk Vaqueros FFC"
          ],
          [
           35.388243494131686,
           "TRAYVEON WILLIAMS",
           "RB",
           "Free Agent"
          ],
          [
           93.74958516201448,
           "GARY BRIGHTWELL",
           "RB",
           "Free Agent"
          ],
          [
           35.22119056560578,
           "JAMES COOK",
           "RB",
           "Pretty Big Wieners"
          ],
          [
           93.40192086956978,
           "TRESTAN EBNER",
           "RB",
           "Free Agent"
          ],
          [
           34.849950494269336,
           "PIERRE STRONG JR",
           "RB",
           "Gus The Bus"
          ],
          [
           34.26362739885599,
           "DEREK WATT",
           "RB",
           "Free Agent"
          ],
          [
           92.60208433150447,
           "KENE NWANGWU",
           "RB",
           "Free Agent"
          ],
          [
           33.97973861809524,
           "TORY CARTER",
           "RB",
           "Free Agent"
          ],
          [
           33.927944389283006,
           "DERNEST JOHNSON",
           "RB",
           "IDK much about soccer "
          ],
          [
           33.90996768333381,
           "TROY HAIRSTON",
           "RB",
           "Free Agent"
          ],
          [
           33.89495619406831,
           "MALCOLM BROWN",
           "RB",
           "Free Agent"
          ],
          [
           33.8306832292606,
           "JORDAN MASON",
           "RB",
           "Free Agent"
          ],
          [
           33.74498777686298,
           "JONATHAN WILLIAMS",
           "RB",
           "Free Agent"
          ],
          [
           33.72048907204257,
           "JUSTIN JACKSON",
           "RB",
           "Free Agent"
          ],
          [
           33.68394131672538,
           "PHILLIP LINDSAY",
           "RB",
           "Free Agent"
          ],
          [
           33.452311929200775,
           "TY MONTGOMERY",
           "RB",
           "Free Agent"
          ],
          [
           33.44697462721758,
           "LATAVIUS MURRAY",
           "RB",
           "Crocodilopolis Body Snatchers"
          ],
          [
           33.44429483220983,
           "ELIJAH HOLYFIELD",
           "RB",
           "Free Agent"
          ],
          [
           33.42869305403623,
           "CJ HAM",
           "RB",
           "Free Agent"
          ],
          [
           33.42748673408663,
           "DAMAREA CROCKETT",
           "RB",
           "Free Agent"
          ],
          [
           91.913374792589,
           "RAHEEM BLACKSHEAR",
           "RB",
           "Providence Monastic Spirits"
          ],
          [
           33.39207206926245,
           "ZAMIR WHITE",
           "RB",
           "Down with the Sickness unto Death"
          ],
          [
           91.87877863700078,
           "ISIAH PACHECO",
           "RB",
           "Saskatoon Squatches"
          ],
          [
           33.30766364204327,
           "TAIWAN JONES",
           "RB",
           "Free Agent"
          ],
          [
           33.20504804345955,
           "PATRICK RICARD",
           "RB",
           "Free Agent"
          ],
          [
           33.192219573708414,
           "REGGIE GILLIAM",
           "RB",
           "Free Agent"
          ],
          [
           33.1876399729701,
           "SALVON AHMED",
           "RB",
           "Free Agent"
          ],
          [
           33.175893216717846,
           "BENNY SNELL",
           "RB",
           "Free Agent"
          ],
          [
           117.16424542118475,
           "AVERY WILLIAMS",
           "RB",
           "Crocodilopolis Body Snatchers"
          ],
          [
           33.10181611304699,
           "BRIAN ROBINSON",
           "RB",
           "IDK much about soccer "
          ],
          [
           33.09430782706898,
           "DEON JACKSON",
           "RB",
           "Washington Fantasy Football Team"
          ],
          [
           33.04792739255092,
           "PATRICK TAYLOR",
           "RB",
           "Free Agent"
          ],
          [
           33.03421362776666,
           "TY CHANDLER",
           "RB",
           "Down with the Sickness unto Death"
          ],
          [
           33.01448055721054,
           "TREY SERMON",
           "RB",
           "O'Henry's Stiffies"
          ],
          [
           32.985818979934486,
           "TRAVIS HOMER",
           "RB",
           "Free Agent"
          ],
          [
           32.950124505063535,
           "JEREMY MCNICHOLS",
           "RB",
           "Free Agent"
          ],
          [
           32.9154523321786,
           "JAKOB JOHNSON",
           "RB",
           "Free Agent"
          ],
          [
           32.88105937533957,
           "MARLON MACK",
           "RB",
           "Free Agent"
          ],
          [
           32.87288115799476,
           "DARIUS ANDERSON",
           "RB",
           "Free Agent"
          ],
          [
           32.83106023029798,
           "ZANDER HORVATH",
           "RB",
           "Free Agent"
          ],
          [
           32.81246329436008,
           "RICO DOWDLE",
           "RB",
           "Free Agent"
          ],
          [
           32.62859749309363,
           "KEITH SMITH",
           "RB",
           "Free Agent"
          ],
          [
           32.610937417456064,
           "KYLIN HILL",
           "RB",
           "Gus The Bus"
          ],
          [
           32.42714692065323,
           "DAMIEN WILLIAMS",
           "RB",
           "Saskatoon Squatches"
          ],
          [
           32.30950503429883,
           "DWAYNE WASHINGTON",
           "RB",
           "Free Agent"
          ],
          [
           32.10100088403628,
           "DARE OGUNBOWALE",
           "RB",
           "Free Agent"
          ],
          [
           32.05584245566128,
           "RONALD JONES",
           "RB",
           "Free Agent"
          ],
          [
           32.04397338054084,
           "GUS EDWARDS",
           "RB",
           "Providence Monastic Spirits"
          ],
          [
           31.987850925740524,
           "NICK BELLORE",
           "RB",
           "Free Agent"
          ],
          [
           31.821221419422905,
           "CULLEN GILLASPIA",
           "RB",
           "Free Agent"
          ],
          [
           31.81542582162197,
           "BRITTAIN BROWN",
           "RB",
           "Free Agent"
          ],
          [
           31.648538514856813,
           "KENJON BARNER",
           "RB",
           "Free Agent"
          ],
          [
           31.643159108034553,
           "TEVIN COLEMAN",
           "RB",
           "Free Agent"
          ],
          [
           31.512322959121924,
           "BUDDY HOWELL",
           "RB",
           "Free Agent"
          ],
          [
           31.359563596008613,
           "TRENTON CANNON",
           "RB",
           "Free Agent"
          ],
          [
           31.25765036692163,
           "JOSHUA KELLEY",
           "RB",
           "Providence Monastic Spirits"
          ],
          [
           30.79346412984816,
           "JONATHAN WARD",
           "RB",
           "Free Agent"
          ],
          [
           30.604616739139402,
           "JAKE FUNK",
           "RB",
           "Free Agent"
          ],
          [
           29.634974958821015,
           "MICHAEL BURTON",
           "RB",
           "Free Agent"
          ]
         ],
         "hovertemplate": "<b>%{hovertext}</b><br><br>franchiseAbbrev=%{x}<br>Relative Value=%{y}<br>Predicted Points=%{customdata[0]}<extra></extra>",
         "hovertext": [
          "DERRICK HENRY",
          "ALVIN KAMARA",
          "EZEKIEL ELLIOTT",
          "CHRISTIAN MCCAFFREY",
          "JONATHAN TAYLOR",
          "AUSTIN EKELER",
          "DALVIN COOK",
          "JOE MIXON",
          "JAMES CONNER",
          "CLYDE EDWARDS-HELAIRE",
          "NAJEE HARRIS",
          "DANDRE SWIFT",
          "ANTONIO GIBSON",
          "AARON JONES",
          "DAVID MONTGOMERY",
          "NICK CHUBB",
          "LEONARD FOURNETTE",
          "JOSH JACOBS",
          "JAMES ROBINSON",
          "DAMIEN HARRIS",
          "JK DOBBINS",
          "SAQUON BARKLEY",
          "MILES SANDERS",
          "RAHEEM MOSTERT",
          "DEVIN SINGLETARY",
          "BREECE HALL",
          "CAM AKERS",
          "TYLER ALLGEIER",
          "DAMEON PIERCE",
          "JD MCKISSIC",
          "CHASE EDMONDS",
          "NYHEIM HINES",
          "KAREEM HUNT",
          "MICHAEL CARTER",
          "BRANDON BOLDEN",
          "TONY POLLARD",
          "DONTRELL HILLIARD",
          "AJ DILLON",
          "JAMAAL WILLIAMS",
          "ALEXANDER MATTISON",
          "REX BURKHEAD",
          "DEEJAY DALLAS",
          "SONY MICHEL",
          "MATT BREIDA",
          "DONTA FOREMAN",
          "KHALIL HERBERT",
          "ZACK MOSS",
          "RHAMONDRE STEVENSON",
          "TYRION DAVIS-PRICE",
          "SAMAJE PERINE",
          "KENNETH GAINWELL",
          "ENO BENJAMIN",
          "MIKE BOONE",
          "JAYLEN WARREN",
          "JERICK MCKINNON",
          "RACHAAD WHITE",
          "CALEB HUNTLEY",
          "JUSTICE HILL",
          "KHARI BLASINGAME",
          "MYLES GASKIN",
          "JAVONTE WILLIAMS",
          "GIOVANI BERNARD",
          "KENNETH WALKER III",
          "ISAIAH SPILLER",
          "CORDARRELLE PATTERSON",
          "ELIJAH MITCHELL",
          "KYLE JUSZCZYK",
          "NICK BAWDEN",
          "DEVINE OZIGBO",
          "DEMETRIC FELTON",
          "DARRELL HENDERSON",
          "MELVIN GORDON",
          "CHRIS EVANS",
          "JEFFERY WILSON",
          "MIKE DAVIS",
          "RASHAAD PENNY",
          "DARRYNTON EVANS",
          "BOSTON SCOTT",
          "CRAIG REYNOLDS",
          "DARREL WILLIAMS",
          "SNOOP CONNER",
          "CHUBA HUBBARD",
          "AMEER ABDULLAH",
          "ALEC INGOLD",
          "HASSAN HASKINS",
          "SINCERE MCCORMICK",
          "KEAONTAY INGRAM",
          "KYREN WILLIAMS",
          "KENYAN DRAKE",
          "JAMYCAL HASTY",
          "MARK INGRAM",
          "JEROME FORD",
          "TY JOHNSON",
          "KESHAWN VAUGHN",
          "TRAVIS ETIENNE",
          "TRAYVEON WILLIAMS",
          "GARY BRIGHTWELL",
          "JAMES COOK",
          "TRESTAN EBNER",
          "PIERRE STRONG JR",
          "DEREK WATT",
          "KENE NWANGWU",
          "TORY CARTER",
          "DERNEST JOHNSON",
          "TROY HAIRSTON",
          "MALCOLM BROWN",
          "JORDAN MASON",
          "JONATHAN WILLIAMS",
          "JUSTIN JACKSON",
          "PHILLIP LINDSAY",
          "TY MONTGOMERY",
          "LATAVIUS MURRAY",
          "ELIJAH HOLYFIELD",
          "CJ HAM",
          "DAMAREA CROCKETT",
          "RAHEEM BLACKSHEAR",
          "ZAMIR WHITE",
          "ISIAH PACHECO",
          "TAIWAN JONES",
          "PATRICK RICARD",
          "REGGIE GILLIAM",
          "SALVON AHMED",
          "BENNY SNELL",
          "AVERY WILLIAMS",
          "BRIAN ROBINSON",
          "DEON JACKSON",
          "PATRICK TAYLOR",
          "TY CHANDLER",
          "TREY SERMON",
          "TRAVIS HOMER",
          "JEREMY MCNICHOLS",
          "JAKOB JOHNSON",
          "MARLON MACK",
          "DARIUS ANDERSON",
          "ZANDER HORVATH",
          "RICO DOWDLE",
          "KEITH SMITH",
          "KYLIN HILL",
          "DAMIEN WILLIAMS",
          "DWAYNE WASHINGTON",
          "DARE OGUNBOWALE",
          "RONALD JONES",
          "GUS EDWARDS",
          "NICK BELLORE",
          "CULLEN GILLASPIA",
          "BRITTAIN BROWN",
          "KENJON BARNER",
          "TEVIN COLEMAN",
          "BUDDY HOWELL",
          "TRENTON CANNON",
          "JOSHUA KELLEY",
          "JONATHAN WARD",
          "JAKE FUNK",
          "MICHAEL BURTON"
         ],
         "legendgroup": "RB",
         "marker": {
          "color": "hsla(12, 50%, 45%, 1)",
          "pattern": {
           "shape": ""
          }
         },
         "name": "RB",
         "offsetgroup": "RB",
         "orientation": "v",
         "showlegend": true,
         "text": [
          "DERRICK HENRY",
          "ALVIN KAMARA",
          "EZEKIEL ELLIOTT",
          "CHRISTIAN MCCAFFREY",
          "JONATHAN TAYLOR",
          "AUSTIN EKELER",
          "DALVIN COOK",
          "JOE MIXON",
          "JAMES CONNER",
          "CLYDE EDWARDS-HELAIRE",
          "NAJEE HARRIS",
          "DANDRE SWIFT",
          "ANTONIO GIBSON",
          "AARON JONES",
          "DAVID MONTGOMERY",
          "NICK CHUBB",
          "LEONARD FOURNETTE",
          "JOSH JACOBS",
          "JAMES ROBINSON",
          "DAMIEN HARRIS",
          "JK DOBBINS",
          "SAQUON BARKLEY",
          "MILES SANDERS",
          "RAHEEM MOSTERT",
          "DEVIN SINGLETARY",
          "BREECE HALL",
          "CAM AKERS",
          "TYLER ALLGEIER",
          "DAMEON PIERCE",
          "JD MCKISSIC",
          "CHASE EDMONDS",
          "NYHEIM HINES",
          "KAREEM HUNT",
          "MICHAEL CARTER",
          "BRANDON BOLDEN",
          "TONY POLLARD",
          "DONTRELL HILLIARD",
          "AJ DILLON",
          "JAMAAL WILLIAMS",
          "ALEXANDER MATTISON",
          "REX BURKHEAD",
          "DEEJAY DALLAS",
          "SONY MICHEL",
          "MATT BREIDA",
          "DONTA FOREMAN",
          "KHALIL HERBERT",
          "ZACK MOSS",
          "RHAMONDRE STEVENSON",
          "TYRION DAVIS-PRICE",
          "SAMAJE PERINE",
          "KENNETH GAINWELL",
          "ENO BENJAMIN",
          "MIKE BOONE",
          "JAYLEN WARREN",
          "JERICK MCKINNON",
          "RACHAAD WHITE",
          "CALEB HUNTLEY",
          "JUSTICE HILL",
          "KHARI BLASINGAME",
          "MYLES GASKIN",
          "JAVONTE WILLIAMS",
          "GIOVANI BERNARD",
          "KENNETH WALKER III",
          "ISAIAH SPILLER",
          "CORDARRELLE PATTERSON",
          "ELIJAH MITCHELL",
          "KYLE JUSZCZYK",
          "NICK BAWDEN",
          "DEVINE OZIGBO",
          "DEMETRIC FELTON",
          "DARRELL HENDERSON",
          "MELVIN GORDON",
          "CHRIS EVANS",
          "JEFFERY WILSON",
          "MIKE DAVIS",
          "RASHAAD PENNY",
          "DARRYNTON EVANS",
          "BOSTON SCOTT",
          "CRAIG REYNOLDS",
          "DARREL WILLIAMS",
          "SNOOP CONNER",
          "CHUBA HUBBARD",
          "AMEER ABDULLAH",
          "ALEC INGOLD",
          "HASSAN HASKINS",
          "SINCERE MCCORMICK",
          "KEAONTAY INGRAM",
          "KYREN WILLIAMS",
          "KENYAN DRAKE",
          "JAMYCAL HASTY",
          "MARK INGRAM",
          "JEROME FORD",
          "TY JOHNSON",
          "KESHAWN VAUGHN",
          "TRAVIS ETIENNE",
          "TRAYVEON WILLIAMS",
          "GARY BRIGHTWELL",
          "JAMES COOK",
          "TRESTAN EBNER",
          "PIERRE STRONG JR",
          "DEREK WATT",
          "KENE NWANGWU",
          "TORY CARTER",
          "DERNEST JOHNSON",
          "TROY HAIRSTON",
          "MALCOLM BROWN",
          "JORDAN MASON",
          "JONATHAN WILLIAMS",
          "JUSTIN JACKSON",
          "PHILLIP LINDSAY",
          "TY MONTGOMERY",
          "LATAVIUS MURRAY",
          "ELIJAH HOLYFIELD",
          "CJ HAM",
          "DAMAREA CROCKETT",
          "RAHEEM BLACKSHEAR",
          "ZAMIR WHITE",
          "ISIAH PACHECO",
          "TAIWAN JONES",
          "PATRICK RICARD",
          "REGGIE GILLIAM",
          "SALVON AHMED",
          "BENNY SNELL",
          "AVERY WILLIAMS",
          "BRIAN ROBINSON",
          "DEON JACKSON",
          "PATRICK TAYLOR",
          "TY CHANDLER",
          "TREY SERMON",
          "TRAVIS HOMER",
          "JEREMY MCNICHOLS",
          "JAKOB JOHNSON",
          "MARLON MACK",
          "DARIUS ANDERSON",
          "ZANDER HORVATH",
          "RICO DOWDLE",
          "KEITH SMITH",
          "KYLIN HILL",
          "DAMIEN WILLIAMS",
          "DWAYNE WASHINGTON",
          "DARE OGUNBOWALE",
          "RONALD JONES",
          "GUS EDWARDS",
          "NICK BELLORE",
          "CULLEN GILLASPIA",
          "BRITTAIN BROWN",
          "KENJON BARNER",
          "TEVIN COLEMAN",
          "BUDDY HOWELL",
          "TRENTON CANNON",
          "JOSHUA KELLEY",
          "JONATHAN WARD",
          "JAKE FUNK",
          "MICHAEL BURTON"
         ],
         "textposition": "auto",
         "type": "bar",
         "x": [
          "WAM",
          "IDK",
          "VV FFC",
          "OHS",
          "OHS",
          "IDK",
          "GUS",
          "CrocoBS",
          "WAM",
          "CMBK",
          "WFFT",
          "PMS",
          "OHS",
          "SickD",
          "CrocoBS",
          "SickD",
          "PBW",
          "CrocoBS",
          "GUS",
          "WFFT",
          "PBW",
          "SAS",
          "PBW",
          "WFFT",
          "VV FFC",
          "CMBK",
          "GUS",
          "WAM",
          "GUS",
          "CMBK",
          "SickD",
          "SickD",
          "IDK",
          "WFFT",
          null,
          "WFFT",
          "CrocoBS",
          "PMS",
          "CMBK",
          "PBW",
          "PBW",
          null,
          "OHS",
          null,
          "SAS",
          "GUS",
          "VV FFC",
          "SAS",
          "IDK",
          null,
          "OHS",
          "OHS",
          "CMBK",
          "SAS",
          "CrocoBS",
          "PMS",
          "CMBK",
          null,
          null,
          null,
          "SAS",
          null,
          "VV FFC",
          "CMBK",
          "PMS",
          "VV FFC",
          null,
          null,
          null,
          "PBW",
          "CMBK",
          "IDK",
          null,
          "VV FFC",
          null,
          "GUS",
          null,
          null,
          null,
          null,
          null,
          "WAM",
          "PBW",
          null,
          "VV FFC",
          null,
          null,
          "CrocoBS",
          "VV FFC",
          null,
          "WAM",
          null,
          null,
          null,
          "VV FFC",
          null,
          null,
          "PBW",
          null,
          "GUS",
          null,
          null,
          null,
          "IDK",
          null,
          null,
          null,
          null,
          null,
          null,
          null,
          "CrocoBS",
          null,
          null,
          null,
          "PMS",
          "SickD",
          "SAS",
          null,
          null,
          null,
          null,
          null,
          "CrocoBS",
          "IDK",
          "WFFT",
          null,
          "SickD",
          "OHS",
          null,
          null,
          null,
          null,
          null,
          null,
          null,
          null,
          "GUS",
          "SAS",
          null,
          null,
          null,
          "PMS",
          null,
          null,
          null,
          null,
          null,
          null,
          null,
          "PMS",
          null,
          null,
          null
         ],
         "xaxis": "x",
         "y": [
          200.4723365500821,
          187.26357117686962,
          187.0438522492035,
          186.47208491398385,
          184.9289067251492,
          182.49990246728754,
          173.01687752173336,
          169.11143304917022,
          166.06351735534952,
          164.20153206873562,
          160.96444379746538,
          159.63977295966237,
          159.56147170397446,
          157.05918200071324,
          156.45132044242757,
          151.50986331798504,
          151.389229391769,
          149.64713421707512,
          149.60195673083427,
          149.58134564198298,
          139.20233959854943,
          139.10984164232258,
          137.55610604669607,
          193.59598688350053,
          130.5538374918521,
          124.89283936214609,
          119.69656689868417,
          114.49985565864053,
          113.47691808659208,
          67.17634856443372,
          48.72682581316333,
          73.5296984245039,
          47.25789119650986,
          35.617776432145135,
          33.016365263342365,
          30.78981663592245,
          84.47713933605642,
          19.394880764318017,
          17.702282128949946,
          16.140176139864906,
          7.0494832844023705,
          64.8782037816947,
          2.51761753609037,
          0.7450026256676239,
          0.7356493043518526,
          0.14264910005297793,
          0,
          -0.6772885025996658,
          -1.7442430952945926,
          -3.2069826042896636,
          -5.984768313322505,
          51.42403848876144,
          -8.897584893000001,
          -9.288436210262702,
          -10.200728394127594,
          48.294084142244245,
          -11.624461440105918,
          -13.052981404424386,
          -20.300720659350993,
          -24.045612590657328,
          -27.45897642041745,
          -28.248832577097602,
          -30.923006674560057,
          -31.418629624872807,
          -32.22706072352364,
          -32.26813986582522,
          -32.99541750127755,
          -33.21106585089462,
          -33.88309469664648,
          -35.38367329860314,
          -35.54046307183478,
          -35.634894959902816,
          21.697849047160318,
          -37.32038085668932,
          -37.37097584190305,
          -38.03776547615112,
          -38.613572288806104,
          -39.58964649467062,
          -40.20519582815486,
          -40.355493632848855,
          -40.69512999415728,
          -40.86555006890942,
          16.81503518715165,
          -41.81822467652002,
          -42.00714461273504,
          -42.033441280980355,
          -42.44141726445169,
          -42.5647576576261,
          -42.74567116558111,
          -42.848299504885354,
          -42.89086181745452,
          -42.9009050544282,
          -43.014561222483216,
          -43.20224459012912,
          -43.21909085175235,
          -43.410176312232835,
          14.951165355649962,
          -43.57722924075874,
          14.603501063205258,
          -43.948469312095185,
          -44.53479240750853,
          13.80366452513995,
          -44.81868118826928,
          -44.870475417081515,
          -44.88845212303071,
          -44.903463612296214,
          -44.96773657710392,
          -45.05343202950154,
          -45.07793073432195,
          -45.11447848963914,
          -45.346107877163746,
          -45.35144517914694,
          -45.35412497415469,
          -45.36972675232829,
          -45.37093307227789,
          13.114954986224475,
          -45.406347737102074,
          13.080358830636257,
          -45.49075616432125,
          -45.59337176290497,
          -45.60620023265611,
          -45.61077983339442,
          -45.622526589646675,
          38.365825614820224,
          -45.69660369331753,
          -45.70411197929554,
          -45.7504924138136,
          -45.76420617859786,
          -45.78393924915398,
          -45.812600826430035,
          -45.848295301300986,
          -45.88296747418592,
          -45.91736043102495,
          -45.92553864836976,
          -45.96735957606654,
          -45.98595651200444,
          -46.16982231327089,
          -46.18748238890846,
          -46.37127288571129,
          -46.48891477206569,
          -46.69741892232824,
          -46.74257735070324,
          -46.75444642582368,
          -46.810568880624,
          -46.977198386941616,
          -46.98299398474255,
          -47.14988129150771,
          -47.15526069832997,
          -47.2860968472426,
          -47.43885621035591,
          -47.54076943944289,
          -48.00495567651636,
          -48.19380306722512,
          -49.1634448475435
         ],
         "yaxis": "y"
        },
        {
         "alignmentgroup": "True",
         "customdata": [
          [
           237.68219804542653,
           "DEEBO SAMUEL",
           "WR",
           "Washington Fantasy Football Team"
          ],
          [
           230.95543632870923,
           "COOPER KUPP",
           "WR",
           "Washington Fantasy Football Team"
          ],
          [
           230.43185182278287,
           "DAVANTE ADAMS",
           "WR",
           "Verdansk Vaqueros FFC"
          ],
          [
           225.757810623727,
           "JAMARR CHASE",
           "WR",
           "Saskatoon Squatches"
          ],
          [
           210.07833445572817,
           "JUSTIN JEFFERSON",
           "WR",
           "Pretty Big Wieners"
          ],
          [
           230.44936910114507,
           "TYREEK HILL",
           "WR",
           "Saskatoon Squatches"
          ],
          [
           201.69585059982634,
           "CHRIS GODWIN",
           "WR",
           "Crocodilopolis Body Snatchers"
          ],
          [
           194.01788394855464,
           "STEFON DIGGS",
           "WR",
           "Comeback Kings"
          ],
          [
           193.2693250754151,
           "DIONTAE JOHNSON",
           "WR",
           "IDK much about soccer "
          ],
          [
           187.89380493433936,
           "TEE HIGGINS",
           "WR",
           "Washington Fantasy Football Team"
          ],
          [
           187.2628035692036,
           "CEEDEE LAMB",
           "WR",
           "O'Henry's Stiffies"
          ],
          [
           181.93905864685186,
           "ROBERT WOODS",
           "WR",
           "Pretty Big Wieners"
          ],
          [
           178.56790166584713,
           "RUSSELL GAGE",
           "WR",
           "Pretty Big Wieners"
          ],
          [
           174.68995141219668,
           "DJ MOORE",
           "WR",
           "Crocodilopolis Body Snatchers"
          ],
          [
           173.7917109164055,
           "TYLER LOCKETT",
           "WR",
           "WHAM! BAM! Thank You CAM!"
          ],
          [
           171.3027621870006,
           "JAYLEN WADDLE",
           "WR",
           "Gus The Bus"
          ],
          [
           170.54775681825865,
           "AJ BROWN",
           "WR",
           "Pretty Big Wieners"
          ],
          [
           170.32948589475183,
           "MIKE EVANS",
           "WR",
           "Down with the Sickness unto Death"
          ],
          [
           169.67633926673219,
           "DK METCALF",
           "WR",
           "Washington Fantasy Football Team"
          ],
          [
           166.59676322905653,
           "MARQUISE BROWN",
           "WR",
           "Crocodilopolis Body Snatchers"
          ],
          [
           165.73801516763007,
           "BRANDIN COOKS",
           "WR",
           "Comeback Kings"
          ],
          [
           165.0890995234572,
           "KEENAN ALLEN",
           "WR",
           "Pretty Big Wieners"
          ],
          [
           164.70185691744845,
           "TERRY MCLAURIN",
           "WR",
           "Down with the Sickness unto Death"
          ],
          [
           164.62980041081238,
           "CHASE CLAYPOOL",
           "WR",
           "Saskatoon Squatches"
          ],
          [
           188.47856967325814,
           "HUNTER RENFROW",
           "WR",
           "Gus The Bus"
          ],
          [
           160.95159659046064,
           "ADAM THIELEN",
           "WR",
           "IDK much about soccer "
          ],
          [
           160.74355187516187,
           "AMARI COOPER",
           "WR",
           "Verdansk Vaqueros FFC"
          ],
          [
           159.2936097783507,
           "DARNELL MOONEY",
           "WR",
           "Free Agent"
          ],
          [
           155.3609014464182,
           "CHRISTIAN KIRK",
           "WR",
           "Gus The Bus"
          ],
          [
           150.25209617272998,
           "JAKOBI MEYERS",
           "WR",
           "Saskatoon Squatches"
          ],
          [
           150.0540838045214,
           "DEVANTE PARKER",
           "WR",
           "WHAM! BAM! Thank You CAM!"
          ],
          [
           149.03632827457508,
           "JARVIS LANDRY",
           "WR",
           "Down with the Sickness unto Death"
          ],
          [
           146.75338054799352,
           "BRANDON AIYUK",
           "WR",
           "Down with the Sickness unto Death"
          ],
          [
           145.83026683604857,
           "DANTE PETTIS",
           "WR",
           "Free Agent"
          ],
          [
           145.23612257537323,
           "TYLER BOYD",
           "WR",
           "Providence Monastic Spirits"
          ],
          [
           144.24646178487563,
           "ELIJAH MOORE",
           "WR",
           "Saskatoon Squatches"
          ],
          [
           141.7095417969383,
           "DEVONTA SMITH",
           "WR",
           "O'Henry's Stiffies"
          ],
          [
           141.0047431985516,
           "DJ CHARK",
           "WR",
           "WHAM! BAM! Thank You CAM!"
          ],
          [
           138.74467074266036,
           "COREY DAVIS",
           "WR",
           "Down with the Sickness unto Death"
          ],
          [
           137.83157452924416,
           "JERRY JEUDY",
           "WR",
           "Saskatoon Squatches"
          ],
          [
           136.5696911246621,
           "JUJU SMITH-SCHUSTER",
           "WR",
           "Providence Monastic Spirits"
          ],
          [
           135.37622432301566,
           "AJ GREEN",
           "WR",
           "WHAM! BAM! Thank You CAM!"
          ],
          [
           134.4273022102138,
           "DAVID BELL",
           "WR",
           "Comeback Kings"
          ],
          [
           134.32339894457775,
           "WANDALE ROBINSON",
           "WR",
           "Providence Monastic Spirits"
          ],
          [
           158.33381369967339,
           "RICHIE JAMES",
           "WR",
           "Free Agent"
          ],
          [
           131.52059859417076,
           "DRAKE LONDON",
           "WR",
           "IDK much about soccer "
          ],
          [
           131.41694838586227,
           "GEORGE PICKENS",
           "WR",
           "WHAM! BAM! Thank You CAM!"
          ],
          [
           129.4504458657136,
           "MICHAEL THOMAS",
           "WR",
           "IDK much about soccer "
          ],
          [
           128.42655611891652,
           "CURTIS SAMUEL",
           "WR",
           "Providence Monastic Spirits"
          ],
          [
           127.58167592167648,
           "MECOLE HARDMAN",
           "WR",
           "IDK much about soccer "
          ],
          [
           127.01600010555498,
           "KJ OSBORN",
           "WR",
           "Washington Fantasy Football Team"
          ],
          [
           126.96615629737464,
           "RANDALL COBB",
           "WR",
           "Free Agent"
          ],
          [
           126.20750167877563,
           "NELSON AGHOLOR",
           "WR",
           "Down with the Sickness unto Death"
          ],
          [
           126.0924444063402,
           "RONDALE MOORE",
           "WR",
           "O'Henry's Stiffies"
          ],
          [
           125.60515434348646,
           "ALEC PIERCE",
           "WR",
           "Washington Fantasy Football Team"
          ],
          [
           124.97189036560134,
           "ROMEO DOUBS",
           "WR",
           "Providence Monastic Spirits"
          ],
          [
           123.84607001165598,
           "ALLEN LAZARD",
           "WR",
           "Crocodilopolis Body Snatchers"
          ],
          [
           123.66254187971344,
           "RASHOD BATEMAN",
           "WR",
           "Saskatoon Squatches"
          ],
          [
           123.3438786029511,
           "COURTLAND SUTTON",
           "WR",
           "Providence Monastic Spirits"
          ],
          [
           123.29947802801344,
           "MARQUEZ VALDES-SCANTLING",
           "WR",
           "Washington Fantasy Football Team"
          ],
          [
           123.19094109290535,
           "JAHAN DOTSON",
           "WR",
           "Providence Monastic Spirits"
          ],
          [
           122.21721172569363,
           "CHRIS OLAVE",
           "WR",
           "WHAM! BAM! Thank You CAM!"
          ],
          [
           121.79071550078417,
           "GARRETT WILSON",
           "WR",
           "Providence Monastic Spirits"
          ],
          [
           120.9691553809875,
           "MICHAEL GALLUP",
           "WR",
           "Comeback Kings"
          ],
          [
           119.59187807530549,
           "JOSH REYNOLDS",
           "WR",
           "Comeback Kings"
          ],
          [
           118.40916549454604,
           "DONOVAN PEOPLES-JONES",
           "WR",
           "Pretty Big Wieners"
          ],
          [
           176.90593209835194,
           "ISAIAH MCKENZIE",
           "WR",
           "Crocodilopolis Body Snatchers"
          ],
          [
           117.86340344875703,
           "MACK HOLLINS",
           "WR",
           "Free Agent"
          ],
          [
           113.2223449099761,
           "KJ HAMLER",
           "WR",
           "Free Agent"
          ],
          [
           137.92906297783733,
           "SHI SMITH",
           "WR",
           "Free Agent"
          ],
          [
           170.61442742406507,
           "QUEZ WATKINS",
           "WR",
           "Free Agent"
          ],
          [
           109.85314545192439,
           "ZAY JONES",
           "WR",
           "Providence Monastic Spirits"
          ],
          [
           108.36655720957069,
           "OLAMIDE ZACCHEAUS",
           "WR",
           "Free Agent"
          ],
          [
           107.97752217812433,
           "JAUAN JENNINGS",
           "WR",
           "Free Agent"
          ],
          [
           107.17717810506132,
           "DEMARCUS ROBINSON",
           "WR",
           "Free Agent"
          ],
          [
           106.85754260455141,
           "NICO COLLINS",
           "WR",
           "Comeback Kings"
          ],
          [
           190.34698837194975,
           "DEVIN DUVERNAY",
           "WR",
           "Crocodilopolis Body Snatchers"
          ],
          [
           106.07817288588355,
           "PARRIS CAMPBELL",
           "WR",
           "Free Agent"
          ],
          [
           105.44017162674139,
           "NOAH BROWN",
           "WR",
           "Verdansk Vaqueros FFC"
          ],
          [
           104.23086955101346,
           "MARQUISE GOODWIN",
           "WR",
           "Free Agent"
          ],
          [
           103.64944623084345,
           "NICK WESTBROOK-IKHINE",
           "WR",
           "Free Agent"
          ],
          [
           103.43676703778323,
           "BEN SKOWRONEK",
           "WR",
           "Free Agent"
          ],
          [
           102.83643460531542,
           "KHADAREL HODGE",
           "WR",
           "Free Agent"
          ],
          [
           102.77059996425666,
           "MIKE WILLIAMS",
           "WR",
           "IDK much about soccer "
          ],
          [
           102.48094161932089,
           "CHRIS MOORE",
           "WR",
           "Free Agent"
          ],
          [
           100.9706950162555,
           "CODY HOLLISTER",
           "WR",
           "Free Agent"
          ],
          [
           100.80136500862585,
           "ROBBIE ANDERSON",
           "WR",
           "WHAM! BAM! Thank You CAM!"
          ],
          [
           60.82601947371075,
           "KRISTIAN WILKERSON",
           "WR",
           "Free Agent"
          ],
          [
           60.53272718287007,
           "AMON-RA ST BROWN",
           "WR",
           "Down with the Sickness unto Death"
          ],
          [
           58.53837862772404,
           "DEANDRE HOPKINS",
           "WR",
           "Verdansk Vaqueros FFC"
          ],
          [
           55.69924406118044,
           "STERLING SHEPARD",
           "WR",
           "Gus The Bus"
          ],
          [
           55.585292720737925,
           "CALVIN RIDLEY",
           "WR",
           "Washington Fantasy Football Team"
          ],
          [
           54.20761993055955,
           "KADARIUS TONEY",
           "WR",
           "Pretty Big Wieners"
          ],
          [
           49.621174555638234,
           "CEDRICK WILSON",
           "WR",
           "Free Agent"
          ],
          [
           48.56062901903423,
           "DARIUS SLAYTON",
           "WR",
           "Free Agent"
          ],
          [
           48.209538364948415,
           "ALLEN ROBINSON",
           "WR",
           "Saskatoon Squatches"
          ],
          [
           48.094504426683265,
           "KENDRICK BOURNE",
           "WR",
           "WHAM! BAM! Thank You CAM!"
          ],
          [
           47.14426189655484,
           "MARVIN JONES",
           "WR",
           "Pretty Big Wieners"
          ],
          [
           46.040358062917825,
           "MATT SLATER",
           "WR",
           "Free Agent"
          ],
          [
           129.91301415857052,
           "BRAXTON BERRIOS",
           "WR",
           "Crocodilopolis Body Snatchers"
          ],
          [
           45.68849737725543,
           "VAN JEFFERSON",
           "WR",
           "Free Agent"
          ],
          [
           45.66504838164076,
           "KENDALL HINTON",
           "WR",
           "Free Agent"
          ],
          [
           45.601852428970865,
           "KEELAN COLE",
           "WR",
           "Free Agent"
          ],
          [
           45.24748743694504,
           "IHMIR SMITH-MARSETTE",
           "WR",
           "Free Agent"
          ],
          [
           45.13072682008759,
           "EQUANIMEOUS ST BROWN",
           "WR",
           "Free Agent"
          ],
          [
           44.98991795546076,
           "MICHAEL PITTMAN",
           "WR",
           "Gus The Bus"
          ],
          [
           44.95814285683989,
           "GABRIEL DAVIS",
           "WR",
           "Washington Fantasy Football Team"
          ],
          [
           44.18356010649794,
           "KENNY GOLLADAY",
           "WR",
           "Gus The Bus"
          ],
          [
           69.62496806387742,
           "JALEN REAGOR",
           "WR",
           "Free Agent"
          ],
          [
           44.090924732801355,
           "JULIO JONES",
           "WR",
           "O'Henry's Stiffies"
          ],
          [
           43.995765206432964,
           "JALEN GUYTON",
           "WR",
           "Free Agent"
          ],
          [
           43.042552241449464,
           "ANTOINE WESLEY",
           "WR",
           "Free Agent"
          ],
          [
           42.88979261499311,
           "MARCUS JOHNSON",
           "WR",
           "Free Agent"
          ],
          [
           42.82482228592257,
           "MALIK TURNER",
           "WR",
           "Free Agent"
          ],
          [
           42.7393426075117,
           "DYAMI BROWN",
           "WR",
           "Free Agent"
          ],
          [
           42.72785862105653,
           "QUINTEZ CEPHUS",
           "WR",
           "IDK much about soccer "
          ],
          [
           42.51819589141772,
           "JASON MOORE",
           "WR",
           "Free Agent"
          ],
          [
           126.36256511715308,
           "KALIF RAYMOND",
           "WR",
           "Free Agent"
          ],
          [
           42.29743669209913,
           "DENZEL MIMS",
           "WR",
           "Free Agent"
          ],
          [
           42.22136765139359,
           "JAMISON CROWDER",
           "WR",
           "Free Agent"
          ],
          [
           42.18349505450498,
           "COLLIN JOHNSON",
           "WR",
           "Free Agent"
          ],
          [
           41.782450754365236,
           "OLABISI JOHNSON",
           "WR",
           "Free Agent"
          ],
          [
           41.60152413589789,
           "ZACH PASCAL",
           "WR",
           "Down with the Sickness unto Death"
          ],
          [
           41.40899439209747,
           "JAMESON WILLIAMS",
           "WR",
           "Providence Monastic Spirits"
          ],
          [
           66.8496032866019,
           "BRITAIN COVEY",
           "WR",
           "Free Agent"
          ],
          [
           41.30082174234729,
           "BRYAN EDWARDS",
           "WR",
           "Free Agent"
          ],
          [
           41.03739601745018,
           "MAURICE ALEXANDER",
           "WR",
           "Free Agent"
          ],
          [
           41.025560017282736,
           "JALEN NAILOR",
           "WR",
           "Free Agent"
          ],
          [
           41.025560017282736,
           "BLAKE PROEHL",
           "WR",
           "Free Agent"
          ],
          [
           40.852045059202965,
           "DAN CHISENA",
           "WR",
           "Free Agent"
          ],
          [
           40.77142364368888,
           "CHRISTIAN WATSON",
           "WR",
           "O'Henry's Stiffies"
          ],
          [
           66.24756416780659,
           "KYLE PHILIPS",
           "WR",
           "Crocodilopolis Body Snatchers"
          ],
          [
           40.71200238509767,
           "SAMORI TOURE",
           "WR",
           "Free Agent"
          ],
          [
           40.68956610257074,
           "VELUS JONES",
           "WR",
           "Washington Fantasy Football Team"
          ],
          [
           40.53928206225728,
           "TREYLON BURKS",
           "WR",
           "O'Henry's Stiffies"
          ],
          [
           40.4934035838996,
           "MARQUEZ CALLAWAY",
           "WR",
           "Verdansk Vaqueros FFC"
          ],
          [
           40.44923877680216,
           "TOM KENNEDY",
           "WR",
           "Free Agent"
          ],
          [
           124.44908632765186,
           "AMARI RODGERS",
           "WR",
           "Free Agent"
          ],
          [
           40.34527184484239,
           "TIM PATRICK",
           "WR",
           "Verdansk Vaqueros FFC"
          ],
          [
           40.29731594583649,
           "JAKE KUMEROW",
           "WR",
           "Free Agent"
          ],
          [
           40.29706258865775,
           "ERIK EZUKANMA",
           "WR",
           "Free Agent"
          ],
          [
           40.28021593633209,
           "MIKE STRACHAN",
           "WR",
           "Free Agent"
          ],
          [
           40.27171761294933,
           "JUWANN WINFREE",
           "WR",
           "Free Agent"
          ],
          [
           40.267648845987786,
           "TUTU ATWELL",
           "WR",
           "IDK much about soccer "
          ],
          [
           40.267648845987786,
           "LANCE MCCUTCHEON",
           "WR",
           "Free Agent"
          ],
          [
           40.26689159073534,
           "DAVID SILLS",
           "WR",
           "Free Agent"
          ],
          [
           40.250024354119184,
           "WILLIE SNEAD",
           "WR",
           "Free Agent"
          ],
          [
           40.20326634106344,
           "JEFF SMITH",
           "WR",
           "Free Agent"
          ],
          [
           40.16047340871911,
           "JOHN METCHIE",
           "WR",
           "O'Henry's Stiffies"
          ],
          [
           40.158245808173305,
           "SCOTT MILLER",
           "WR",
           "Free Agent"
          ],
          [
           40.13020547622478,
           "JAMES PROCHE",
           "WR",
           "Free Agent"
          ],
          [
           39.98223650490517,
           "JACOB HARRIS",
           "WR",
           "Free Agent"
          ],
          [
           39.96310886953081,
           "SLADE BOLDEN",
           "WR",
           "Free Agent"
          ],
          [
           39.948010458345934,
           "JALEN TOLBERT",
           "WR",
           "Pretty Big Wieners"
          ],
          [
           39.92278108862035,
           "RODNEY ADAMS",
           "WR",
           "Free Agent"
          ],
          [
           39.89804364385761,
           "SIMI FEHOKO",
           "WR",
           "Free Agent"
          ],
          [
           39.89254787731451,
           "TERRACE MARSHALL",
           "WR",
           "Free Agent"
          ],
          [
           39.88803861902624,
           "RALEIGH WEBB",
           "WR",
           "Free Agent"
          ],
          [
           39.87918855392316,
           "TIM JONES",
           "WR",
           "Free Agent"
          ],
          [
           39.87918855392316,
           "KENDRIC PRYOR",
           "WR",
           "Free Agent"
          ],
          [
           39.87855405951122,
           "RIVER CRACRAFT",
           "WR",
           "Free Agent"
          ],
          [
           39.86358574491006,
           "SAMMY WATKINS",
           "WR",
           "Comeback Kings"
          ],
          [
           39.86172398182198,
           "ASHTON DULIN",
           "WR",
           "Free Agent"
          ],
          [
           39.853958493421366,
           "JOSH GORDON",
           "WR",
           "Free Agent"
          ],
          [
           39.839161298406204,
           "PHILLIP DORSETT",
           "WR",
           "Free Agent"
          ],
          [
           39.76006928281795,
           "TYLER JOHNSON",
           "WR",
           "Free Agent"
          ],
          [
           39.73913812224229,
           "JAMES WASHINGTON",
           "WR",
           "Free Agent"
          ],
          [
           39.68403620093371,
           "ISAIAH WESTON",
           "WR",
           "Free Agent"
          ],
          [
           39.646135492506545,
           "DANNY GRAY",
           "WR",
           "Free Agent"
          ],
          [
           39.58366880940805,
           "DEVEN THOMPKINS",
           "WR",
           "Free Agent"
          ],
          [
           39.51046126570746,
           "DJ TURNER",
           "WR",
           "Free Agent"
          ],
          [
           123.47830943665966,
           "KAVONTAE TURPIN",
           "WR",
           "Free Agent"
          ],
          [
           39.46776688388877,
           "TYLAN WALLACE",
           "WR",
           "Verdansk Vaqueros FFC"
          ],
          [
           39.439243896951844,
           "BYRON PRINGLE",
           "WR",
           "Gus The Bus"
          ],
          [
           39.424004950933714,
           "MICHAEL WOODS",
           "WR",
           "Free Agent"
          ],
          [
           64.8838055783578,
           "JAELON DARDEN",
           "WR",
           "Crocodilopolis Body Snatchers"
          ],
          [
           39.3733589069083,
           "ISAIAH HODGINS",
           "WR",
           "Free Agent"
          ],
          [
           39.347527249937286,
           "JARED BERNHARDT",
           "WR",
           "Free Agent"
          ],
          [
           39.335693932818245,
           "RAY-RAY MCCLOUD",
           "WR",
           "IDK much about soccer "
          ],
          [
           39.31794557776123,
           "DAMIERE BYRD",
           "WR",
           "Free Agent"
          ],
          [
           39.31001816934648,
           "CALVIN AUSTIN III",
           "WR",
           "Verdansk Vaqueros FFC"
          ],
          [
           39.30431954759068,
           "MARQUEZ STEVENSON",
           "WR",
           "Free Agent"
          ],
          [
           39.26503825841771,
           "BRESHAD PERRIMAN",
           "WR",
           "Free Agent"
          ],
          [
           64.67660384974002,
           "KHALIL SHAKIR",
           "WR",
           "Verdansk Vaqueros FFC"
          ],
          [
           39.09300739624515,
           "JOSH PALMER",
           "WR",
           "Crocodilopolis Body Snatchers"
          ],
          [
           39.04827355339307,
           "ANDRE BACCELLIA",
           "WR",
           "Free Agent"
          ],
          [
           39.042748368529466,
           "MICHAEL BANDY",
           "WR",
           "Free Agent"
          ],
          [
           38.98688406044974,
           "DAREKE YOUNG",
           "WR",
           "Free Agent"
          ],
          [
           38.947903408466594,
           "JORDAN MATTHEWS",
           "WR",
           "Free Agent"
          ],
          [
           38.86026254666618,
           "TYQUAN THORNTON",
           "WR",
           "Saskatoon Squatches"
          ],
          [
           38.84414213259938,
           "STANLEY MORGAN",
           "WR",
           "Free Agent"
          ],
          [
           38.813939729894564,
           "NKEAL HARRY",
           "WR",
           "Free Agent"
          ],
          [
           38.801474938027425,
           "FRANK DARBY",
           "WR",
           "Free Agent"
          ],
          [
           38.77036840480454,
           "TANNER GENTRY",
           "WR",
           "Free Agent"
          ],
          [
           64.22280150310439,
           "SKYY MOORE",
           "WR",
           "Down with the Sickness unto Death"
          ],
          [
           38.722801503104385,
           "JUSTYN ROSS",
           "WR",
           "Free Agent"
          ],
          [
           38.65646614002272,
           "DAURICE FOUNTAIN",
           "WR",
           "Free Agent"
          ],
          [
           38.60961953910005,
           "TRENT SHERFIELD",
           "WR",
           "Free Agent"
          ],
          [
           38.525974467719166,
           "CODY THOMPSON",
           "WR",
           "Free Agent"
          ],
          [
           63.98759366235859,
           "TRENT TAYLOR",
           "WR",
           "Free Agent"
          ],
          [
           122.48584224113588,
           "MONTRELL WASHINGTON",
           "WR",
           "Crocodilopolis Body Snatchers"
          ],
          [
           38.485842241135884,
           "JALEN VIRGIL",
           "WR",
           "Free Agent"
          ],
          [
           38.47235168411468,
           "MILES BOYKIN",
           "WR",
           "Free Agent"
          ],
          [
           38.36166053943087,
           "JUSTIN WATSON",
           "WR",
           "O'Henry's Stiffies"
          ],
          [
           38.3158901875015,
           "RASHARD HIGGINS",
           "WR",
           "Free Agent"
          ],
          [
           38.30299927508887,
           "DEZ FITZPATRICK",
           "WR",
           "Free Agent"
          ],
          [
           38.27097998574497,
           "CHESTER ROGERS",
           "WR",
           "Free Agent"
          ],
          [
           122.22659443135264,
           "DAX MILNE",
           "WR",
           "Free Agent"
          ],
          [
           38.2099969881524,
           "KAWAAN BAKER",
           "WR",
           "Verdansk Vaqueros FFC"
          ],
          [
           122.2099969881524,
           "DEONTE HARTY",
           "WR",
           "Free Agent"
          ],
          [
           38.053158751345315,
           "LILJORDAN HUMPHREY",
           "WR",
           "Free Agent"
          ],
          [
           37.94887210061425,
           "TYRIE CLEVELAND",
           "WR",
           "Free Agent"
          ],
          [
           121.85706750364483,
           "BRANDON POWELL",
           "WR",
           "Free Agent"
          ],
          [
           37.85138046968783,
           "CAM SIMS",
           "WR",
           "Free Agent"
          ],
          [
           37.67696862640665,
           "MIKE THOMAS",
           "WR",
           "Free Agent"
          ],
          [
           37.66396067939862,
           "JAKEEM GRANT",
           "WR",
           "Free Agent"
          ],
          [
           37.36775176258894,
           "PENNY HART",
           "WR",
           "Free Agent"
          ],
          [
           37.178773384865636,
           "TREQUAN SMITH",
           "WR",
           "Free Agent"
          ],
          [
           37.164075753563466,
           "KEITH KIRKWOOD",
           "WR",
           "Free Agent"
          ],
          [
           37.13036283279722,
           "KEKE COUTEE",
           "WR",
           "Free Agent"
          ],
          [
           36.70121760241284,
           "STEVEN SIMS",
           "WR",
           "Free Agent"
          ],
          [
           35.34560706398746,
           "RACEY MCMATH",
           "WR",
           "Free Agent"
          ],
          [
           34.94047532029667,
           "ANTHONY MILLER",
           "WR",
           "Free Agent"
          ],
          [
           28.99559252055529,
           "ANTHONY SCHWARTZ",
           "WR",
           "Gus The Bus"
          ],
          [
           25.63045913001777,
           "ANDRE ROBERTS",
           "WR",
           "Free Agent"
          ],
          [
           109.34286455766633,
           "JAMAL AGNEW",
           "WR",
           "Providence Monastic Spirits"
          ],
          [
           24.121850107657448,
           "LAVISKA SHENAULT",
           "WR",
           "Free Agent"
          ],
          [
           107.82054203186743,
           "GUNNER OLSZEWSKI",
           "WR",
           "Free Agent"
          ],
          [
           105.89098528287371,
           "DEANDRE CARTER",
           "WR",
           "Saskatoon Squatches"
          ],
          [
           46.93517861303365,
           "GREG DORTCH",
           "WR",
           "O'Henry's Stiffies"
          ],
          [
           20.93106043061565,
           "DWAYNE ESKRIDGE",
           "WR",
           "Free Agent"
          ]
         ],
         "hovertemplate": "<b>%{hovertext}</b><br><br>franchiseAbbrev=%{x}<br>Relative Value=%{y}<br>Predicted Points=%{customdata[0]}<extra></extra>",
         "hovertext": [
          "DEEBO SAMUEL",
          "COOPER KUPP",
          "DAVANTE ADAMS",
          "JAMARR CHASE",
          "JUSTIN JEFFERSON",
          "TYREEK HILL",
          "CHRIS GODWIN",
          "STEFON DIGGS",
          "DIONTAE JOHNSON",
          "TEE HIGGINS",
          "CEEDEE LAMB",
          "ROBERT WOODS",
          "RUSSELL GAGE",
          "DJ MOORE",
          "TYLER LOCKETT",
          "JAYLEN WADDLE",
          "AJ BROWN",
          "MIKE EVANS",
          "DK METCALF",
          "MARQUISE BROWN",
          "BRANDIN COOKS",
          "KEENAN ALLEN",
          "TERRY MCLAURIN",
          "CHASE CLAYPOOL",
          "HUNTER RENFROW",
          "ADAM THIELEN",
          "AMARI COOPER",
          "DARNELL MOONEY",
          "CHRISTIAN KIRK",
          "JAKOBI MEYERS",
          "DEVANTE PARKER",
          "JARVIS LANDRY",
          "BRANDON AIYUK",
          "DANTE PETTIS",
          "TYLER BOYD",
          "ELIJAH MOORE",
          "DEVONTA SMITH",
          "DJ CHARK",
          "COREY DAVIS",
          "JERRY JEUDY",
          "JUJU SMITH-SCHUSTER",
          "AJ GREEN",
          "DAVID BELL",
          "WANDALE ROBINSON",
          "RICHIE JAMES",
          "DRAKE LONDON",
          "GEORGE PICKENS",
          "MICHAEL THOMAS",
          "CURTIS SAMUEL",
          "MECOLE HARDMAN",
          "KJ OSBORN",
          "RANDALL COBB",
          "NELSON AGHOLOR",
          "RONDALE MOORE",
          "ALEC PIERCE",
          "ROMEO DOUBS",
          "ALLEN LAZARD",
          "RASHOD BATEMAN",
          "COURTLAND SUTTON",
          "MARQUEZ VALDES-SCANTLING",
          "JAHAN DOTSON",
          "CHRIS OLAVE",
          "GARRETT WILSON",
          "MICHAEL GALLUP",
          "JOSH REYNOLDS",
          "DONOVAN PEOPLES-JONES",
          "ISAIAH MCKENZIE",
          "MACK HOLLINS",
          "KJ HAMLER",
          "SHI SMITH",
          "QUEZ WATKINS",
          "ZAY JONES",
          "OLAMIDE ZACCHEAUS",
          "JAUAN JENNINGS",
          "DEMARCUS ROBINSON",
          "NICO COLLINS",
          "DEVIN DUVERNAY",
          "PARRIS CAMPBELL",
          "NOAH BROWN",
          "MARQUISE GOODWIN",
          "NICK WESTBROOK-IKHINE",
          "BEN SKOWRONEK",
          "KHADAREL HODGE",
          "MIKE WILLIAMS",
          "CHRIS MOORE",
          "CODY HOLLISTER",
          "ROBBIE ANDERSON",
          "KRISTIAN WILKERSON",
          "AMON-RA ST BROWN",
          "DEANDRE HOPKINS",
          "STERLING SHEPARD",
          "CALVIN RIDLEY",
          "KADARIUS TONEY",
          "CEDRICK WILSON",
          "DARIUS SLAYTON",
          "ALLEN ROBINSON",
          "KENDRICK BOURNE",
          "MARVIN JONES",
          "MATT SLATER",
          "BRAXTON BERRIOS",
          "VAN JEFFERSON",
          "KENDALL HINTON",
          "KEELAN COLE",
          "IHMIR SMITH-MARSETTE",
          "EQUANIMEOUS ST BROWN",
          "MICHAEL PITTMAN",
          "GABRIEL DAVIS",
          "KENNY GOLLADAY",
          "JALEN REAGOR",
          "JULIO JONES",
          "JALEN GUYTON",
          "ANTOINE WESLEY",
          "MARCUS JOHNSON",
          "MALIK TURNER",
          "DYAMI BROWN",
          "QUINTEZ CEPHUS",
          "JASON MOORE",
          "KALIF RAYMOND",
          "DENZEL MIMS",
          "JAMISON CROWDER",
          "COLLIN JOHNSON",
          "OLABISI JOHNSON",
          "ZACH PASCAL",
          "JAMESON WILLIAMS",
          "BRITAIN COVEY",
          "BRYAN EDWARDS",
          "MAURICE ALEXANDER",
          "JALEN NAILOR",
          "BLAKE PROEHL",
          "DAN CHISENA",
          "CHRISTIAN WATSON",
          "KYLE PHILIPS",
          "SAMORI TOURE",
          "VELUS JONES",
          "TREYLON BURKS",
          "MARQUEZ CALLAWAY",
          "TOM KENNEDY",
          "AMARI RODGERS",
          "TIM PATRICK",
          "JAKE KUMEROW",
          "ERIK EZUKANMA",
          "MIKE STRACHAN",
          "JUWANN WINFREE",
          "TUTU ATWELL",
          "LANCE MCCUTCHEON",
          "DAVID SILLS",
          "WILLIE SNEAD",
          "JEFF SMITH",
          "JOHN METCHIE",
          "SCOTT MILLER",
          "JAMES PROCHE",
          "JACOB HARRIS",
          "SLADE BOLDEN",
          "JALEN TOLBERT",
          "RODNEY ADAMS",
          "SIMI FEHOKO",
          "TERRACE MARSHALL",
          "RALEIGH WEBB",
          "TIM JONES",
          "KENDRIC PRYOR",
          "RIVER CRACRAFT",
          "SAMMY WATKINS",
          "ASHTON DULIN",
          "JOSH GORDON",
          "PHILLIP DORSETT",
          "TYLER JOHNSON",
          "JAMES WASHINGTON",
          "ISAIAH WESTON",
          "DANNY GRAY",
          "DEVEN THOMPKINS",
          "DJ TURNER",
          "KAVONTAE TURPIN",
          "TYLAN WALLACE",
          "BYRON PRINGLE",
          "MICHAEL WOODS",
          "JAELON DARDEN",
          "ISAIAH HODGINS",
          "JARED BERNHARDT",
          "RAY-RAY MCCLOUD",
          "DAMIERE BYRD",
          "CALVIN AUSTIN III",
          "MARQUEZ STEVENSON",
          "BRESHAD PERRIMAN",
          "KHALIL SHAKIR",
          "JOSH PALMER",
          "ANDRE BACCELLIA",
          "MICHAEL BANDY",
          "DAREKE YOUNG",
          "JORDAN MATTHEWS",
          "TYQUAN THORNTON",
          "STANLEY MORGAN",
          "NKEAL HARRY",
          "FRANK DARBY",
          "TANNER GENTRY",
          "SKYY MOORE",
          "JUSTYN ROSS",
          "DAURICE FOUNTAIN",
          "TRENT SHERFIELD",
          "CODY THOMPSON",
          "TRENT TAYLOR",
          "MONTRELL WASHINGTON",
          "JALEN VIRGIL",
          "MILES BOYKIN",
          "JUSTIN WATSON",
          "RASHARD HIGGINS",
          "DEZ FITZPATRICK",
          "CHESTER ROGERS",
          "DAX MILNE",
          "KAWAAN BAKER",
          "DEONTE HARTY",
          "LILJORDAN HUMPHREY",
          "TYRIE CLEVELAND",
          "BRANDON POWELL",
          "CAM SIMS",
          "MIKE THOMAS",
          "JAKEEM GRANT",
          "PENNY HART",
          "TREQUAN SMITH",
          "KEITH KIRKWOOD",
          "KEKE COUTEE",
          "STEVEN SIMS",
          "RACEY MCMATH",
          "ANTHONY MILLER",
          "ANTHONY SCHWARTZ",
          "ANDRE ROBERTS",
          "JAMAL AGNEW",
          "LAVISKA SHENAULT",
          "GUNNER OLSZEWSKI",
          "DEANDRE CARTER",
          "GREG DORTCH",
          "DWAYNE ESKRIDGE"
         ],
         "legendgroup": "WR",
         "marker": {
          "color": "hsla(267, 40%, 45%, 1)",
          "pattern": {
           "shape": ""
          }
         },
         "name": "WR",
         "offsetgroup": "WR",
         "orientation": "v",
         "showlegend": true,
         "text": [
          "DEEBO SAMUEL",
          "COOPER KUPP",
          "DAVANTE ADAMS",
          "JAMARR CHASE",
          "JUSTIN JEFFERSON",
          "TYREEK HILL",
          "CHRIS GODWIN",
          "STEFON DIGGS",
          "DIONTAE JOHNSON",
          "TEE HIGGINS",
          "CEEDEE LAMB",
          "ROBERT WOODS",
          "RUSSELL GAGE",
          "DJ MOORE",
          "TYLER LOCKETT",
          "JAYLEN WADDLE",
          "AJ BROWN",
          "MIKE EVANS",
          "DK METCALF",
          "MARQUISE BROWN",
          "BRANDIN COOKS",
          "KEENAN ALLEN",
          "TERRY MCLAURIN",
          "CHASE CLAYPOOL",
          "HUNTER RENFROW",
          "ADAM THIELEN",
          "AMARI COOPER",
          "DARNELL MOONEY",
          "CHRISTIAN KIRK",
          "JAKOBI MEYERS",
          "DEVANTE PARKER",
          "JARVIS LANDRY",
          "BRANDON AIYUK",
          "DANTE PETTIS",
          "TYLER BOYD",
          "ELIJAH MOORE",
          "DEVONTA SMITH",
          "DJ CHARK",
          "COREY DAVIS",
          "JERRY JEUDY",
          "JUJU SMITH-SCHUSTER",
          "AJ GREEN",
          "DAVID BELL",
          "WANDALE ROBINSON",
          "RICHIE JAMES",
          "DRAKE LONDON",
          "GEORGE PICKENS",
          "MICHAEL THOMAS",
          "CURTIS SAMUEL",
          "MECOLE HARDMAN",
          "KJ OSBORN",
          "RANDALL COBB",
          "NELSON AGHOLOR",
          "RONDALE MOORE",
          "ALEC PIERCE",
          "ROMEO DOUBS",
          "ALLEN LAZARD",
          "RASHOD BATEMAN",
          "COURTLAND SUTTON",
          "MARQUEZ VALDES-SCANTLING",
          "JAHAN DOTSON",
          "CHRIS OLAVE",
          "GARRETT WILSON",
          "MICHAEL GALLUP",
          "JOSH REYNOLDS",
          "DONOVAN PEOPLES-JONES",
          "ISAIAH MCKENZIE",
          "MACK HOLLINS",
          "KJ HAMLER",
          "SHI SMITH",
          "QUEZ WATKINS",
          "ZAY JONES",
          "OLAMIDE ZACCHEAUS",
          "JAUAN JENNINGS",
          "DEMARCUS ROBINSON",
          "NICO COLLINS",
          "DEVIN DUVERNAY",
          "PARRIS CAMPBELL",
          "NOAH BROWN",
          "MARQUISE GOODWIN",
          "NICK WESTBROOK-IKHINE",
          "BEN SKOWRONEK",
          "KHADAREL HODGE",
          "MIKE WILLIAMS",
          "CHRIS MOORE",
          "CODY HOLLISTER",
          "ROBBIE ANDERSON",
          "KRISTIAN WILKERSON",
          "AMON-RA ST BROWN",
          "DEANDRE HOPKINS",
          "STERLING SHEPARD",
          "CALVIN RIDLEY",
          "KADARIUS TONEY",
          "CEDRICK WILSON",
          "DARIUS SLAYTON",
          "ALLEN ROBINSON",
          "KENDRICK BOURNE",
          "MARVIN JONES",
          "MATT SLATER",
          "BRAXTON BERRIOS",
          "VAN JEFFERSON",
          "KENDALL HINTON",
          "KEELAN COLE",
          "IHMIR SMITH-MARSETTE",
          "EQUANIMEOUS ST BROWN",
          "MICHAEL PITTMAN",
          "GABRIEL DAVIS",
          "KENNY GOLLADAY",
          "JALEN REAGOR",
          "JULIO JONES",
          "JALEN GUYTON",
          "ANTOINE WESLEY",
          "MARCUS JOHNSON",
          "MALIK TURNER",
          "DYAMI BROWN",
          "QUINTEZ CEPHUS",
          "JASON MOORE",
          "KALIF RAYMOND",
          "DENZEL MIMS",
          "JAMISON CROWDER",
          "COLLIN JOHNSON",
          "OLABISI JOHNSON",
          "ZACH PASCAL",
          "JAMESON WILLIAMS",
          "BRITAIN COVEY",
          "BRYAN EDWARDS",
          "MAURICE ALEXANDER",
          "JALEN NAILOR",
          "BLAKE PROEHL",
          "DAN CHISENA",
          "CHRISTIAN WATSON",
          "KYLE PHILIPS",
          "SAMORI TOURE",
          "VELUS JONES",
          "TREYLON BURKS",
          "MARQUEZ CALLAWAY",
          "TOM KENNEDY",
          "AMARI RODGERS",
          "TIM PATRICK",
          "JAKE KUMEROW",
          "ERIK EZUKANMA",
          "MIKE STRACHAN",
          "JUWANN WINFREE",
          "TUTU ATWELL",
          "LANCE MCCUTCHEON",
          "DAVID SILLS",
          "WILLIE SNEAD",
          "JEFF SMITH",
          "JOHN METCHIE",
          "SCOTT MILLER",
          "JAMES PROCHE",
          "JACOB HARRIS",
          "SLADE BOLDEN",
          "JALEN TOLBERT",
          "RODNEY ADAMS",
          "SIMI FEHOKO",
          "TERRACE MARSHALL",
          "RALEIGH WEBB",
          "TIM JONES",
          "KENDRIC PRYOR",
          "RIVER CRACRAFT",
          "SAMMY WATKINS",
          "ASHTON DULIN",
          "JOSH GORDON",
          "PHILLIP DORSETT",
          "TYLER JOHNSON",
          "JAMES WASHINGTON",
          "ISAIAH WESTON",
          "DANNY GRAY",
          "DEVEN THOMPKINS",
          "DJ TURNER",
          "KAVONTAE TURPIN",
          "TYLAN WALLACE",
          "BYRON PRINGLE",
          "MICHAEL WOODS",
          "JAELON DARDEN",
          "ISAIAH HODGINS",
          "JARED BERNHARDT",
          "RAY-RAY MCCLOUD",
          "DAMIERE BYRD",
          "CALVIN AUSTIN III",
          "MARQUEZ STEVENSON",
          "BRESHAD PERRIMAN",
          "KHALIL SHAKIR",
          "JOSH PALMER",
          "ANDRE BACCELLIA",
          "MICHAEL BANDY",
          "DAREKE YOUNG",
          "JORDAN MATTHEWS",
          "TYQUAN THORNTON",
          "STANLEY MORGAN",
          "NKEAL HARRY",
          "FRANK DARBY",
          "TANNER GENTRY",
          "SKYY MOORE",
          "JUSTYN ROSS",
          "DAURICE FOUNTAIN",
          "TRENT SHERFIELD",
          "CODY THOMPSON",
          "TRENT TAYLOR",
          "MONTRELL WASHINGTON",
          "JALEN VIRGIL",
          "MILES BOYKIN",
          "JUSTIN WATSON",
          "RASHARD HIGGINS",
          "DEZ FITZPATRICK",
          "CHESTER ROGERS",
          "DAX MILNE",
          "KAWAAN BAKER",
          "DEONTE HARTY",
          "LILJORDAN HUMPHREY",
          "TYRIE CLEVELAND",
          "BRANDON POWELL",
          "CAM SIMS",
          "MIKE THOMAS",
          "JAKEEM GRANT",
          "PENNY HART",
          "TREQUAN SMITH",
          "KEITH KIRKWOOD",
          "KEKE COUTEE",
          "STEVEN SIMS",
          "RACEY MCMATH",
          "ANTHONY MILLER",
          "ANTHONY SCHWARTZ",
          "ANDRE ROBERTS",
          "JAMAL AGNEW",
          "LAVISKA SHENAULT",
          "GUNNER OLSZEWSKI",
          "DEANDRE CARTER",
          "GREG DORTCH",
          "DWAYNE ESKRIDGE"
         ],
         "textposition": "auto",
         "type": "bar",
         "x": [
          "WFFT",
          "WFFT",
          "VV FFC",
          "SAS",
          "PBW",
          "SAS",
          "CrocoBS",
          "CMBK",
          "IDK",
          "WFFT",
          "OHS",
          "PBW",
          "PBW",
          "CrocoBS",
          "WAM",
          "GUS",
          "PBW",
          "SickD",
          "WFFT",
          "CrocoBS",
          "CMBK",
          "PBW",
          "SickD",
          "SAS",
          "GUS",
          "IDK",
          "VV FFC",
          null,
          "GUS",
          "SAS",
          "WAM",
          "SickD",
          "SickD",
          null,
          "PMS",
          "SAS",
          "OHS",
          "WAM",
          "SickD",
          "SAS",
          "PMS",
          "WAM",
          "CMBK",
          "PMS",
          null,
          "IDK",
          "WAM",
          "IDK",
          "PMS",
          "IDK",
          "WFFT",
          null,
          "SickD",
          "OHS",
          "WFFT",
          "PMS",
          "CrocoBS",
          "SAS",
          "PMS",
          "WFFT",
          "PMS",
          "WAM",
          "PMS",
          "CMBK",
          "CMBK",
          "PBW",
          "CrocoBS",
          null,
          null,
          null,
          null,
          "PMS",
          null,
          null,
          null,
          "CMBK",
          "CrocoBS",
          null,
          "VV FFC",
          null,
          null,
          null,
          null,
          "IDK",
          null,
          null,
          "WAM",
          null,
          "SickD",
          "VV FFC",
          "GUS",
          "WFFT",
          "PBW",
          null,
          null,
          "SAS",
          "WAM",
          "PBW",
          null,
          "CrocoBS",
          null,
          null,
          null,
          null,
          null,
          "GUS",
          "WFFT",
          "GUS",
          null,
          "OHS",
          null,
          null,
          null,
          null,
          null,
          "IDK",
          null,
          null,
          null,
          null,
          null,
          null,
          "SickD",
          "PMS",
          null,
          null,
          null,
          null,
          null,
          null,
          "OHS",
          "CrocoBS",
          null,
          "WFFT",
          "OHS",
          "VV FFC",
          null,
          null,
          "VV FFC",
          null,
          null,
          null,
          null,
          "IDK",
          null,
          null,
          null,
          null,
          "OHS",
          null,
          null,
          null,
          null,
          "PBW",
          null,
          null,
          null,
          null,
          null,
          null,
          null,
          "CMBK",
          null,
          null,
          null,
          null,
          null,
          null,
          null,
          null,
          null,
          null,
          "VV FFC",
          "GUS",
          null,
          "CrocoBS",
          null,
          null,
          "IDK",
          null,
          "VV FFC",
          null,
          null,
          "VV FFC",
          "CrocoBS",
          null,
          null,
          null,
          null,
          "SAS",
          null,
          null,
          null,
          null,
          "SickD",
          null,
          null,
          null,
          null,
          null,
          "CrocoBS",
          null,
          null,
          "OHS",
          null,
          null,
          null,
          null,
          "VV FFC",
          null,
          null,
          null,
          null,
          null,
          null,
          null,
          null,
          null,
          null,
          null,
          null,
          null,
          null,
          "GUS",
          null,
          "PMS",
          null,
          null,
          "SAS",
          "OHS",
          null
         ],
         "xaxis": "x",
         "y": [
          173.0055941956865,
          166.2788324789692,
          165.75524797304286,
          161.081206773987,
          145.40173060598815,
          165.77276525140505,
          137.01924675008632,
          129.34128009881462,
          128.5927212256751,
          123.21720108459934,
          122.5861997194636,
          117.26245479711184,
          113.89129781610711,
          110.01334756245666,
          109.11510706666547,
          106.62615833726059,
          105.87115296851863,
          105.65288204501181,
          104.99973541699217,
          101.92015937931652,
          101.06141131789005,
          100.41249567371719,
          100.02525306770843,
          99.95319656107236,
          123.80196582351812,
          96.27499274072062,
          96.06694802542185,
          94.6170059286107,
          90.68429759667819,
          85.57549232298996,
          85.37747995478139,
          84.35972442483506,
          82.0767766982535,
          81.15366298630855,
          80.55951872563321,
          79.56985793513562,
          77.03293794719829,
          76.32813934881159,
          74.06806689292034,
          73.15497067950415,
          71.8930872749221,
          70.69962047327564,
          69.75069836047379,
          69.64679509483773,
          93.65720984993337,
          66.84399474443074,
          66.74034453612225,
          64.77384201597357,
          63.749952269176504,
          62.90507207193646,
          62.33939625581496,
          62.28955244763462,
          61.53089782903561,
          61.41584055660019,
          60.92855049374644,
          60.29528651586132,
          59.16946616191596,
          58.985938029973426,
          58.667274753211075,
          58.62287417827342,
          58.51433724316533,
          57.54060787595361,
          57.114111651044155,
          56.29255153124748,
          54.91527422556547,
          53.732561644806026,
          112.22932824861192,
          53.18679959901701,
          48.54574106023608,
          73.25245912809731,
          105.93782357432505,
          45.17654160218437,
          43.68995335983067,
          43.30091832838431,
          42.5005742553213,
          42.18093875481139,
          125.67038452220973,
          41.40156903614353,
          40.76356777700137,
          39.55426570127344,
          38.97284238110343,
          38.76016318804321,
          38.1598307555754,
          38.09399611451664,
          37.80433776958087,
          36.294091166515486,
          36.12476115888583,
          -3.8505843760292677,
          -4.14387666686995,
          -6.138225222015976,
          -8.977359788559582,
          -9.091311129002094,
          -10.468983919180467,
          -15.055429294101785,
          -16.115974830705788,
          -16.467065484791604,
          -16.582099423056754,
          -17.53234195318518,
          -18.636245786822194,
          65.2364103088305,
          -18.98810647248459,
          -19.01155546809926,
          -19.074751420769154,
          -19.429116412794976,
          -19.54587702965243,
          -19.686685894279258,
          -19.718460992900127,
          -20.493043743242076,
          4.948364214137399,
          -20.585679116938664,
          -20.680838643307055,
          -21.634051608290555,
          -21.786811234746907,
          -21.851781563817447,
          -21.937261242228317,
          -21.948745228683492,
          -22.1584079583223,
          61.68596126741306,
          -22.379167157640886,
          -22.455236198346427,
          -22.493108795235038,
          -22.894153095374783,
          -23.07507971384213,
          -23.26760945764255,
          2.172999436861886,
          -23.37578210739273,
          -23.63920783228984,
          -23.651043832457283,
          -23.651043832457283,
          -23.824558790537054,
          -23.905180206051142,
          1.570960318066568,
          -23.96460146464235,
          -23.987037747169282,
          -24.13732178748274,
          -24.18320026584042,
          -24.227365072937857,
          59.772482477911836,
          -24.331332004897632,
          -24.37928790390353,
          -24.379541261082267,
          -24.396387913407928,
          -24.404886236790688,
          -24.408955003752233,
          -24.408955003752233,
          -24.409712259004678,
          -24.426579495620835,
          -24.47333750867658,
          -24.516130441020906,
          -24.518358041566714,
          -24.54639837351524,
          -24.694367344834852,
          -24.713494980209212,
          -24.728593391394085,
          -24.75382276111967,
          -24.778560205882407,
          -24.784055972425506,
          -24.78856523071378,
          -24.79741529581686,
          -24.79741529581686,
          -24.798049790228802,
          -24.813018104829958,
          -24.814879867918037,
          -24.822645356318652,
          -24.837442551333815,
          -24.916534566922067,
          -24.93746572749773,
          -24.992567648806308,
          -25.030468357233474,
          -25.092935040331966,
          -25.166142584032556,
          58.80170558691964,
          -25.208836965851248,
          -25.237359952788175,
          -25.252598898806305,
          0.20720172861777542,
          -25.303244942831718,
          -25.329076599802733,
          -25.340909916921774,
          -25.35865827197879,
          -25.36658568039354,
          -25.37228430214934,
          -25.411565591322308,
          0,
          -25.58359645349487,
          -25.628330296346952,
          -25.633855481210553,
          -25.68971978929028,
          -25.728700441273425,
          -25.81634130307384,
          -25.83246171714064,
          -25.862664119845455,
          -25.875128911712594,
          -25.906235444935476,
          -0.45380234663562646,
          -25.953802346635634,
          -26.020137709717297,
          -26.066984310639967,
          -26.150629382020853,
          -0.6890101873814274,
          57.809238391395866,
          -26.190761608604134,
          -26.20425216562534,
          -26.314943310309147,
          -26.360713662238517,
          -26.373604574651146,
          -26.405623863995046,
          57.54999058161262,
          -26.46660686158762,
          57.53339313841238,
          -26.623445098394704,
          -26.727731749125766,
          57.18046365390481,
          -26.825223380052186,
          -26.99963522333337,
          -27.0126431703414,
          -27.30885208715108,
          -27.497830464874383,
          -27.512528096176553,
          -27.5462410169428,
          -27.97538624732718,
          -29.33099678575256,
          -29.73612852944335,
          -35.68101132918473,
          -39.04614471972225,
          44.66626070792631,
          -40.55475374208257,
          43.143938182127414,
          41.214381433133696,
          -17.74142523670637,
          -43.745543419124374
         ],
         "yaxis": "y"
        },
        {
         "alignmentgroup": "True",
         "customdata": [
          [
           221.02480561796065,
           "TRAVIS KELCE",
           "TE",
           "Verdansk Vaqueros FFC"
          ],
          [
           197.26058057239356,
           "GEORGE KITTLE",
           "TE",
           "WHAM! BAM! Thank You CAM!"
          ],
          [
           196.0512491797252,
           "MARK ANDREWS",
           "TE",
           "Pretty Big Wieners"
          ],
          [
           158.53630662232763,
           "DALLAS GOEDERT",
           "TE",
           "Saskatoon Squatches"
          ],
          [
           157.92437667979613,
           "KYLE PITTS",
           "TE",
           "O'Henry's Stiffies"
          ],
          [
           155.05268873204898,
           "DALTON SCHULTZ",
           "TE",
           "Comeback Kings"
          ],
          [
           154.21419874857241,
           "MIKE GESICKI",
           "TE",
           "Crocodilopolis Body Snatchers"
          ],
          [
           150.8598334466327,
           "DARREN WALLER",
           "TE",
           "WHAM! BAM! Thank You CAM!"
          ],
          [
           150.4661533721767,
           "NOAH FANT",
           "TE",
           "Gus The Bus"
          ],
          [
           147.1516386712434,
           "TJ HOCKENSON",
           "TE",
           "Saskatoon Squatches"
          ],
          [
           139.52922940534606,
           "ZACH ERTZ",
           "TE",
           "Washington Fantasy Football Team"
          ],
          [
           125.7252631013163,
           "EVAN ENGRAM",
           "TE",
           "Washington Fantasy Football Team"
          ],
          [
           123.63621697446416,
           "COLE KMET",
           "TE",
           "Saskatoon Squatches"
          ],
          [
           121.8037009458739,
           "LOGAN THOMAS",
           "TE",
           "Gus The Bus"
          ],
          [
           119.47416936869286,
           "GERALD EVERETT",
           "TE",
           "WHAM! BAM! Thank You CAM!"
          ],
          [
           114.98588923680852,
           "TYLER CONKLIN",
           "TE",
           "Pretty Big Wieners"
          ],
          [
           114.86894336971251,
           "DAWSON KNOX",
           "TE",
           "Crocodilopolis Body Snatchers"
          ],
          [
           114.37982357869139,
           "HUNTER HENRY",
           "TE",
           "O'Henry's Stiffies"
          ],
          [
           112.40552587255124,
           "MO ALIE-COX",
           "TE",
           "Gus The Bus"
          ],
          [
           111.4519047537452,
           "DAVID NJOKU",
           "TE",
           "Verdansk Vaqueros FFC"
          ],
          [
           110.90614657821799,
           "TYLER HIGBEE",
           "TE",
           "Providence Monastic Spirits"
          ],
          [
           107.80897108987388,
           "ALBERT OKWUEGBUNAM",
           "TE",
           "Providence Monastic Spirits"
          ],
          [
           106.92533872481917,
           "PAT FREIERMUTH",
           "TE",
           "Saskatoon Squatches"
          ],
          [
           106.06236502687278,
           "GEOFF SWAIM",
           "TE",
           "Free Agent"
          ],
          [
           104.669021038372,
           "HAYDEN HURST",
           "TE",
           "IDK much about soccer "
          ],
          [
           103.83332603172595,
           "CAMERON BRATE",
           "TE",
           "Down with the Sickness unto Death"
          ],
          [
           103.42479229111345,
           "BREVIN JORDAN",
           "TE",
           "Pretty Big Wieners"
          ],
          [
           102.18360054534985,
           "IAN THOMAS",
           "TE",
           "Free Agent"
          ],
          [
           101.94812743229947,
           "ROBERT TONYAN",
           "TE",
           "Comeback Kings"
          ],
          [
           101.22249697893835,
           "DANIEL BELLINGER",
           "TE",
           "Crocodilopolis Body Snatchers"
          ],
          [
           100.01039682056536,
           "JUWAN JOHNSON",
           "TE",
           "Gus The Bus"
          ],
          [
           65.56791220985733,
           "JONNU SMITH",
           "TE",
           "Free Agent"
          ],
          [
           53.73970343265967,
           "CJ UZOMAH",
           "TE",
           "Verdansk Vaqueros FFC"
          ],
          [
           53.54607065403322,
           "DURHAM SMYTHE",
           "TE",
           "Free Agent"
          ],
          [
           51.834616702871465,
           "FOSTER MOREAU",
           "TE",
           "Free Agent"
          ],
          [
           50.124517816385186,
           "ADAM TRAUTMAN",
           "TE",
           "Down with the Sickness unto Death"
          ],
          [
           48.31823764755495,
           "TOMMY TREMBLE",
           "TE",
           "Free Agent"
          ],
          [
           46.38090431698951,
           "HARRISON BRYANT",
           "TE",
           "IDK much about soccer "
          ],
          [
           46.313827545080905,
           "AUSTIN HOOPER",
           "TE",
           "O'Henry's Stiffies"
          ],
          [
           44.34452907278177,
           "MARCEDES LEWIS",
           "TE",
           "Free Agent"
          ],
          [
           43.400533593488596,
           "OJ HOWARD",
           "TE",
           "Comeback Kings"
          ],
          [
           43.043088005454685,
           "WILL DISSLY",
           "TE",
           "IDK much about soccer "
          ],
          [
           42.80116337076262,
           "JAKE FERGUSON",
           "TE",
           "WHAM! BAM! Thank You CAM!"
          ],
          [
           42.7866292959907,
           "JOHNNY MUNDT",
           "TE",
           "Free Agent"
          ],
          [
           42.53135271717262,
           "RYAN GRIFFIN",
           "TE",
           "Free Agent"
          ],
          [
           42.424137908402294,
           "JOHN BATES",
           "TE",
           "Free Agent"
          ],
          [
           42.360586303005334,
           "TAYSOM HILL",
           "TE",
           "Washington Fantasy Football Team"
          ],
          [
           42.07072267129185,
           "NOAH GRAY",
           "TE",
           "Free Agent"
          ],
          [
           42.029450586829235,
           "TREY MCBRIDE",
           "TE",
           "Providence Monastic Spirits"
          ],
          [
           41.961621334601,
           "PARKER HESSE",
           "TE",
           "Free Agent"
          ],
          [
           41.93117154417095,
           "JACK STOLL",
           "TE",
           "Free Agent"
          ],
          [
           41.45687229290285,
           "BRYCEN HOPKINS",
           "TE",
           "Free Agent"
          ],
          [
           41.40609899158595,
           "ISAIAH LIKELY",
           "TE",
           "Saskatoon Squatches"
          ],
          [
           41.38677622563106,
           "CHRIS MANHERTZ",
           "TE",
           "Free Agent"
          ],
          [
           41.292552972266385,
           "MITCHELL WILCOX",
           "TE",
           "Free Agent"
          ],
          [
           41.20288785329337,
           "CADE OTTON",
           "TE",
           "IDK much about soccer "
          ],
          [
           41.17362066043013,
           "ERIC TOMLINSON",
           "TE",
           "Free Agent"
          ],
          [
           41.03205316561546,
           "KYLEN GRANSON",
           "TE",
           "Providence Monastic Spirits"
          ],
          [
           40.98918365307732,
           "QUINTIN MORRIS",
           "TE",
           "Free Agent"
          ],
          [
           40.93013075723033,
           "BROCK WRIGHT",
           "TE",
           "Free Agent"
          ],
          [
           40.555002640769175,
           "ZACH GENTRY",
           "TE",
           "Free Agent"
          ],
          [
           40.38448225356429,
           "CHARLIE WOERNER",
           "TE",
           "Free Agent"
          ],
          [
           35.669034128736094,
           "DEVIN ASIASI",
           "TE",
           "Free Agent"
          ],
          [
           34.04808649975337,
           "JESPER HORSTED",
           "TE",
           "Free Agent"
          ],
          [
           33.04956846352589,
           "DAN ARNOLD",
           "TE",
           "Down with the Sickness unto Death"
          ],
          [
           32.44794180523375,
           "RICHARD RODGERS",
           "TE",
           "Free Agent"
          ],
          [
           31.67735869806722,
           "BLAKE BELL",
           "TE",
           "Free Agent"
          ],
          [
           31.506675024869708,
           "JORDAN AKINS",
           "TE",
           "Free Agent"
          ],
          [
           31.423497586175188,
           "FELEIPE FRANKS",
           "TE",
           "Free Agent"
          ],
          [
           30.765860957295786,
           "KENNY YEBOAH",
           "TE",
           "Free Agent"
          ],
          [
           29.87828600306412,
           "DONALD PARHAM",
           "TE",
           "IDK much about soccer "
          ],
          [
           29.820435921707563,
           "PHARAOH BROWN",
           "TE",
           "Free Agent"
          ],
          [
           28.953654265101672,
           "SEAN MCKEON",
           "TE",
           "Free Agent"
          ],
          [
           28.656447167062325,
           "DANIEL BROWN",
           "TE",
           "Free Agent"
          ],
          [
           28.286733481624818,
           "ANDREW BECK",
           "TE",
           "Free Agent"
          ],
          [
           28.194641627676774,
           "NOAH TOGIAI",
           "TE",
           "Free Agent"
          ],
          [
           28.194641627676774,
           "TYREE JACKSON",
           "TE",
           "Free Agent"
          ],
          [
           28.184060821300516,
           "JELANI WOODS",
           "TE",
           "Comeback Kings"
          ],
          [
           28.184060821300516,
           "ANDREW OGLETREE",
           "TE",
           "Free Agent"
          ],
          [
           28.161577748170817,
           "MASON SCHRECK",
           "TE",
           "Free Agent"
          ],
          [
           28.108817255311166,
           "TREVON WESCO",
           "TE",
           "Free Agent"
          ],
          [
           28.10354060913353,
           "TOMMY HUDSON",
           "TE",
           "Free Agent"
          ],
          [
           28.101385737699523,
           "TANNER HUDSON",
           "TE",
           "Free Agent"
          ],
          [
           28.08132304337175,
           "KEVIN RADER",
           "TE",
           "Free Agent"
          ],
          [
           28.04756632459526,
           "ROSS DWELLEY",
           "TE",
           "Free Agent"
          ],
          [
           28.04469260957975,
           "NICK VANNETT",
           "TE",
           "Free Agent"
          ],
          [
           28.039193897675837,
           "ERIC SAUBERT",
           "TE",
           "Free Agent"
          ],
          [
           28.02343919061089,
           "LUKE FARRELL",
           "TE",
           "Free Agent"
          ],
          [
           27.95514443124415,
           "TYLER KROFT",
           "TE",
           "Free Agent"
          ],
          [
           27.838313073557796,
           "TYLER DAVIS",
           "TE",
           "Free Agent"
          ],
          [
           27.836444508706943,
           "JAMES WINCHESTER",
           "TE",
           "Free Agent"
          ],
          [
           27.820703285853103,
           "JESSE JAMES",
           "TE",
           "Free Agent"
          ],
          [
           27.805783990723917,
           "JODY FORTSON",
           "TE",
           "Free Agent"
          ],
          [
           27.78991430943355,
           "LAWRENCE CAGER",
           "TE",
           "Free Agent"
          ],
          [
           27.738753058751666,
           "CHIGOZIEM OKONKWO",
           "TE",
           "Pretty Big Wieners"
          ],
          [
           27.730187329135095,
           "GRANT CALCATERRA",
           "TE",
           "Free Agent"
          ],
          [
           27.725315411248037,
           "TRE MCKITTY",
           "TE",
           "Free Agent"
          ],
          [
           27.68702673281689,
           "KYLE RUDOLPH",
           "TE",
           "Free Agent"
          ],
          [
           27.64778167343425,
           "GREG DULCICH",
           "TE",
           "Crocodilopolis Body Snatchers"
          ],
          [
           27.617778538988162,
           "BEN ELLEFSON",
           "TE",
           "Free Agent"
          ],
          [
           27.584782501811187,
           "ELI WOLF",
           "TE",
           "Free Agent"
          ],
          [
           27.531179873966344,
           "TEAGAN QUITORIANO",
           "TE",
           "Free Agent"
          ],
          [
           27.528450618126485,
           "JOSIAH DEGUARA",
           "TE",
           "Free Agent"
          ],
          [
           27.502589884988765,
           "KENDALL BLANTON",
           "TE",
           "Free Agent"
          ],
          [
           27.476924279095613,
           "PEYTON HENDERSHOT",
           "TE",
           "Free Agent"
          ],
          [
           27.474794752174702,
           "JP HOLTZ",
           "TE",
           "Free Agent"
          ],
          [
           27.377993476572314,
           "JAKE TONGES",
           "TE",
           "Free Agent"
          ],
          [
           27.31149780757524,
           "ANTHONY FIRKSER",
           "TE",
           "Free Agent"
          ],
          [
           27.27155048959123,
           "JAMES MITCHELL",
           "TE",
           "Free Agent"
          ],
          [
           27.261740629890003,
           "ARMANI ROGERS",
           "TE",
           "Free Agent"
          ],
          [
           27.20067873304812,
           "MILLER FORRISTALL",
           "TE",
           "Free Agent"
          ],
          [
           27.16082725203098,
           "IRV SMITH JR",
           "TE",
           "Washington Fantasy Football Team"
          ],
          [
           27.14266831822248,
           "STEPHEN ANDERSON",
           "TE",
           "Free Agent"
          ],
          [
           27.136835185277942,
           "STEPHEN SULLIVAN",
           "TE",
           "Free Agent"
          ],
          [
           27.07448599016425,
           "NICK MUSE",
           "TE",
           "Free Agent"
          ],
          [
           26.983198259792406,
           "DREW SAMPLE",
           "TE",
           "Free Agent"
          ],
          [
           26.969660994393763,
           "COLBY PARKINSON",
           "TE",
           "Free Agent"
          ],
          [
           26.945438741651937,
           "TOMMY SWEENEY",
           "TE",
           "Free Agent"
          ],
          [
           26.944263374507287,
           "COLE TURNER",
           "TE",
           "Free Agent"
          ],
          [
           26.89556481617703,
           "CETHAN CARTER",
           "TE",
           "Free Agent"
          ],
          [
           26.879761181577862,
           "CONNOR HEYWARD",
           "TE",
           "Free Agent"
          ],
          [
           26.84821914949926,
           "JOSH OLIVER",
           "TE",
           "Free Agent"
          ],
          [
           26.835179660651573,
           "KO KIEFT",
           "TE",
           "Free Agent"
          ],
          [
           26.732471877682208,
           "HUNTER LONG",
           "TE",
           "Free Agent"
          ],
          [
           26.729055164045747,
           "TANNER CONNER",
           "TE",
           "Free Agent"
          ],
          [
           26.64772699926615,
           "NICK BOYLE",
           "TE",
           "Free Agent"
          ],
          [
           26.57807949802244,
           "JEREMY RUCKERT",
           "TE",
           "Free Agent"
          ],
          [
           26.57622432255623,
           "ADAM SHAHEEN",
           "TE",
           "Free Agent"
          ],
          [
           26.54803025554556,
           "CHARLIE KOLAR",
           "TE",
           "Free Agent"
          ],
          [
           26.394442441499407,
           "JOHN FITZPATRICK",
           "TE",
           "Free Agent"
          ]
         ],
         "hovertemplate": "<b>%{hovertext}</b><br><br>franchiseAbbrev=%{x}<br>Relative Value=%{y}<br>Predicted Points=%{customdata[0]}<extra></extra>",
         "hovertext": [
          "TRAVIS KELCE",
          "GEORGE KITTLE",
          "MARK ANDREWS",
          "DALLAS GOEDERT",
          "KYLE PITTS",
          "DALTON SCHULTZ",
          "MIKE GESICKI",
          "DARREN WALLER",
          "NOAH FANT",
          "TJ HOCKENSON",
          "ZACH ERTZ",
          "EVAN ENGRAM",
          "COLE KMET",
          "LOGAN THOMAS",
          "GERALD EVERETT",
          "TYLER CONKLIN",
          "DAWSON KNOX",
          "HUNTER HENRY",
          "MO ALIE-COX",
          "DAVID NJOKU",
          "TYLER HIGBEE",
          "ALBERT OKWUEGBUNAM",
          "PAT FREIERMUTH",
          "GEOFF SWAIM",
          "HAYDEN HURST",
          "CAMERON BRATE",
          "BREVIN JORDAN",
          "IAN THOMAS",
          "ROBERT TONYAN",
          "DANIEL BELLINGER",
          "JUWAN JOHNSON",
          "JONNU SMITH",
          "CJ UZOMAH",
          "DURHAM SMYTHE",
          "FOSTER MOREAU",
          "ADAM TRAUTMAN",
          "TOMMY TREMBLE",
          "HARRISON BRYANT",
          "AUSTIN HOOPER",
          "MARCEDES LEWIS",
          "OJ HOWARD",
          "WILL DISSLY",
          "JAKE FERGUSON",
          "JOHNNY MUNDT",
          "RYAN GRIFFIN",
          "JOHN BATES",
          "TAYSOM HILL",
          "NOAH GRAY",
          "TREY MCBRIDE",
          "PARKER HESSE",
          "JACK STOLL",
          "BRYCEN HOPKINS",
          "ISAIAH LIKELY",
          "CHRIS MANHERTZ",
          "MITCHELL WILCOX",
          "CADE OTTON",
          "ERIC TOMLINSON",
          "KYLEN GRANSON",
          "QUINTIN MORRIS",
          "BROCK WRIGHT",
          "ZACH GENTRY",
          "CHARLIE WOERNER",
          "DEVIN ASIASI",
          "JESPER HORSTED",
          "DAN ARNOLD",
          "RICHARD RODGERS",
          "BLAKE BELL",
          "JORDAN AKINS",
          "FELEIPE FRANKS",
          "KENNY YEBOAH",
          "DONALD PARHAM",
          "PHARAOH BROWN",
          "SEAN MCKEON",
          "DANIEL BROWN",
          "ANDREW BECK",
          "NOAH TOGIAI",
          "TYREE JACKSON",
          "JELANI WOODS",
          "ANDREW OGLETREE",
          "MASON SCHRECK",
          "TREVON WESCO",
          "TOMMY HUDSON",
          "TANNER HUDSON",
          "KEVIN RADER",
          "ROSS DWELLEY",
          "NICK VANNETT",
          "ERIC SAUBERT",
          "LUKE FARRELL",
          "TYLER KROFT",
          "TYLER DAVIS",
          "JAMES WINCHESTER",
          "JESSE JAMES",
          "JODY FORTSON",
          "LAWRENCE CAGER",
          "CHIGOZIEM OKONKWO",
          "GRANT CALCATERRA",
          "TRE MCKITTY",
          "KYLE RUDOLPH",
          "GREG DULCICH",
          "BEN ELLEFSON",
          "ELI WOLF",
          "TEAGAN QUITORIANO",
          "JOSIAH DEGUARA",
          "KENDALL BLANTON",
          "PEYTON HENDERSHOT",
          "JP HOLTZ",
          "JAKE TONGES",
          "ANTHONY FIRKSER",
          "JAMES MITCHELL",
          "ARMANI ROGERS",
          "MILLER FORRISTALL",
          "IRV SMITH JR",
          "STEPHEN ANDERSON",
          "STEPHEN SULLIVAN",
          "NICK MUSE",
          "DREW SAMPLE",
          "COLBY PARKINSON",
          "TOMMY SWEENEY",
          "COLE TURNER",
          "CETHAN CARTER",
          "CONNOR HEYWARD",
          "JOSH OLIVER",
          "KO KIEFT",
          "HUNTER LONG",
          "TANNER CONNER",
          "NICK BOYLE",
          "JEREMY RUCKERT",
          "ADAM SHAHEEN",
          "CHARLIE KOLAR",
          "JOHN FITZPATRICK"
         ],
         "legendgroup": "TE",
         "marker": {
          "color": "hsla(177, 68%, 36%, 1)",
          "pattern": {
           "shape": ""
          }
         },
         "name": "TE",
         "offsetgroup": "TE",
         "orientation": "v",
         "showlegend": true,
         "text": [
          "TRAVIS KELCE",
          "GEORGE KITTLE",
          "MARK ANDREWS",
          "DALLAS GOEDERT",
          "KYLE PITTS",
          "DALTON SCHULTZ",
          "MIKE GESICKI",
          "DARREN WALLER",
          "NOAH FANT",
          "TJ HOCKENSON",
          "ZACH ERTZ",
          "EVAN ENGRAM",
          "COLE KMET",
          "LOGAN THOMAS",
          "GERALD EVERETT",
          "TYLER CONKLIN",
          "DAWSON KNOX",
          "HUNTER HENRY",
          "MO ALIE-COX",
          "DAVID NJOKU",
          "TYLER HIGBEE",
          "ALBERT OKWUEGBUNAM",
          "PAT FREIERMUTH",
          "GEOFF SWAIM",
          "HAYDEN HURST",
          "CAMERON BRATE",
          "BREVIN JORDAN",
          "IAN THOMAS",
          "ROBERT TONYAN",
          "DANIEL BELLINGER",
          "JUWAN JOHNSON",
          "JONNU SMITH",
          "CJ UZOMAH",
          "DURHAM SMYTHE",
          "FOSTER MOREAU",
          "ADAM TRAUTMAN",
          "TOMMY TREMBLE",
          "HARRISON BRYANT",
          "AUSTIN HOOPER",
          "MARCEDES LEWIS",
          "OJ HOWARD",
          "WILL DISSLY",
          "JAKE FERGUSON",
          "JOHNNY MUNDT",
          "RYAN GRIFFIN",
          "JOHN BATES",
          "TAYSOM HILL",
          "NOAH GRAY",
          "TREY MCBRIDE",
          "PARKER HESSE",
          "JACK STOLL",
          "BRYCEN HOPKINS",
          "ISAIAH LIKELY",
          "CHRIS MANHERTZ",
          "MITCHELL WILCOX",
          "CADE OTTON",
          "ERIC TOMLINSON",
          "KYLEN GRANSON",
          "QUINTIN MORRIS",
          "BROCK WRIGHT",
          "ZACH GENTRY",
          "CHARLIE WOERNER",
          "DEVIN ASIASI",
          "JESPER HORSTED",
          "DAN ARNOLD",
          "RICHARD RODGERS",
          "BLAKE BELL",
          "JORDAN AKINS",
          "FELEIPE FRANKS",
          "KENNY YEBOAH",
          "DONALD PARHAM",
          "PHARAOH BROWN",
          "SEAN MCKEON",
          "DANIEL BROWN",
          "ANDREW BECK",
          "NOAH TOGIAI",
          "TYREE JACKSON",
          "JELANI WOODS",
          "ANDREW OGLETREE",
          "MASON SCHRECK",
          "TREVON WESCO",
          "TOMMY HUDSON",
          "TANNER HUDSON",
          "KEVIN RADER",
          "ROSS DWELLEY",
          "NICK VANNETT",
          "ERIC SAUBERT",
          "LUKE FARRELL",
          "TYLER KROFT",
          "TYLER DAVIS",
          "JAMES WINCHESTER",
          "JESSE JAMES",
          "JODY FORTSON",
          "LAWRENCE CAGER",
          "CHIGOZIEM OKONKWO",
          "GRANT CALCATERRA",
          "TRE MCKITTY",
          "KYLE RUDOLPH",
          "GREG DULCICH",
          "BEN ELLEFSON",
          "ELI WOLF",
          "TEAGAN QUITORIANO",
          "JOSIAH DEGUARA",
          "KENDALL BLANTON",
          "PEYTON HENDERSHOT",
          "JP HOLTZ",
          "JAKE TONGES",
          "ANTHONY FIRKSER",
          "JAMES MITCHELL",
          "ARMANI ROGERS",
          "MILLER FORRISTALL",
          "IRV SMITH JR",
          "STEPHEN ANDERSON",
          "STEPHEN SULLIVAN",
          "NICK MUSE",
          "DREW SAMPLE",
          "COLBY PARKINSON",
          "TOMMY SWEENEY",
          "COLE TURNER",
          "CETHAN CARTER",
          "CONNOR HEYWARD",
          "JOSH OLIVER",
          "KO KIEFT",
          "HUNTER LONG",
          "TANNER CONNER",
          "NICK BOYLE",
          "JEREMY RUCKERT",
          "ADAM SHAHEEN",
          "CHARLIE KOLAR",
          "JOHN FITZPATRICK"
         ],
         "textposition": "auto",
         "type": "bar",
         "x": [
          "VV FFC",
          "WAM",
          "PBW",
          "SAS",
          "OHS",
          "CMBK",
          "CrocoBS",
          "WAM",
          "GUS",
          "SAS",
          "WFFT",
          "WFFT",
          "SAS",
          "GUS",
          "WAM",
          "PBW",
          "CrocoBS",
          "OHS",
          "GUS",
          "VV FFC",
          "PMS",
          "PMS",
          "SAS",
          null,
          "IDK",
          "SickD",
          "PBW",
          null,
          "CMBK",
          "CrocoBS",
          "GUS",
          null,
          "VV FFC",
          null,
          null,
          "SickD",
          null,
          "IDK",
          "OHS",
          null,
          "CMBK",
          "IDK",
          "WAM",
          null,
          null,
          null,
          "WFFT",
          null,
          "PMS",
          null,
          null,
          null,
          "SAS",
          null,
          null,
          "IDK",
          null,
          "PMS",
          null,
          null,
          null,
          null,
          null,
          null,
          "SickD",
          null,
          null,
          null,
          null,
          null,
          "IDK",
          null,
          null,
          null,
          null,
          null,
          null,
          "CMBK",
          null,
          null,
          null,
          null,
          null,
          null,
          null,
          null,
          null,
          null,
          null,
          null,
          null,
          null,
          null,
          null,
          "PBW",
          null,
          null,
          null,
          "CrocoBS",
          null,
          null,
          null,
          null,
          null,
          null,
          null,
          null,
          null,
          null,
          null,
          null,
          "WFFT",
          null,
          null,
          null,
          null,
          null,
          null,
          null,
          null,
          null,
          null,
          null,
          null,
          null,
          null,
          null,
          null,
          null,
          null
         ],
         "xaxis": "x",
         "y": [
          174.64390130097115,
          150.87967625540406,
          149.6703448627357,
          112.15540230533813,
          111.54347236280663,
          108.67178441505948,
          107.83329443158291,
          104.4789291296432,
          104.0852490551872,
          100.7707343542539,
          93.14832508835656,
          79.3443587843268,
          77.25531265747466,
          75.42279662888438,
          73.09326505170336,
          68.604984919819,
          68.488039052723,
          67.99891926170187,
          66.02462155556174,
          65.0710004367557,
          64.52524226122847,
          61.42806677288437,
          60.54443440782966,
          59.681460709883275,
          58.28811672138249,
          57.45242171473644,
          57.04388797412394,
          55.80269622836034,
          55.567223115309964,
          54.841592661948845,
          53.629492503575854,
          19.18700789286782,
          7.358799115670159,
          7.165166337043715,
          5.453712385881957,
          3.7436134993956784,
          1.937333330565444,
          0,
          -0.06707677190860295,
          -2.03637524420774,
          -2.9803707235009114,
          -3.337816311534823,
          -3.5797409462268845,
          -3.5942750209988077,
          -3.849551599816891,
          -3.956766408587214,
          -4.020318013984173,
          -4.310181645697661,
          -4.351453730160273,
          -4.419282982388509,
          -4.449732772818557,
          -4.924032024086657,
          -4.974805325403558,
          -4.994128091358448,
          -5.088351344723122,
          -5.178016463696139,
          -5.207283656559376,
          -5.348851151374049,
          -5.391720663912189,
          -5.4507735597591775,
          -5.825901676220333,
          -5.996422063425214,
          -10.711870188253414,
          -12.33281781723614,
          -13.33133585346362,
          -13.932962511755761,
          -14.703545618922288,
          -14.8742292921198,
          -14.95740673081432,
          -15.615043359693722,
          -16.50261831392539,
          -16.560468395281944,
          -17.427250051887835,
          -17.724457149927183,
          -18.09417083536469,
          -18.186262689312734,
          -18.186262689312734,
          -18.19684349568899,
          -18.19684349568899,
          -18.21932656881869,
          -18.27208706167834,
          -18.27736370785598,
          -18.279518579289984,
          -18.299581273617758,
          -18.33333799239425,
          -18.336211707409756,
          -18.34171041931367,
          -18.357465126378617,
          -18.425759885745357,
          -18.542591243431712,
          -18.544459808282564,
          -18.560201031136405,
          -18.57512032626559,
          -18.59099000755596,
          -18.642151258237842,
          -18.650716987854413,
          -18.65558890574147,
          -18.69387758417262,
          -18.73312264355526,
          -18.763125778001346,
          -18.79612181517832,
          -18.849724443023163,
          -18.852453698863023,
          -18.878314432000742,
          -18.903980037893895,
          -18.906109564814805,
          -19.002910840417194,
          -19.069406509414268,
          -19.109353827398277,
          -19.119163687099505,
          -19.180225583941386,
          -19.220077064958527,
          -19.238235998767028,
          -19.244069131711566,
          -19.30641832682526,
          -19.3977060571971,
          -19.411243322595745,
          -19.43546557533757,
          -19.43664094248222,
          -19.48533950081248,
          -19.501143135411645,
          -19.532685167490246,
          -19.545724656337935,
          -19.6484324393073,
          -19.65184915294376,
          -19.733177317723356,
          -19.802824818967068,
          -19.80467999443328,
          -19.83287406144395,
          -19.9864618754901
         ],
         "yaxis": "y"
        },
        {
         "alignmentgroup": "True",
         "customdata": [
          [
           147.32147189115972,
           "GREG ZUERLEIN",
           "PK",
           "Comeback Kings"
          ],
          [
           147.05642474127507,
           "NICK FOLK",
           "PK",
           "Crocodilopolis Body Snatchers"
          ],
          [
           146.1750792919682,
           "GREG JOSEPH",
           "PK",
           "Washington Fantasy Football Team"
          ],
          [
           146.15567239548375,
           "EVAN MCPHERSON",
           "PK",
           "Providence Monastic Spirits"
          ],
          [
           145.3314905136618,
           "JUSTIN TUCKER",
           "PK",
           "Gus The Bus"
          ],
          [
           145.02062082153464,
           "DANIEL CARLSON",
           "PK",
           "Pretty Big Wieners"
          ],
          [
           144.76874886186548,
           "MASON CROSBY",
           "PK",
           "Down with the Sickness unto Death"
          ],
          [
           144.00206850458807,
           "TYLER BASS",
           "PK",
           "Providence Monastic Spirits"
          ],
          [
           143.9845999911087,
           "RANDY BULLOCK",
           "PK",
           "Verdansk Vaqueros FFC"
          ],
          [
           143.8157781644001,
           "MATT PRATER",
           "PK",
           "Free Agent"
          ],
          [
           143.7830982898065,
           "WIL LUTZ",
           "PK",
           "Washington Fantasy Football Team"
          ],
          [
           143.17739960376855,
           "HARRISON BUTKER",
           "PK",
           "O'Henry's Stiffies"
          ],
          [
           142.84796849396264,
           "JASON SANDERS",
           "PK",
           "Saskatoon Squatches"
          ],
          [
           142.75291172344802,
           "CHRIS BOSWELL",
           "PK",
           "Verdansk Vaqueros FFC"
          ],
          [
           142.16389253482106,
           "GRAHAM GANO",
           "PK",
           "Saskatoon Squatches"
          ],
          [
           141.8266796833305,
           "MATT GAY",
           "PK",
           "Saskatoon Squatches"
          ],
          [
           140.82118466281548,
           "BRETT MAHER",
           "PK",
           "Down with the Sickness unto Death"
          ],
          [
           140.76179993189012,
           "RYAN SUCCOP",
           "PK",
           "Comeback Kings"
          ],
          [
           140.2258449118796,
           "JASON MYERS",
           "PK",
           "IDK much about soccer "
          ],
          [
           140.2223249223934,
           "JOEY SLYE",
           "PK",
           "Free Agent"
          ],
          [
           140.19211876951906,
           "BRANDON MCMANUS",
           "PK",
           "IDK much about soccer "
          ],
          [
           139.96743179349204,
           "DUSTIN HOPKINS",
           "PK",
           "Gus The Bus"
          ],
          [
           139.6665655581791,
           "CHASE MCLAUGHLIN",
           "PK",
           "O'Henry's Stiffies"
          ],
          [
           138.76879266484372,
           "JAKE ELLIOTT",
           "PK",
           "WHAM! BAM! Thank You CAM!"
          ],
          [
           137.96773333946732,
           "ROBBIE GOULD",
           "PK",
           "Verdansk Vaqueros FFC"
          ],
          [
           137.30838555125592,
           "RILEY PATTERSON",
           "PK",
           "Crocodilopolis Body Snatchers"
          ],
          [
           136.91168561969226,
           "CAIRO SANTOS",
           "PK",
           "Pretty Big Wieners"
          ],
          [
           136.76906633589175,
           "YOUNGHOE KOO",
           "PK",
           "Crocodilopolis Body Snatchers"
          ],
          [
           136.31401473211415,
           "KAIMI FAIRBAIRN",
           "PK",
           "O'Henry's Stiffies"
          ],
          [
           133.94947691820926,
           "CADE YORK",
           "PK",
           "Pretty Big Wieners"
          ],
          [
           114.66751456890375,
           "ZANE GONZALEZ",
           "PK",
           "Down with the Sickness unto Death"
          ],
          [
           112.4532834600939,
           "EDDY PINEIRO",
           "PK",
           "WHAM! BAM! Thank You CAM!"
          ],
          [
           109.99479387016,
           "MATT AMMENDOLA",
           "PK",
           "Free Agent"
          ],
          [
           108.61330616445177,
           "MATTHEW WRIGHT",
           "PK",
           "Free Agent"
          ],
          [
           107.77344725317434,
           "MIKE BADGLEY",
           "PK",
           "Free Agent"
          ],
          [
           107.63502205172007,
           "QUINN NORDIN",
           "PK",
           "Free Agent"
          ],
          [
           106.97348370090626,
           "TAYLOR BERTOLET",
           "PK",
           "Free Agent"
          ],
          [
           106.87112813672871,
           "CAMERON DICKER",
           "PK",
           "Free Agent"
          ]
         ],
         "hovertemplate": "<b>%{hovertext}</b><br><br>franchiseAbbrev=%{x}<br>Relative Value=%{y}<br>Predicted Points=%{customdata[0]}<extra></extra>",
         "hovertext": [
          "GREG ZUERLEIN",
          "NICK FOLK",
          "GREG JOSEPH",
          "EVAN MCPHERSON",
          "JUSTIN TUCKER",
          "DANIEL CARLSON",
          "MASON CROSBY",
          "TYLER BASS",
          "RANDY BULLOCK",
          "MATT PRATER",
          "WIL LUTZ",
          "HARRISON BUTKER",
          "JASON SANDERS",
          "CHRIS BOSWELL",
          "GRAHAM GANO",
          "MATT GAY",
          "BRETT MAHER",
          "RYAN SUCCOP",
          "JASON MYERS",
          "JOEY SLYE",
          "BRANDON MCMANUS",
          "DUSTIN HOPKINS",
          "CHASE MCLAUGHLIN",
          "JAKE ELLIOTT",
          "ROBBIE GOULD",
          "RILEY PATTERSON",
          "CAIRO SANTOS",
          "YOUNGHOE KOO",
          "KAIMI FAIRBAIRN",
          "CADE YORK",
          "ZANE GONZALEZ",
          "EDDY PINEIRO",
          "MATT AMMENDOLA",
          "MATTHEW WRIGHT",
          "MIKE BADGLEY",
          "QUINN NORDIN",
          "TAYLOR BERTOLET",
          "CAMERON DICKER"
         ],
         "legendgroup": "PK",
         "marker": {
          "color": "hsla(14, 30%, 40%, 1)",
          "pattern": {
           "shape": ""
          }
         },
         "name": "PK",
         "offsetgroup": "PK",
         "orientation": "v",
         "showlegend": true,
         "text": [
          "GREG ZUERLEIN",
          "NICK FOLK",
          "GREG JOSEPH",
          "EVAN MCPHERSON",
          "JUSTIN TUCKER",
          "DANIEL CARLSON",
          "MASON CROSBY",
          "TYLER BASS",
          "RANDY BULLOCK",
          "MATT PRATER",
          "WIL LUTZ",
          "HARRISON BUTKER",
          "JASON SANDERS",
          "CHRIS BOSWELL",
          "GRAHAM GANO",
          "MATT GAY",
          "BRETT MAHER",
          "RYAN SUCCOP",
          "JASON MYERS",
          "JOEY SLYE",
          "BRANDON MCMANUS",
          "DUSTIN HOPKINS",
          "CHASE MCLAUGHLIN",
          "JAKE ELLIOTT",
          "ROBBIE GOULD",
          "RILEY PATTERSON",
          "CAIRO SANTOS",
          "YOUNGHOE KOO",
          "KAIMI FAIRBAIRN",
          "CADE YORK",
          "ZANE GONZALEZ",
          "EDDY PINEIRO",
          "MATT AMMENDOLA",
          "MATTHEW WRIGHT",
          "MIKE BADGLEY",
          "QUINN NORDIN",
          "TAYLOR BERTOLET",
          "CAMERON DICKER"
         ],
         "textposition": "auto",
         "type": "bar",
         "x": [
          "CMBK",
          "CrocoBS",
          "WFFT",
          "PMS",
          "GUS",
          "PBW",
          "SickD",
          "PMS",
          "VV FFC",
          null,
          "WFFT",
          "OHS",
          "SAS",
          "VV FFC",
          "SAS",
          "SAS",
          "SickD",
          "CMBK",
          "IDK",
          null,
          "IDK",
          "GUS",
          "OHS",
          "WAM",
          "VV FFC",
          "CrocoBS",
          "PBW",
          "CrocoBS",
          "OHS",
          "PBW",
          "SickD",
          "WAM",
          null,
          null,
          null,
          null,
          null,
          null
         ],
         "xaxis": "x",
         "y": [
          34.86818843106582,
          34.603141281181166,
          33.72179583187429,
          33.70238893538985,
          32.878207053567905,
          32.567337361440735,
          32.315465401771576,
          31.548785044494167,
          31.531316531014795,
          31.362494704306187,
          31.329814829712603,
          30.72411614367465,
          30.39468503386874,
          30.299628263354123,
          29.71060907472716,
          29.373396223236597,
          28.367901202721583,
          28.308516471796224,
          27.77256145178569,
          27.769041462299498,
          27.738835309425156,
          27.51414833339814,
          27.213282098085187,
          26.315509204749816,
          25.514449879373416,
          24.855102091162024,
          24.458402159598364,
          24.31578287579785,
          23.860731272020246,
          21.496193458115357,
          2.214231108809855,
          0,
          -2.4584895899339045,
          -3.8399772956421288,
          -4.6798362069195605,
          -4.818261408373829,
          -5.479799759187642,
          -5.5821553233651855
         ],
         "yaxis": "y"
        },
        {
         "alignmentgroup": "True",
         "customdata": [
          [
           200.41665151369662,
           "WASHINGTON COMMANDERS",
           "DF",
           "Washington Fantasy Football Team"
          ],
          [
           187.30542359265817,
           "BUFFALO BILLS",
           "DF",
           "Down with the Sickness unto Death"
          ],
          [
           177.0913724206438,
           "CAROLINA PANTHERS",
           "DF",
           "Verdansk Vaqueros FFC"
          ],
          [
           162.54612930712992,
           "NEW ENGLAND PATRIOTS",
           "DF",
           "Down with the Sickness unto Death"
          ],
          [
           158.80885007738408,
           "SAN FRANCISCO 49ERS",
           "DF",
           "Crocodilopolis Body Snatchers"
          ],
          [
           157.7259720757817,
           "CHICAGO BEARS",
           "DF",
           "Washington Fantasy Football Team"
          ],
          [
           155.70343699535022,
           "PHILADELPHIA EAGLES",
           "DF",
           "Pretty Big Wieners"
          ],
          [
           153.06355397207537,
           "GREEN BAY PACKERS",
           "DF",
           "WHAM! BAM! Thank You CAM!"
          ],
          [
           152.1951034894767,
           "NEW ORLEANS SAINTS",
           "DF",
           "Down with the Sickness unto Death"
          ],
          [
           151.66180351727448,
           "DENVER BRONCOS",
           "DF",
           "Crocodilopolis Body Snatchers"
          ],
          [
           151.01223722484838,
           "CLEVELAND BROWNS",
           "DF",
           "Crocodilopolis Body Snatchers"
          ],
          [
           149.8426772069631,
           "MIAMI DOLPHINS",
           "DF",
           "Pretty Big Wieners"
          ],
          [
           147.7861483748379,
           "DALLAS COWBOYS",
           "DF",
           "Providence Monastic Spirits"
          ],
          [
           147.47285749537133,
           "ARIZONA CARDINALS",
           "DF",
           "Verdansk Vaqueros FFC"
          ],
          [
           146.46292072882886,
           "INDIANAPOLIS COLTS",
           "DF",
           "IDK much about soccer "
          ],
          [
           146.25353817245067,
           "PITTSBURGH STEELERS",
           "DF",
           "Gus The Bus"
          ],
          [
           145.64596719876045,
           "LOS ANGELES CHARGERS",
           "DF",
           "WHAM! BAM! Thank You CAM!"
          ],
          [
           145.03854780641262,
           "TAMPA BAY BUCCANEERS",
           "DF",
           "Comeback Kings"
          ],
          [
           143.99008956419604,
           "LAS VEGAS RAIDERS",
           "DF",
           "O'Henry's Stiffies"
          ],
          [
           143.90307677796855,
           "LOS ANGELES RAMS",
           "DF",
           "Comeback Kings"
          ],
          [
           143.33536648943863,
           "TENNESSEE TITANS",
           "DF",
           "Providence Monastic Spirits"
          ],
          [
           142.24996541476582,
           "NEW YORK GIANTS",
           "DF",
           "O'Henry's Stiffies"
          ],
          [
           140.553982215306,
           "CINCINNATI BENGALS",
           "DF",
           "Pretty Big Wieners"
          ],
          [
           139.9935184259768,
           "BALTIMORE RAVENS",
           "DF",
           "Gus The Bus"
          ],
          [
           139.717747781974,
           "JACKSONVILLE JAGUARS",
           "DF",
           "Saskatoon Squatches"
          ],
          [
           138.7125835435088,
           "SEATTLE SEAHAWKS",
           "DF",
           "Saskatoon Squatches"
          ],
          [
           138.43719552454542,
           "MINNESOTA VIKINGS",
           "DF",
           "Comeback Kings"
          ],
          [
           138.25092680199347,
           "NEW YORK JETS",
           "DF",
           "Providence Monastic Spirits"
          ],
          [
           138.04114440407028,
           "KANSAS CITY CHIEFS",
           "DF",
           "IDK much about soccer "
          ],
          [
           137.31809989286862,
           "DETROIT LIONS",
           "DF",
           "Verdansk Vaqueros FFC"
          ],
          [
           135.82293110743836,
           "ATLANTA FALCONS",
           "DF",
           "O'Henry's Stiffies"
          ],
          [
           135.05893556042886,
           "HOUSTON TEXANS",
           "DF",
           "Saskatoon Squatches"
          ]
         ],
         "hovertemplate": "<b>%{hovertext}</b><br><br>franchiseAbbrev=%{x}<br>Relative Value=%{y}<br>Predicted Points=%{customdata[0]}<extra></extra>",
         "hovertext": [
          "WASHINGTON COMMANDERS",
          "BUFFALO BILLS",
          "CAROLINA PANTHERS",
          "NEW ENGLAND PATRIOTS",
          "SAN FRANCISCO 49ERS",
          "CHICAGO BEARS",
          "PHILADELPHIA EAGLES",
          "GREEN BAY PACKERS",
          "NEW ORLEANS SAINTS",
          "DENVER BRONCOS",
          "CLEVELAND BROWNS",
          "MIAMI DOLPHINS",
          "DALLAS COWBOYS",
          "ARIZONA CARDINALS",
          "INDIANAPOLIS COLTS",
          "PITTSBURGH STEELERS",
          "LOS ANGELES CHARGERS",
          "TAMPA BAY BUCCANEERS",
          "LAS VEGAS RAIDERS",
          "LOS ANGELES RAMS",
          "TENNESSEE TITANS",
          "NEW YORK GIANTS",
          "CINCINNATI BENGALS",
          "BALTIMORE RAVENS",
          "JACKSONVILLE JAGUARS",
          "SEATTLE SEAHAWKS",
          "MINNESOTA VIKINGS",
          "NEW YORK JETS",
          "KANSAS CITY CHIEFS",
          "DETROIT LIONS",
          "ATLANTA FALCONS",
          "HOUSTON TEXANS"
         ],
         "legendgroup": "DF",
         "marker": {
          "color": "hsla(35, 70%, 65%, 1)",
          "pattern": {
           "shape": ""
          }
         },
         "name": "DF",
         "offsetgroup": "DF",
         "orientation": "v",
         "showlegend": true,
         "text": [
          "WASHINGTON COMMANDERS",
          "BUFFALO BILLS",
          "CAROLINA PANTHERS",
          "NEW ENGLAND PATRIOTS",
          "SAN FRANCISCO 49ERS",
          "CHICAGO BEARS",
          "PHILADELPHIA EAGLES",
          "GREEN BAY PACKERS",
          "NEW ORLEANS SAINTS",
          "DENVER BRONCOS",
          "CLEVELAND BROWNS",
          "MIAMI DOLPHINS",
          "DALLAS COWBOYS",
          "ARIZONA CARDINALS",
          "INDIANAPOLIS COLTS",
          "PITTSBURGH STEELERS",
          "LOS ANGELES CHARGERS",
          "TAMPA BAY BUCCANEERS",
          "LAS VEGAS RAIDERS",
          "LOS ANGELES RAMS",
          "TENNESSEE TITANS",
          "NEW YORK GIANTS",
          "CINCINNATI BENGALS",
          "BALTIMORE RAVENS",
          "JACKSONVILLE JAGUARS",
          "SEATTLE SEAHAWKS",
          "MINNESOTA VIKINGS",
          "NEW YORK JETS",
          "KANSAS CITY CHIEFS",
          "DETROIT LIONS",
          "ATLANTA FALCONS",
          "HOUSTON TEXANS"
         ],
         "textposition": "auto",
         "type": "bar",
         "x": [
          "WFFT",
          "SickD",
          "VV FFC",
          "SickD",
          "CrocoBS",
          "WFFT",
          "PBW",
          "WAM",
          "SickD",
          "CrocoBS",
          "CrocoBS",
          "PBW",
          "PMS",
          "VV FFC",
          "IDK",
          "GUS",
          "WAM",
          "CMBK",
          "OHS",
          "CMBK",
          "PMS",
          "OHS",
          "PBW",
          "GUS",
          "SAS",
          "SAS",
          "CMBK",
          "PMS",
          "IDK",
          "VV FFC",
          "OHS",
          "SAS"
         ],
         "xaxis": "x",
         "y": [
          62.37550710962634,
          49.26427918858789,
          39.05022801657353,
          24.504984903059636,
          20.7677056733138,
          19.684827671711417,
          17.662292591279936,
          15.022409568005088,
          14.153959085406427,
          13.620659113204198,
          12.971092820778097,
          11.801532802892808,
          9.745003970767613,
          9.431713091301049,
          8.421776324758582,
          8.212393768380394,
          7.604822794690165,
          6.997403402342343,
          5.94894516012576,
          5.86193237389827,
          5.294222085368347,
          4.208821010695544,
          2.512837811235727,
          1.9523740219065076,
          1.6766033779037173,
          0.6714391394385189,
          0.3960511204751356,
          0.20978239792319187,
          0,
          -0.7230445112016639,
          -2.218213296631916,
          -2.9822088436414163
         ],
         "yaxis": "y"
        }
       ],
       "layout": {
        "barmode": "stack",
        "font": {
         "family": "Skia"
        },
        "legend": {
         "title": {
          "text": "pos"
         },
         "tracegroupgap": 0
        },
        "margin": {
         "t": 60
        },
        "plot_bgcolor": "rgba(0,0,0,0)",
        "showlegend": false,
        "template": {
         "data": {
          "bar": [
           {
            "error_x": {
             "color": "#2a3f5f"
            },
            "error_y": {
             "color": "#2a3f5f"
            },
            "marker": {
             "line": {
              "color": "#E5ECF6",
              "width": 0.5
             },
             "pattern": {
              "fillmode": "overlay",
              "size": 10,
              "solidity": 0.2
             }
            },
            "type": "bar"
           }
          ],
          "barpolar": [
           {
            "marker": {
             "line": {
              "color": "#E5ECF6",
              "width": 0.5
             },
             "pattern": {
              "fillmode": "overlay",
              "size": 10,
              "solidity": 0.2
             }
            },
            "type": "barpolar"
           }
          ],
          "carpet": [
           {
            "aaxis": {
             "endlinecolor": "#2a3f5f",
             "gridcolor": "white",
             "linecolor": "white",
             "minorgridcolor": "white",
             "startlinecolor": "#2a3f5f"
            },
            "baxis": {
             "endlinecolor": "#2a3f5f",
             "gridcolor": "white",
             "linecolor": "white",
             "minorgridcolor": "white",
             "startlinecolor": "#2a3f5f"
            },
            "type": "carpet"
           }
          ],
          "choropleth": [
           {
            "colorbar": {
             "outlinewidth": 0,
             "ticks": ""
            },
            "type": "choropleth"
           }
          ],
          "contour": [
           {
            "colorbar": {
             "outlinewidth": 0,
             "ticks": ""
            },
            "colorscale": [
             [
              0,
              "#0d0887"
             ],
             [
              0.1111111111111111,
              "#46039f"
             ],
             [
              0.2222222222222222,
              "#7201a8"
             ],
             [
              0.3333333333333333,
              "#9c179e"
             ],
             [
              0.4444444444444444,
              "#bd3786"
             ],
             [
              0.5555555555555556,
              "#d8576b"
             ],
             [
              0.6666666666666666,
              "#ed7953"
             ],
             [
              0.7777777777777778,
              "#fb9f3a"
             ],
             [
              0.8888888888888888,
              "#fdca26"
             ],
             [
              1,
              "#f0f921"
             ]
            ],
            "type": "contour"
           }
          ],
          "contourcarpet": [
           {
            "colorbar": {
             "outlinewidth": 0,
             "ticks": ""
            },
            "type": "contourcarpet"
           }
          ],
          "heatmap": [
           {
            "colorbar": {
             "outlinewidth": 0,
             "ticks": ""
            },
            "colorscale": [
             [
              0,
              "#0d0887"
             ],
             [
              0.1111111111111111,
              "#46039f"
             ],
             [
              0.2222222222222222,
              "#7201a8"
             ],
             [
              0.3333333333333333,
              "#9c179e"
             ],
             [
              0.4444444444444444,
              "#bd3786"
             ],
             [
              0.5555555555555556,
              "#d8576b"
             ],
             [
              0.6666666666666666,
              "#ed7953"
             ],
             [
              0.7777777777777778,
              "#fb9f3a"
             ],
             [
              0.8888888888888888,
              "#fdca26"
             ],
             [
              1,
              "#f0f921"
             ]
            ],
            "type": "heatmap"
           }
          ],
          "heatmapgl": [
           {
            "colorbar": {
             "outlinewidth": 0,
             "ticks": ""
            },
            "colorscale": [
             [
              0,
              "#0d0887"
             ],
             [
              0.1111111111111111,
              "#46039f"
             ],
             [
              0.2222222222222222,
              "#7201a8"
             ],
             [
              0.3333333333333333,
              "#9c179e"
             ],
             [
              0.4444444444444444,
              "#bd3786"
             ],
             [
              0.5555555555555556,
              "#d8576b"
             ],
             [
              0.6666666666666666,
              "#ed7953"
             ],
             [
              0.7777777777777778,
              "#fb9f3a"
             ],
             [
              0.8888888888888888,
              "#fdca26"
             ],
             [
              1,
              "#f0f921"
             ]
            ],
            "type": "heatmapgl"
           }
          ],
          "histogram": [
           {
            "marker": {
             "pattern": {
              "fillmode": "overlay",
              "size": 10,
              "solidity": 0.2
             }
            },
            "type": "histogram"
           }
          ],
          "histogram2d": [
           {
            "colorbar": {
             "outlinewidth": 0,
             "ticks": ""
            },
            "colorscale": [
             [
              0,
              "#0d0887"
             ],
             [
              0.1111111111111111,
              "#46039f"
             ],
             [
              0.2222222222222222,
              "#7201a8"
             ],
             [
              0.3333333333333333,
              "#9c179e"
             ],
             [
              0.4444444444444444,
              "#bd3786"
             ],
             [
              0.5555555555555556,
              "#d8576b"
             ],
             [
              0.6666666666666666,
              "#ed7953"
             ],
             [
              0.7777777777777778,
              "#fb9f3a"
             ],
             [
              0.8888888888888888,
              "#fdca26"
             ],
             [
              1,
              "#f0f921"
             ]
            ],
            "type": "histogram2d"
           }
          ],
          "histogram2dcontour": [
           {
            "colorbar": {
             "outlinewidth": 0,
             "ticks": ""
            },
            "colorscale": [
             [
              0,
              "#0d0887"
             ],
             [
              0.1111111111111111,
              "#46039f"
             ],
             [
              0.2222222222222222,
              "#7201a8"
             ],
             [
              0.3333333333333333,
              "#9c179e"
             ],
             [
              0.4444444444444444,
              "#bd3786"
             ],
             [
              0.5555555555555556,
              "#d8576b"
             ],
             [
              0.6666666666666666,
              "#ed7953"
             ],
             [
              0.7777777777777778,
              "#fb9f3a"
             ],
             [
              0.8888888888888888,
              "#fdca26"
             ],
             [
              1,
              "#f0f921"
             ]
            ],
            "type": "histogram2dcontour"
           }
          ],
          "mesh3d": [
           {
            "colorbar": {
             "outlinewidth": 0,
             "ticks": ""
            },
            "type": "mesh3d"
           }
          ],
          "parcoords": [
           {
            "line": {
             "colorbar": {
              "outlinewidth": 0,
              "ticks": ""
             }
            },
            "type": "parcoords"
           }
          ],
          "pie": [
           {
            "automargin": true,
            "type": "pie"
           }
          ],
          "scatter": [
           {
            "fillpattern": {
             "fillmode": "overlay",
             "size": 10,
             "solidity": 0.2
            },
            "type": "scatter"
           }
          ],
          "scatter3d": [
           {
            "line": {
             "colorbar": {
              "outlinewidth": 0,
              "ticks": ""
             }
            },
            "marker": {
             "colorbar": {
              "outlinewidth": 0,
              "ticks": ""
             }
            },
            "type": "scatter3d"
           }
          ],
          "scattercarpet": [
           {
            "marker": {
             "colorbar": {
              "outlinewidth": 0,
              "ticks": ""
             }
            },
            "type": "scattercarpet"
           }
          ],
          "scattergeo": [
           {
            "marker": {
             "colorbar": {
              "outlinewidth": 0,
              "ticks": ""
             }
            },
            "type": "scattergeo"
           }
          ],
          "scattergl": [
           {
            "marker": {
             "colorbar": {
              "outlinewidth": 0,
              "ticks": ""
             }
            },
            "type": "scattergl"
           }
          ],
          "scattermapbox": [
           {
            "marker": {
             "colorbar": {
              "outlinewidth": 0,
              "ticks": ""
             }
            },
            "type": "scattermapbox"
           }
          ],
          "scatterpolar": [
           {
            "marker": {
             "colorbar": {
              "outlinewidth": 0,
              "ticks": ""
             }
            },
            "type": "scatterpolar"
           }
          ],
          "scatterpolargl": [
           {
            "marker": {
             "colorbar": {
              "outlinewidth": 0,
              "ticks": ""
             }
            },
            "type": "scatterpolargl"
           }
          ],
          "scatterternary": [
           {
            "marker": {
             "colorbar": {
              "outlinewidth": 0,
              "ticks": ""
             }
            },
            "type": "scatterternary"
           }
          ],
          "surface": [
           {
            "colorbar": {
             "outlinewidth": 0,
             "ticks": ""
            },
            "colorscale": [
             [
              0,
              "#0d0887"
             ],
             [
              0.1111111111111111,
              "#46039f"
             ],
             [
              0.2222222222222222,
              "#7201a8"
             ],
             [
              0.3333333333333333,
              "#9c179e"
             ],
             [
              0.4444444444444444,
              "#bd3786"
             ],
             [
              0.5555555555555556,
              "#d8576b"
             ],
             [
              0.6666666666666666,
              "#ed7953"
             ],
             [
              0.7777777777777778,
              "#fb9f3a"
             ],
             [
              0.8888888888888888,
              "#fdca26"
             ],
             [
              1,
              "#f0f921"
             ]
            ],
            "type": "surface"
           }
          ],
          "table": [
           {
            "cells": {
             "fill": {
              "color": "#EBF0F8"
             },
             "line": {
              "color": "white"
             }
            },
            "header": {
             "fill": {
              "color": "#C8D4E3"
             },
             "line": {
              "color": "white"
             }
            },
            "type": "table"
           }
          ]
         },
         "layout": {
          "annotationdefaults": {
           "arrowcolor": "#2a3f5f",
           "arrowhead": 0,
           "arrowwidth": 1
          },
          "autotypenumbers": "strict",
          "coloraxis": {
           "colorbar": {
            "outlinewidth": 0,
            "ticks": ""
           }
          },
          "colorscale": {
           "diverging": [
            [
             0,
             "#8e0152"
            ],
            [
             0.1,
             "#c51b7d"
            ],
            [
             0.2,
             "#de77ae"
            ],
            [
             0.3,
             "#f1b6da"
            ],
            [
             0.4,
             "#fde0ef"
            ],
            [
             0.5,
             "#f7f7f7"
            ],
            [
             0.6,
             "#e6f5d0"
            ],
            [
             0.7,
             "#b8e186"
            ],
            [
             0.8,
             "#7fbc41"
            ],
            [
             0.9,
             "#4d9221"
            ],
            [
             1,
             "#276419"
            ]
           ],
           "sequential": [
            [
             0,
             "#0d0887"
            ],
            [
             0.1111111111111111,
             "#46039f"
            ],
            [
             0.2222222222222222,
             "#7201a8"
            ],
            [
             0.3333333333333333,
             "#9c179e"
            ],
            [
             0.4444444444444444,
             "#bd3786"
            ],
            [
             0.5555555555555556,
             "#d8576b"
            ],
            [
             0.6666666666666666,
             "#ed7953"
            ],
            [
             0.7777777777777778,
             "#fb9f3a"
            ],
            [
             0.8888888888888888,
             "#fdca26"
            ],
            [
             1,
             "#f0f921"
            ]
           ],
           "sequentialminus": [
            [
             0,
             "#0d0887"
            ],
            [
             0.1111111111111111,
             "#46039f"
            ],
            [
             0.2222222222222222,
             "#7201a8"
            ],
            [
             0.3333333333333333,
             "#9c179e"
            ],
            [
             0.4444444444444444,
             "#bd3786"
            ],
            [
             0.5555555555555556,
             "#d8576b"
            ],
            [
             0.6666666666666666,
             "#ed7953"
            ],
            [
             0.7777777777777778,
             "#fb9f3a"
            ],
            [
             0.8888888888888888,
             "#fdca26"
            ],
            [
             1,
             "#f0f921"
            ]
           ]
          },
          "colorway": [
           "#636efa",
           "#EF553B",
           "#00cc96",
           "#ab63fa",
           "#FFA15A",
           "#19d3f3",
           "#FF6692",
           "#B6E880",
           "#FF97FF",
           "#FECB52"
          ],
          "font": {
           "color": "#2a3f5f"
          },
          "geo": {
           "bgcolor": "white",
           "lakecolor": "white",
           "landcolor": "#E5ECF6",
           "showlakes": true,
           "showland": true,
           "subunitcolor": "white"
          },
          "hoverlabel": {
           "align": "left"
          },
          "hovermode": "closest",
          "mapbox": {
           "style": "light"
          },
          "paper_bgcolor": "white",
          "plot_bgcolor": "#E5ECF6",
          "polar": {
           "angularaxis": {
            "gridcolor": "white",
            "linecolor": "white",
            "ticks": ""
           },
           "bgcolor": "#E5ECF6",
           "radialaxis": {
            "gridcolor": "white",
            "linecolor": "white",
            "ticks": ""
           }
          },
          "scene": {
           "xaxis": {
            "backgroundcolor": "#E5ECF6",
            "gridcolor": "white",
            "gridwidth": 2,
            "linecolor": "white",
            "showbackground": true,
            "ticks": "",
            "zerolinecolor": "white"
           },
           "yaxis": {
            "backgroundcolor": "#E5ECF6",
            "gridcolor": "white",
            "gridwidth": 2,
            "linecolor": "white",
            "showbackground": true,
            "ticks": "",
            "zerolinecolor": "white"
           },
           "zaxis": {
            "backgroundcolor": "#E5ECF6",
            "gridcolor": "white",
            "gridwidth": 2,
            "linecolor": "white",
            "showbackground": true,
            "ticks": "",
            "zerolinecolor": "white"
           }
          },
          "shapedefaults": {
           "line": {
            "color": "#2a3f5f"
           }
          },
          "ternary": {
           "aaxis": {
            "gridcolor": "white",
            "linecolor": "white",
            "ticks": ""
           },
           "baxis": {
            "gridcolor": "white",
            "linecolor": "white",
            "ticks": ""
           },
           "bgcolor": "#E5ECF6",
           "caxis": {
            "gridcolor": "white",
            "linecolor": "white",
            "ticks": ""
           }
          },
          "title": {
           "x": 0.05
          },
          "xaxis": {
           "automargin": true,
           "gridcolor": "white",
           "linecolor": "white",
           "ticks": "",
           "title": {
            "standoff": 15
           },
           "zerolinecolor": "white",
           "zerolinewidth": 2
          },
          "yaxis": {
           "automargin": true,
           "gridcolor": "white",
           "linecolor": "white",
           "ticks": "",
           "title": {
            "standoff": 15
           },
           "zerolinecolor": "white",
           "zerolinewidth": 2
          }
         }
        },
        "title": {
         "text": "Franchise Comparison"
        },
        "xaxis": {
         "anchor": "y",
         "categoryorder": "total descending",
         "domain": [
          0,
          1
         ],
         "title": {
          "text": "franchiseAbbrev"
         }
        },
        "yaxis": {
         "anchor": "x",
         "domain": [
          0,
          1
         ],
         "title": {
          "text": "Relative Value"
         }
        }
       }
      }
     },
     "metadata": {},
     "output_type": "display_data"
    }
   ],
   "source": [
    "#@app.route('/compareFranchises')\n",
    "#@login_required\n",
    "#def compareFranchises():\n",
    "user_league = \"53906\"\n",
    "\n",
    "# Get Franchises in the league\n",
    "franchise_df = mfl.get_franchises(user_league)\n",
    "# Append a franchise for free agents\n",
    "franchise_df = franchise_df.append({\"franchiseID\":\"FA\", \"franchiseName\":\"Free Agent\", \"franchiseAbbrev\":\"FA\"}, ignore_index=True)\n",
    "\n",
    "# Get franchise rosters\n",
    "rosters_df = mfl.get_rosters(user_league)\n",
    "\n",
    "# Get Free Agents\n",
    "freeAgent_df = mfl.get_freeAgents(user_league)\n",
    "\n",
    "# Get all players, sharkRank, and ADP\n",
    "predictions = db.get_df(\"predictions\")\n",
    "\n",
    "# Merge all dfs\n",
    "complete = predictions.merge(rosters_df, on='id_mfl', how='left').merge(franchise_df[['franchiseID', 'franchiseName', 'franchiseAbbrev']], on='franchiseID', how='left')\n",
    "complete['franchiseID'].fillna(\"FA\", inplace=True)\n",
    "complete['franchiseName'].fillna(\"Free Agent\", inplace=True)\n",
    "complete['rosterStatus'].fillna(\"Free Agent\", inplace=True)\n",
    "\n",
    "# Get info on available slots from MFL site\n",
    "posMax = {\"QB\":2, \"RB\":5, \"WR\":6, \"TE\":5, \"PK\":2, \"DF\":2}\n",
    "posMin = {\"QB\":1, \"RB\":2, \"WR\":2, \"TE\":2, \"PK\":2, \"DF\":2}\n",
    "totalStarters = 15\n",
    "predMethod = \"pred\"\n",
    "\n",
    "# Select starters\n",
    "df = analysis.starterSelector(complete, how=predMethod, startersMax=totalStarters, posMax=posMax, posMin=posMin)\n",
    "\n",
    "# Find the lowest scoring player on the field and set them as the low bar\n",
    "for x in [\"QB\", \"RB\", \"WR\", \"TE\", \"PK\", \"DF\"]:\n",
    "    positionMinPred = df.loc[(df['pos']==x) & (df['starting']=='Starter'), predMethod].min()\n",
    "    # Calculate relative values\n",
    "    df.loc[df['pos']==x, 'relativeValue'] = df.loc[df['pos']==x, predMethod] - positionMinPred\n",
    "\n",
    "# Visualize the data\n",
    "fig = viz.compareFranchises(df, how=predMethod)\n",
    "# Encode in JSON format\n",
    "graphJSON = json.dumps(fig, cls=plotly.utils.PlotlyJSONEncoder)\n",
    "# Render html template in flask\n",
    "#return render_template('compareFranchises.html', graphJSON=graphJSON)"
   ]
  },
  {
   "cell_type": "code",
   "execution_count": null,
   "metadata": {},
   "outputs": [],
   "source": [
    "#@app.route('/liveScoring')\n",
    "#@login_required\n",
    "#def liveScoring():\n",
    "user_league = \"53906\"\n",
    "\n",
    "# Get MFL scoring data\n",
    "liveScores = get_mfl_liveScoring(user_league)\n",
    "# Get Franchises in the league\n",
    "franchises = get_mfl_league(user_league)\n",
    "# Get all players, sharkRank, and ADP\n",
    "predictions = get_df(\"predictions\")\n",
    "\n",
    "# merge predictions, franchises, and liveScores\n",
    "merged = liveScores.merge(franchises, how='left', on='franchiseID').merge(predictions, how='left', on='id_mfl')\n",
    "# Clean\n",
    "merged['liveScore'] = merged.liveScore.astype('float64')\n",
    "merged['secondsRemaining'] = merged.secondsRemaining.astype('float64')\n",
    "\n",
    "# calculate scoreRemaining\n",
    "merged['weeklyPred'] = merged['pred'] / 17\n",
    "def calcScoreRemaining(row):\n",
    "    result = ((row['weeklyPred']) * (row['secondsRemaining'] / 3600)) + row['liveScore']\n",
    "    return result\n",
    "merged['scoreRemaining'] = merged.apply(calcScoreRemaining, axis=1)\n",
    "# Claculate difference between projection/actual\n",
    "merged['diff'] = merged.scoreRemaining - merged.weeklyPred\n",
    "# Normalize difference\n",
    "merged.loc[merged['diff']>20, 'diff'] = 20\n",
    "merged.loc[merged['diff']<-20, 'diff'] = -20\n",
    "merged['scaled'] = round(merged['diff'] * 255 / 20, 0)\n",
    "merged.dropna(inplace=True)\n",
    "merged['scaled'] = merged['scaled'].astype('int')\n",
    "# Set colors for chart\n",
    "def colorPicker(row):\n",
    "    scalar = row['scaled']\n",
    "    if scalar >= 0:\n",
    "        red = 255 - scalar\n",
    "        green = 255\n",
    "        blue = 255 - scalar\n",
    "    else:\n",
    "        red = 255 \n",
    "        green = 255 + scalar\n",
    "        blue = 255 + scalar\n",
    "    color = f'rgb({red},{green},{blue})'\n",
    "    return color\n",
    "merged['color'] = merged.apply(colorPicker, axis=1)\n",
    "# chart\n",
    "players_onthefield = merged.loc[merged.status==\"starter\"]\n",
    "players_onthefield = players_onthefield.sort_values(by='scoreRemaining', ascending=False, ignore_index=True)\n",
    "fran_rank = players_onthefield.groupby('franchiseName').sum().sort_values(by='scoreRemaining', ascending=False)\n",
    "sorter = fran_rank.index\n",
    "players_onthefield.franchiseName = players_onthefield.franchiseName.astype(\"category\")\n",
    "players_onthefield.franchiseName.cat.set_categories(sorter, inplace=True)\n",
    "players_onthefield.sort_values([\"franchiseName\"], inplace=True)\n",
    "color_discrete_map = dict(zip(players_onthefield.id_mfl, players_onthefield.color))\n",
    "# Create bar chart\n",
    "figLive = px.bar(players_onthefield, \n",
    "            x=\"franchiseName\", \n",
    "            y=\"scoreRemaining\", \n",
    "            color=\"player\", \n",
    "            color_discrete_sequence=list(players_onthefield['color']),\n",
    "            category_orders={\n",
    "                \"pos\": [\"QB\", \"RB\", \"WR\", \"TE\", \"PK\", \"DF\"]},\n",
    "            text='player', \n",
    "            hover_name=\"player\",\n",
    "            hover_data={\n",
    "                'scoreRemaining':True, 'weeklyPred':True, 'scaled':True,\n",
    "                'player':False, 'pos':False, 'franchiseName':False\n",
    "                },\n",
    "            labels={\n",
    "                \"franchiseName\":\"Franchise\",\n",
    "                \"predRelative\":\"Player Value\",\n",
    "                \"pred\":\"ChopBlock Prediction\",\n",
    "                \"sharkAbsolute\":\"FantasySharks Prediction\",\n",
    "                \"adpAbsolute\":\"ADP-Based Prediction\"\n",
    "            }\n",
    "            )\n",
    "figLive.update_layout(\n",
    "            barmode='stack', \n",
    "            xaxis={'categoryorder':'total descending'},\n",
    "            plot_bgcolor='rgba(0,0,0,0)',\n",
    "            title=\"ChopBlock Predictions\",\n",
    "            font_family=\"Skia\",\n",
    "            showlegend=False\n",
    "            )\n",
    "# Encode in JSON format\n",
    "graphJSON = json.dumps(fig, cls=plotly.utils.PlotlyJSONEncoder)\n",
    "# Render html template in flask\n",
    "#return render_template('liveScoring.html', graphJSON=graphJSON)"
   ]
  }
 ],
 "metadata": {
  "kernelspec": {
   "display_name": "Python 3.10.4 ('ff_demo2')",
   "language": "python",
   "name": "python3"
  },
  "language_info": {
   "codemirror_mode": {
    "name": "ipython",
    "version": 3
   },
   "file_extension": ".py",
   "mimetype": "text/x-python",
   "name": "python",
   "nbconvert_exporter": "python",
   "pygments_lexer": "ipython3",
   "version": "3.10.4"
  },
  "orig_nbformat": 4,
  "vscode": {
   "interpreter": {
    "hash": "fa5c3a6218a07f7e7894681e1df75f026830424c1bd98bfea49c545e1f4b9302"
   }
  }
 },
 "nbformat": 4,
 "nbformat_minor": 2
}
